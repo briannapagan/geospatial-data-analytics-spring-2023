{
 "cells": [
  {
   "cell_type": "markdown",
   "metadata": {},
   "source": [
    "# Pysheds"
   ]
  },
  {
   "cell_type": "markdown",
   "metadata": {},
   "source": [
    "Pysheds is an open-source library designed to help with processing of digital elevation models (DEMs), particularly for hydrologic analysis. Pysheds performs many of the basic hydrologic functions offered by commercial software such as ArcGIS, including catchment delineation and accumulation computation.\n",
    "\n",
    "Pysheds is designed with speed in mind. It can delineate a flow direction grid of ~10 million cells in less than 5 seconds. Flow accumulation for a grid of 36 million cells can be computed in about 15 seconds. These methods can be readily automated and incorporated into web services: for instance, a web mapping service like leaflet.js could use pysheds to generate contributing areas for locations of interest on-the-fly.\n",
    "\n",
    "The library is available at my github here: https://github.com/mdbartos/pysheds\n",
    "\n",
    "A full feature list is given below:\n",
    "\n",
    "Hydrologic Functions:\n",
    "- flowdir: DEM to flow direction.\n",
    "- catchment: Delineate catchment from flow direction.\n",
    "- accumulation: Flow direction to flow accumulation.\n",
    "- flow_distance: Compute flow distance to outlet.\n",
    "- resolve_flats: Resolve flats in a DEM using the modified method of Garbrecht and Martz (1997).\n",
    "- fraction: Compute fractional contributing area between differently-sized grids.\n",
    "- extract_river_network: Extract river network at a given accumulation threshold.\n",
    "- cell_area: Compute (projected) area of cells.\n",
    "- cell_distances: Compute (projected) channel length within cells.\n",
    "- cell_dh: Compute the elevation change between cells.\n",
    "- cell_slopes: Compute the slopes of cells.\n",
    "Utilities:\n",
    "- view: Returns a view of a dataset at a given bounding box and resolution.\n",
    "- clip_to: Clip the current view to the extent of nonzero values in a given dataset.\n",
    "- resize: Resize a dataset to a new resolution.\n",
    "- rasterize: Convert a vector dataset to a raster dataset.\n",
    "- polygonize: Convert a raster dataset to a vector dataset.\n",
    "- check_cycles: Check for cycles in a flow direction grid.\n",
    "- set_nodata: Set nodata value for a dataset.\n",
    "I/O:\n",
    "- read_ascii: Reads ascii gridded data.\n",
    "- read_raster: Reads raster gridded data.\n",
    "- to_ascii: Write grids to ascii files.\n",
    "\n",
    "\n",
    "An overview with examples is given below:"
   ]
  },
  {
   "cell_type": "markdown",
   "metadata": {},
   "source": [
    "## Read DEM data and plot"
   ]
  },
  {
   "cell_type": "code",
   "execution_count": null,
   "metadata": {},
   "outputs": [],
   "source": [
    "# Read elevation raster\n",
    "# ----------------------------\n",
    "from pysheds.grid import Grid\n",
    "\n",
    "grid = Grid.from_raster('data/elevation.tiff')\n",
    "dem = grid.read_raster('data/elevation.tiff')\n",
    "\n",
    "\n",
    "import numpy as np\n",
    "import matplotlib.pyplot as plt\n",
    "from matplotlib import colors\n",
    "import seaborn as sns\n",
    "\n",
    "fig, ax = plt.subplots(figsize=(8,6))\n",
    "fig.patch.set_alpha(0)\n",
    "\n",
    "plt.imshow(dem, extent=grid.extent, cmap='terrain', zorder=1)\n",
    "plt.colorbar(label='Elevation (m)')\n",
    "plt.grid(zorder=0)\n",
    "plt.title('Digital elevation map', size=14)\n",
    "plt.xlabel('Longitude')\n",
    "plt.ylabel('Latitude')\n",
    "plt.tight_layout()"
   ]
  },
  {
   "cell_type": "markdown",
   "metadata": {},
   "source": [
    "# Condition the elevation data\n",
    "\n",
    "The following commands are used to remove any imperfections (sinks) in the digital elevation model. A sink is a cell that does not have an associated drainage value. Drainage values indicate the direction that water will flow out of the cell, and are assigned during the process of creating a flow direction grid for the landscape. The resulting drainage network depends on finding the ‘flow path’ of every cell in the grid, so it is important that the fill step is performed prior to creating a flow direction grid."
   ]
  },
  {
   "cell_type": "code",
   "execution_count": null,
   "metadata": {},
   "outputs": [],
   "source": [
    "# Condition DEM\n",
    "# ----------------------\n",
    "# Fill pits in DEM\n",
    "pit_filled_dem = grid.fill_pits(dem)\n",
    "\n",
    "# Fill depressions in DEM\n",
    "flooded_dem = grid.fill_depressions(pit_filled_dem)\n",
    "    \n",
    "# Resolve flats in DEM\n",
    "inflated_dem = grid.resolve_flats(flooded_dem)"
   ]
  },
  {
   "cell_type": "markdown",
   "metadata": {},
   "source": [
    "## Elevation to flow direction\n",
    "\n",
    "A flow direction grid assigns a value to each cell to indicate the direction of flow – that is, the direction that\n",
    "water will flow from that particular cell based on the underlying topography of the landscape. This is a crucial\n",
    "step in hydrological modeling, as the direction of flow will determine the ultimate destination of the water flowing across the surface of the land. Flow direction grids are created using the following commands. For every 3x3 cell neighbourhood, the grid processor finds the lowest neighbouring cell from the centre. Each number in the matrix below corresponds to a flow direction – that is, if the centre cell flows due north, its value will be 64; if it flows northeast, its value will be 128, etc. These numbers have no numeric meaning – they are simply codes that define a specific directional value, and are determined using the elevation values from the underlying DEM.\n",
    "\n",
    "![_._](img/flow-direction.png)\n",
    "\n"
   ]
  },
  {
   "cell_type": "code",
   "execution_count": null,
   "metadata": {},
   "outputs": [],
   "source": [
    "# Determine D8 flow directions from DEM\n",
    "# ----------------------\n",
    "# Specify directional mapping\n",
    "dirmap = (64, 128, 1, 2, 4, 8, 16, 32)\n",
    "    \n",
    "# Compute flow directions\n",
    "# -------------------------------------\n",
    "fdir = grid.flowdir(inflated_dem, dirmap=dirmap)"
   ]
  },
  {
   "cell_type": "code",
   "execution_count": null,
   "metadata": {},
   "outputs": [],
   "source": [
    "fig = plt.figure(figsize=(8,6))\n",
    "fig.patch.set_alpha(0)\n",
    "\n",
    "plt.imshow(fdir, extent=grid.extent, cmap='viridis', zorder=2)\n",
    "boundaries = ([0] + sorted(list(dirmap)))\n",
    "plt.colorbar(boundaries= boundaries,\n",
    "             values=sorted(dirmap))\n",
    "plt.xlabel('Longitude')\n",
    "plt.ylabel('Latitude')\n",
    "plt.title('Flow direction grid', size=14)\n",
    "plt.grid(zorder=-1)\n",
    "plt.tight_layout()"
   ]
  },
  {
   "cell_type": "markdown",
   "metadata": {},
   "source": [
    "## Compute accumulation from flow direction\n",
    "\n",
    "The following commands calculate the flow into each cell by identifying the upstream cells that flow into each downslope cell. In other words, each cell’s flow accumulation value is determined by the number of upstream cells flowing into it based on landscape topography.\n",
    "\n",
    "The new flow accumulation raster will be added to your map document. Each cell in the grid contains a value that represents the number of cells upstream from that particular cell. Cells with higher flow accumulation values should be located in areas of lower elevation, such as valleys or drainage channels where water flows naturally while it is following the landscape."
   ]
  },
  {
   "cell_type": "code",
   "execution_count": 20,
   "metadata": {},
   "outputs": [],
   "source": [
    "# Calculate flow accumulation\n",
    "# --------------------------\n",
    "acc = grid.accumulation(fdir, dirmap=dirmap)"
   ]
  },
  {
   "cell_type": "code",
   "execution_count": null,
   "metadata": {},
   "outputs": [],
   "source": [
    "fig, ax = plt.subplots(figsize=(8,6))\n",
    "fig.patch.set_alpha(0)\n",
    "plt.grid('on', zorder=0)\n",
    "im = ax.imshow(acc, extent=grid.extent, zorder=2,\n",
    "               cmap='cubehelix',\n",
    "               norm=colors.LogNorm(1, acc.max()),\n",
    "               interpolation='bilinear')\n",
    "plt.colorbar(im, ax=ax, label='Upstream Cells')\n",
    "plt.title('Flow Accumulation', size=14)\n",
    "plt.xlabel('Longitude')\n",
    "plt.ylabel('Latitude')\n",
    "plt.tight_layout()"
   ]
  },
  {
   "cell_type": "markdown",
   "metadata": {},
   "source": [
    "## Delineate catchment from flow direction\n",
    "\n",
    "Pour point placement is an important step in the process of watershed delineation. A pour point should exist within an area of high flow accumulation because it is used to calculate the total contributing water flow to that\n",
    "given point. In many cases you will already have a file containing the locations of your pour points, whether they are sampling sites, hydrometric stations, or another data source. However in some cases, it may be necessary or preferable to create pour points manually. Instructions have been provided for both cases below"
   ]
  },
  {
   "cell_type": "code",
   "execution_count": null,
   "metadata": {},
   "outputs": [],
   "source": [
    "# Delineate a catchment\n",
    "# ---------------------\n",
    "# Specify pour point\n",
    "x, y = -97.294, 32.737\n",
    "\n",
    "# Snap pour point to high accumulation cell\n",
    "x_snap, y_snap = grid.snap_to_mask(acc > 1000, (x, y))\n",
    "\n",
    "# Delineate the catchment\n",
    "catch = grid.catchment(x=x_snap, y=y_snap, fdir=fdir, dirmap=dirmap, \n",
    "                       xytype='coordinate')\n",
    "\n",
    "# Crop and plot the catchment\n",
    "# ---------------------------\n",
    "# Clip the bounding box to the catchment\n",
    "grid.clip_to(catch)\n",
    "clipped_catch = grid.view(catch)"
   ]
  },
  {
   "cell_type": "code",
   "execution_count": null,
   "metadata": {},
   "outputs": [],
   "source": [
    "# Plot the catchment\n",
    "fig, ax = plt.subplots(figsize=(8,6))\n",
    "fig.patch.set_alpha(0)\n",
    "\n",
    "plt.grid('on', zorder=0)\n",
    "im = ax.imshow(np.where(clipped_catch, clipped_catch, np.nan), extent=grid.extent,\n",
    "               zorder=1, cmap='Greys_r')\n",
    "plt.xlabel('Longitude')\n",
    "plt.ylabel('Latitude')\n",
    "plt.title('Delineated Catchment', size=14)"
   ]
  },
  {
   "cell_type": "markdown",
   "metadata": {},
   "source": [
    "## Extract the river network"
   ]
  },
  {
   "cell_type": "code",
   "execution_count": null,
   "metadata": {},
   "outputs": [],
   "source": [
    "# Extract river network\n",
    "# ---------------------\n",
    "branches = grid.extract_river_network(fdir, acc > 50, dirmap=dirmap)"
   ]
  },
  {
   "cell_type": "code",
   "execution_count": null,
   "metadata": {},
   "outputs": [],
   "source": [
    "sns.set_palette('husl')\n",
    "fig, ax = plt.subplots(figsize=(8.5,6.5))\n",
    "\n",
    "plt.xlim(grid.bbox[0], grid.bbox[2])\n",
    "plt.ylim(grid.bbox[1], grid.bbox[3])\n",
    "ax.set_aspect('equal')\n",
    "\n",
    "for branch in branches['features']:\n",
    "    line = np.asarray(branch['geometry']['coordinates'])\n",
    "    plt.plot(line[:, 0], line[:, 1])\n",
    "    \n",
    "_ = plt.title('D8 channels', size=14)"
   ]
  },
  {
   "cell_type": "markdown",
   "metadata": {},
   "source": [
    "## Compute flow distance from flow direction\n"
   ]
  },
  {
   "cell_type": "code",
   "execution_count": null,
   "metadata": {},
   "outputs": [],
   "source": [
    "# Calculate distance to outlet from each cell\n",
    "# -------------------------------------------\n",
    "dist = grid.distance_to_outlet(x=x_snap, y=y_snap, fdir=fdir, dirmap=dirmap,\n",
    "                               xytype='coordinate')"
   ]
  },
  {
   "cell_type": "code",
   "execution_count": null,
   "metadata": {},
   "outputs": [],
   "source": [
    "fig, ax = plt.subplots(figsize=(8,6))\n",
    "fig.patch.set_alpha(0)\n",
    "plt.grid('on', zorder=0)\n",
    "im = ax.imshow(dist, extent=grid.extent, zorder=2,\n",
    "               cmap='cubehelix_r')\n",
    "plt.colorbar(im, ax=ax, label='Distance to outlet (cells)')\n",
    "plt.xlabel('Longitude')\n",
    "plt.ylabel('Latitude')\n",
    "plt.title('Flow Distance', size=14)"
   ]
  },
  {
   "cell_type": "markdown",
   "metadata": {},
   "source": [
    "## Add land cover data"
   ]
  },
  {
   "cell_type": "code",
   "execution_count": null,
   "metadata": {},
   "outputs": [],
   "source": [
    "# Combine with land cover data\n",
    "# ---------------------\n",
    "terrain = grid.read_raster('data/impervious_area/impervious_area.tiff', window=grid.bbox,\n",
    "                           window_crs=grid.crs, nodata=0)\n",
    "# Reproject data to grid's coordinate reference system\n",
    "projected_terrain = terrain.to_crs(grid.crs)\n",
    "# View data in catchment's spatial extent\n",
    "catchment_terrain = grid.view(projected_terrain, nodata=np.nan)"
   ]
  },
  {
   "cell_type": "code",
   "execution_count": null,
   "metadata": {},
   "outputs": [],
   "source": [
    "fig, ax = plt.subplots(figsize=(8,6))\n",
    "fig.patch.set_alpha(0)\n",
    "plt.grid('on', zorder=0)\n",
    "im = ax.imshow(catchment_terrain, extent=grid.extent, zorder=2,\n",
    "               cmap='bone')\n",
    "plt.colorbar(im, ax=ax, label='Percent impervious area')\n",
    "plt.xlabel('Longitude')\n",
    "plt.ylabel('Latitude')\n",
    "plt.title('Percent impervious area', size=14)"
   ]
  },
  {
   "cell_type": "markdown",
   "metadata": {},
   "source": [
    "## Add vector data"
   ]
  },
  {
   "cell_type": "code",
   "execution_count": null,
   "metadata": {},
   "outputs": [],
   "source": [
    "# Convert catchment raster to vector and combine with soils shapefile\n",
    "# ---------------------\n",
    "# Read soils shapefile\n",
    "import pandas as pd\n",
    "import geopandas as gpd\n",
    "from shapely import geometry, ops\n",
    "soils = gpd.read_file('data/soils/soils.shp')\n",
    "soil_id = 'MUKEY'\n",
    "# Convert catchment raster to vector geometry and find intersection\n",
    "shapes = grid.polygonize()\n",
    "catchment_polygon = ops.unary_union([geometry.shape(shape)\n",
    "                                     for shape, value in shapes])\n",
    "soils = soils[soils.intersects(catchment_polygon)]\n",
    "catchment_soils = gpd.GeoDataFrame(soils[soil_id], \n",
    "                                   geometry=soils.intersection(catchment_polygon))\n",
    "# Convert soil types to simple integer values\n",
    "soil_types = np.unique(catchment_soils[soil_id])\n",
    "soil_types = pd.Series(np.arange(soil_types.size), index=soil_types)\n",
    "catchment_soils[soil_id] = catchment_soils[soil_id].map(soil_types)"
   ]
  },
  {
   "cell_type": "code",
   "execution_count": null,
   "metadata": {},
   "outputs": [],
   "source": [
    "fig, ax = plt.subplots(figsize=(8, 6))\n",
    "catchment_soils.plot(ax=ax, column=soil_id, categorical=True, cmap='terrain',\n",
    "                     linewidth=0.5, edgecolor='k', alpha=1, aspect='equal')\n",
    "ax.set_xlim(grid.bbox[0], grid.bbox[2])\n",
    "ax.set_ylim(grid.bbox[1], grid.bbox[3])\n",
    "plt.xlabel('Longitude')\n",
    "plt.ylabel('Latitude')\n",
    "ax.set_title('Soil types (vector)', size=14)"
   ]
  },
  {
   "cell_type": "markdown",
   "metadata": {},
   "source": [
    "## Convert from vector to raster"
   ]
  },
  {
   "cell_type": "code",
   "execution_count": null,
   "metadata": {},
   "outputs": [],
   "source": [
    "soil_polygons = zip(catchment_soils.geometry.values, catchment_soils[soil_id].values)\n",
    "soil_raster = grid.rasterize(soil_polygons, fill=np.nan)"
   ]
  },
  {
   "cell_type": "code",
   "execution_count": null,
   "metadata": {},
   "outputs": [],
   "source": [
    "fig, ax = plt.subplots(figsize=(8, 6))\n",
    "plt.imshow(soil_raster, cmap='terrain', extent=grid.extent, zorder=1)\n",
    "boundaries = np.unique(soil_raster[~np.isnan(soil_raster)]).astype(int)\n",
    "#plt.colorbar(boundaries=boundaries,\n",
    "#             values=boundaries)\n",
    "ax.set_xlim(grid.bbox[0], grid.bbox[2])\n",
    "ax.set_ylim(grid.bbox[1], grid.bbox[3])\n",
    "plt.xlabel('Longitude')\n",
    "plt.ylabel('Latitude')\n",
    "ax.set_title('Soil types (raster)', size=14)"
   ]
  }
 ],
 "metadata": {
  "kernelspec": {
   "display_name": "Python 3.10.8 ('traillop')",
   "language": "python",
   "name": "python3"
  },
  "language_info": {
   "codemirror_mode": {
    "name": "ipython",
    "version": 3
   },
   "file_extension": ".py",
   "mimetype": "text/x-python",
   "name": "python",
   "nbconvert_exporter": "python",
   "pygments_lexer": "ipython3",
   "version": "3.10.8"
  },
  "orig_nbformat": 4,
  "vscode": {
   "interpreter": {
    "hash": "31733d31b68f2bf33a40ef3744aa6e6dabc719cffbfa95fe2fcbd4a0d9e78042"
   }
  }
 },
 "nbformat": 4,
 "nbformat_minor": 2
}
