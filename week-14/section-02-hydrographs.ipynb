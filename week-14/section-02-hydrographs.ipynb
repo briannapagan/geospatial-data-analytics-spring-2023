{
 "cells": [
  {
   "cell_type": "markdown",
   "metadata": {},
   "source": [
    "# Hydrograph-Py\n",
    "Hydrograph-py is a hydrological Python package that provides some tools for:\n",
    "\n",
    "1. Separation of flow time-series into peak flow and baseflow.\n",
    "\n",
    "2. Filtering of peak flow events given a minimum event duration.\n",
    "\n",
    "3. Calculation of peak event volumes.\n",
    "\n",
    "4. Calculation of maximum annual peak flow and maximum annual peak event volume.\n",
    "\n",
    "5. Extreme value analysis using GEV fitting and plotting functions.\n",
    "\n",
    "Streamflow separation in this package is based on the principle introduced by [1]. They separated the hydrograph into “quickflow” and “delayed flow” components by arbitrarily projecting a line of constant slope from the beginning of any stream rise until it intersected the falling side of the hydrograph.\n",
    "\n",
    "(1) J.D. Hewlett and A.R. Hibbert. Factors affecting the responseof small watersheds to precipitation in humid areas. In W.E. Sopper and H.W. Lull, editors, Forest Hydrology, 275–290. Oxford, 1967."
   ]
  },
  {
   "cell_type": "code",
   "execution_count": null,
   "metadata": {},
   "outputs": [],
   "source": [
    "from Hydrograph.hydrograph import sepBaseflow, filterpeaks, maxFlowVolStats\n",
    "\n",
    "from Hydrograph.extreme_analysis import exceed, fitGEV, plotPDF, plotCDF, plotGEV"
   ]
  },
  {
   "cell_type": "markdown",
   "metadata": {},
   "source": [
    "## sepBaseflow\n",
    "The ```sepBaseflow``` function separates a time-series into baseflow and peakflow. Fills missing flow records by interpolation. The input and output for this function are shown below."
   ]
  },
  {
   "cell_type": "code",
   "execution_count": null,
   "metadata": {},
   "outputs": [],
   "source": [
    "import pandas as pd\n",
    "sespe = pd.read_csv('data/sespe-raw.csv',parse_dates=['Date'])\n",
    "sespe = sespe.set_index('Date')\n",
    "sespe['Total runoff [m^3 s^-1]'] = sespe['Total runoff [m^3 s^-1]'].astype(float)\n",
    "\n",
    "sespe.head(5)"
   ]
  },
  {
   "cell_type": "code",
   "execution_count": null,
   "metadata": {},
   "outputs": [],
   "source": [
    "def sepBaseflow(x, dt, A, k=0.000546, dt_max=None, tp_min=None):\n",
    "    '''\n",
    "    Separate a time-series into baseflow and peakflow. Fills missing flow records by interpolation.\n",
    "\n",
    "    -----------------------------------------------------------------------------------------------\n",
    "    Input:\n",
    "        x:          Pandas dataframe with Index being a pandas datetime index and 'Date' label. Dataframe should.\n",
    "                    contain one column for flow data, and should be labeled 'Total runoff [m^3 s^-1]'.\n",
    "        dt:         Minimum time-step interval (in minutes) for analysing the data. Minute choices are 5, 15, or 60.\n",
    "        k:          Slope of the dividing line; i.e. slope that defines when peakflow event starts and baseflow separation occurs.\n",
    "                    Default is 0.000546  m^3 s^-1 km^-2 h^-1 (Hewlett and Hibbert 1967).\n",
    "        A:          Catchment area in km^2 upstream of point of interest.\n",
    "        dt_max:     Only interpolate over maximum number of consecutive NaN defined over time period dt_max in hours.\n",
    "        tp_min:     Minimum duration of runoff peak in hours to be selected as being a peak.\n",
    "    -----------------------------------------------------------------------------------------------\n",
    "    Returns:\n",
    "        df_final:    Pandas dataframe with datetime index and the following columns:\n",
    "                        dt [hour]:                       Time difference in hours between two records.\n",
    "                        Total runoff [m^3 s^-1]:         Recorded flow in cumecs for that timestamp.\n",
    "                        Total runoff interp. [m^3 s^-1]: Interpolated recorded flow in cumecs.\n",
    "                        Baseflow [m^3 s^-1]:             Calculated baseflow in cumecs for that timestamp.\n",
    "                        Peakflow [m^3 s^-1]:             Calculated peakflow in cumecs for that timestamp.\n",
    "                        Peak nr.:                        Peak number in sequence. Each peakflow event (i.e. flow above baseflow) is given a unique number\n",
    "                                                         if it classifies as being a peak after filtering.\n",
    "                        Peakflow starts:                 Timestamp when peakflow starts (moment when runoff peak exceeds baseflow).\n",
    "                        Peakflow ends:                   Timestamp when peakflow ends (moment when runoff peak itersects again with baseflow).\n",
    "                        Flow volume [m^3]:               Volume of the flow between two time-steps (total volume; i.e. baseflow + peakflow).\n",
    "                        Max flow [m^3 s^-1]:             Maximum flow of peak flow event.\n",
    "                        Date max. flow:                  Timestamp of maximum flow of peak flow event.\n",
    "                        Tp [hour]:                       Time to peak.\n",
    "    '''"
   ]
  },
  {
   "cell_type": "code",
   "execution_count": null,
   "metadata": {},
   "outputs": [],
   "source": [
    "sespe_baseflow = sepBaseflow(sespe,15,20)\n",
    "sespe_baseflow.head()"
   ]
  },
  {
   "cell_type": "code",
   "execution_count": null,
   "metadata": {},
   "outputs": [],
   "source": [
    "import plotly_express as px\n",
    "fig = px.line(sespe_baseflow, x=sespe_baseflow.index, y=[\"Total runoff [m^3 s^-1]\",'Baseflow [m^3 s^-1]'],title=\"Sespe River Flow\")\n",
    "fig.show()"
   ]
  }
 ],
 "metadata": {
  "kernelspec": {
   "display_name": "Python 3.10.8 ('traillop')",
   "language": "python",
   "name": "python3"
  },
  "language_info": {
   "codemirror_mode": {
    "name": "ipython",
    "version": 3
   },
   "file_extension": ".py",
   "mimetype": "text/x-python",
   "name": "python",
   "nbconvert_exporter": "python",
   "pygments_lexer": "ipython3",
   "version": "3.10.8"
  },
  "orig_nbformat": 4,
  "vscode": {
   "interpreter": {
    "hash": "31733d31b68f2bf33a40ef3744aa6e6dabc719cffbfa95fe2fcbd4a0d9e78042"
   }
  }
 },
 "nbformat": 4,
 "nbformat_minor": 2
}
