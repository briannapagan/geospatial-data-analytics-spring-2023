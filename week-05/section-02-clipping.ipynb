{
 "cells": [
  {
   "cell_type": "markdown",
   "metadata": {},
   "source": [
    "# Section 02: Clipping Vector Data\n",
    "## What Is Clipping or Cropping Data?\n",
    "When you clip or crop spatial data you are removing the data outside of the clip extent. This means that your clipped dataset will be SMALLER (have a smaller spatial extent) than the original dataset. This also means that objects in the data such as polygons or lines will be CUT based on the boundary of the clip object.\n",
    "\n",
    "![_._](img/spatial-extent.png)\n",
    "\n",
    "When Do You Want to Clip Data?\n",
    "You may want to clip your data for several reasons:\n",
    "\n",
    "1. You have more data than you need. For example you have data outside of your study area that you don’t need to process. Clipping it to the study area boundary will make it smaller and easier to manage!\n",
    "2. If you have data outside of your study area and you clip it, you can perform analysis on only that region - thus you won’t need to subset the data further when you perform summary statistics for example.\n",
    "3. When you plot the data you will only see the study region.\n",
    "\n",
    "You will learn how to both crop your data and zoom in on an extent below.\n",
    "Get started by loading your libraries. And be sure that your working directory is set.\n",
    "\n",
    "In this lesson you will find examples of how to clip point and line data using geopandas. At the bottom of the lesson you will see a set of functions that can be used to clip the data in just one line of code. This lesson explains how those functions are built."
   ]
  },
  {
   "cell_type": "code",
   "execution_count": null,
   "metadata": {},
   "outputs": [],
   "source": [
    "# Import libraries\n",
    "import os\n",
    "import numpy as np\n",
    "import matplotlib.pyplot as plt\n",
    "import matplotlib.lines as mlines\n",
    "from matplotlib.colors import ListedColormap\n",
    "import geopandas as gpd\n",
    "\n",
    "# Load the box module from shapely to create box objects\n",
    "from shapely.geometry import box\n",
    "import seaborn as sns\n",
    "\n",
    "# Ignore warning about missing/empty geometries\n",
    "import warnings\n",
    "warnings.filterwarnings('ignore', 'GeoSeries.notna', UserWarning)\n",
    "\n",
    "# Adjust plot font sizes\n",
    "sns.set(font_scale=1.5)\n",
    "sns.set_style(\"white\")\n",
    "\n"
   ]
  },
  {
   "cell_type": "code",
   "execution_count": null,
   "metadata": {},
   "outputs": [],
   "source": [
    "# Import all of your data at the top of your notebook to keep things organized.\n",
    "country_boundary_us_path = (\"data/usa/usa-boundary-dissolved.shp\")\n",
    "country_boundary_us = gpd.read_file(country_boundary_us_path)\n",
    "\n",
    "state_boundary_us_path = (\"data/usa/usa-states-census-2014.shp\")\n",
    "state_boundary_us = gpd.read_file(state_boundary_us_path)\n",
    "\n",
    "pop_places_path = os.path.join(\"data/global/ne_110m_populated_places_simple/ne_110m_populated_places_simple.shp\")\n",
    "pop_places = gpd.read_file(pop_places_path)\n",
    "\n",
    "# Are the data all in the same crs?\n",
    "print(\"country_boundary_us\", country_boundary_us.crs)\n",
    "print(\"state_boundary_us\", state_boundary_us.crs)\n",
    "print(\"pop_places\", pop_places.crs)"
   ]
  },
  {
   "cell_type": "code",
   "execution_count": null,
   "metadata": {},
   "outputs": [],
   "source": [
    "# Plot the data\n",
    "fig, ax = plt.subplots(figsize=(12, 8))\n",
    "\n",
    "country_boundary_us.plot(alpha=.5,\n",
    "                         ax=ax)\n",
    "\n",
    "state_boundary_us.plot(cmap='Greys',\n",
    "                       ax=ax,\n",
    "                       alpha=.5)\n",
    "pop_places.plot(ax=ax)\n",
    "\n",
    "plt.axis('equal')\n",
    "ax.set_axis_off()\n",
    "plt.show()"
   ]
  },
  {
   "cell_type": "markdown",
   "metadata": {},
   "source": [
    "Plot showing populated places for the entire globe overlayed on top of the Continental United States. If your study area is the USA, then you might not need all of the additional points. In this instance, you can clip or crop your data.\n"
   ]
  },
  {
   "cell_type": "markdown",
   "metadata": {},
   "source": [
    "### Clip The Points Shapefile in Python Using Geopandas\n",
    "To remove the points that are outside of your study area, you can clip the data. Removing or clipping data can make the data smaller and inturn plotting and analysis faster.\n",
    "\n",
    "![_._](img/vector-clip.png)\n",
    "\n",
    "\n",
    "When you clip a vector data set with another layer, you remove points, lines or polygons that are outside of the spatial extent of the area that you use to clip the data. This images shows a circular clip region - you will be using a rectangular region in this example. Image Source: ESRI\n",
    "To clip points, lines, and polygons, GeoPandas has a function named ```clip()``` that will clip all types of geometries. This operation used to be much more difficult, involving creating bounding boxes and shapely objects, while using the GeoPandas ```intersection()``` function to clip the data. However, to simplify the process EarthPy developed a ```clip_shp()``` function that would do all of these things automatically. The function was than picked up by GeoPandas and is now a part of their package! Just a small example of how awesome working with open source software can be.\n",
    "\n",
    "```Clip()`` takes three arguments:\n",
    "\n",
    "- gdf: Vector layer (point, line, polygon) to be clipped to mask.\n",
    "- mask: Polygon vector layer used to clip gdf. The mask’s geometry is dissolved into one geometric feature and intersected with gdf.\n",
    "- keep_geom_type: If True, return only geometries of original type in case of intersection resulting in multiple geometry types or GeometryCollections. If False, return all resulting geometries (potentially mixed-types). Default value is False (You don’t need to worry about this argument for this assignment)\n",
    "```clip()``` will clip the data to the boundary of the polygon layer that you select. If there are multiple polygons in your clip_obj object, ```clip()``` will clip the data to the total boundary of all polygons in the layer."
   ]
  },
  {
   "cell_type": "code",
   "execution_count": null,
   "metadata": {},
   "outputs": [],
   "source": [
    "# Clip the data using GeoPandas clip\n",
    "points_clip = gpd.clip(pop_places, country_boundary_us)\n",
    "\n",
    "# View the first 6 rows and a few select columns\n",
    "points_clip[['name', 'geometry', 'scalerank', 'natscale', ]].head()"
   ]
  },
  {
   "cell_type": "markdown",
   "metadata": {},
   "source": [
    "Now you can plot the data to see the newly “clipped” points layer.\n",
    "\n"
   ]
  },
  {
   "cell_type": "code",
   "execution_count": null,
   "metadata": {},
   "outputs": [],
   "source": [
    "# Plot the data\n",
    "fig, ax = plt.subplots(figsize=(12, 8))\n",
    "\n",
    "country_boundary_us.plot(alpha=1,\n",
    "                         color=\"white\",\n",
    "                         edgecolor=\"black\",\n",
    "                         ax=ax)\n",
    "\n",
    "state_boundary_us.plot(cmap='Greys',\n",
    "                       ax=ax,\n",
    "                       alpha=.5)\n",
    "\n",
    "points_clip.plot(ax=ax,\n",
    "                 column='name')\n",
    "ax.set_axis_off()\n",
    "plt.axis('equal')\n",
    "\n",
    "# Label each point - note this is just shown here optionally but is not required for your homework\n",
    "points_clip.apply(lambda x: ax.annotate(text=x['name'],\n",
    "                                        xy=x.geometry.coords[0],\n",
    "                                        xytext=(6, 6), textcoords=\"offset points\",\n",
    "                                        backgroundcolor=\"white\"),\n",
    "                  axis=1)\n",
    "plt.show()"
   ]
  },
  {
   "cell_type": "markdown",
   "metadata": {},
   "source": [
    "### Clip a Line or Polygon Layer to An Extent\n",
    "The process for clipping a line or polygon layer is slightly different than clipping a set of points. To clip a line of polygon feature you will do the following:\n",
    "\n",
    "1. Ensure that your polygon and line layer are in the same coordinate reference system\n",
    "2. Identify what features in the lines layer fall WITHIN the boundary of the polygon layer\n",
    "3. Subset the features within the geometry and reset the geometry of the newly clipped layer to be equal to the clipped data.\n",
    "\n",
    "This last step may seem unusual. When you clip data using shapely and geopandas the default behaviour is for it to only return the clipped geometry. However you may wish to also retain the attributes associated with the geometry. This is where the ```set_geometry()``` method comes into play.\n",
    "\n",
    "For this example you will use the country_boundary layer and a clipped version of the natural earth 10m roads layer. * Import ```ne_10m_n_america_roads.shp``` into python.\n",
    "\n",
    "- Next, check to ensure that the roads and country boundary are in the same CRS. You may need to reproject the data.\n",
    "- Because spatial operations take time, it’s best if you subset your data as much as possible prior to clipping."
   ]
  },
  {
   "cell_type": "code",
   "execution_count": null,
   "metadata": {},
   "outputs": [],
   "source": [
    "# Open the roads layer\n",
    "ne_roads_path = (\"data/global/ne_10m_roads/ne_10m_roads.shp\")\n",
    "ne_roads = gpd.read_file(ne_roads_path)\n",
    "\n",
    "# Are both layers in the same CRS?\n",
    "if (ne_roads.crs == country_boundary_us.crs):\n",
    "    print(\"Both layers are in the same crs!\",\n",
    "          ne_roads.crs, country_boundary_us.crs)"
   ]
  },
  {
   "cell_type": "markdown",
   "metadata": {},
   "source": [
    "### How to Clip Lines and Polygons in Python\n",
    "In your dataset for this week you have 2 layers.\n",
    "\n",
    "1. A global, natural earth roads layer and\n",
    "2. A boundary for the United States.\n",
    "The roads data are imported below. You imported the boundary layer above.\n",
    "\n",
    "If both layers are in the same CRS, you are ready to clip your data. Because the clip functions are new and little testing has been done with them, you will see all of the lines of code required to clip your data. However you can use the ```clip_shp()``` function to clip your data for this week’s class!\n",
    "\n",
    "Be patient while your clip code below runs.\n",
    "\n",
    "To make your code run faster, you can simplify the geometry of your country boundary. Simplify should be used with caution as it does modify your data."
   ]
  },
  {
   "cell_type": "code",
   "execution_count": null,
   "metadata": {},
   "outputs": [],
   "source": [
    "# Simplify the geometry of the clip extent for faster processing\n",
    "# Use this with caution as it modifies your data.\n",
    "country_boundary_us_sim = country_boundary_us.simplify(\n",
    "    .2, preserve_topology=True)"
   ]
  },
  {
   "cell_type": "markdown",
   "metadata": {},
   "source": [
    "Clip and plot the data.\n",
    "\n"
   ]
  },
  {
   "cell_type": "code",
   "execution_count": null,
   "metadata": {},
   "outputs": [],
   "source": [
    "# Clip data\n",
    "ne_roads_clip = gpd.clip(ne_roads, country_boundary_us_sim)\n",
    "\n",
    "# Ignore missing/empty geometries\n",
    "ne_roads_clip = ne_roads_clip[~ne_roads_clip.is_empty]\n",
    "\n",
    "print(\"The clipped data have fewer line objects (represented by rows):\",\n",
    "      ne_roads_clip.shape, ne_roads.shape)"
   ]
  },
  {
   "cell_type": "code",
   "execution_count": null,
   "metadata": {},
   "outputs": [],
   "source": [
    "fig, (ax1, ax2) = plt.subplots(2, 1, figsize=(10, 10))\n",
    "\n",
    "ne_roads.plot(ax=ax1)\n",
    "ne_roads_clip.plot(ax=ax2)\n",
    "\n",
    "ax1.set_title(\"Unclipped roads\")\n",
    "ax2.set_title(\"Clipped roads\")\n",
    "\n",
    "ax1.set_axis_off()\n",
    "ax2.set_axis_off()\n",
    "\n",
    "plt.axis('equal')\n",
    "plt.show()"
   ]
  },
  {
   "cell_type": "markdown",
   "metadata": {},
   "source": [
    "Plot the cropped data.\n",
    "\n"
   ]
  },
  {
   "cell_type": "code",
   "execution_count": null,
   "metadata": {},
   "outputs": [],
   "source": [
    "# Plot the data\n",
    "fig, ax = plt.subplots(figsize=(12, 8))\n",
    "\n",
    "country_boundary_us.plot(alpha=1,\n",
    "                         color=\"white\",\n",
    "                         edgecolor=\"black\",\n",
    "                         ax=ax)\n",
    "\n",
    "ne_roads_clip.plot(ax=ax)\n",
    "\n",
    "ax.set_axis_off()\n",
    "plt.axis('equal')\n",
    "plt.show()"
   ]
  },
  {
   "cell_type": "markdown",
   "metadata": {},
   "source": [
    "### What Does Simplify Do?\n"
   ]
  },
  {
   "cell_type": "code",
   "execution_count": null,
   "metadata": {},
   "outputs": [],
   "source": [
    "fig, (ax1, ax2) = plt.subplots(2, 1, figsize=(10, 10))\n",
    "\n",
    "# Set a larger tolerance yields a blockier polygon\n",
    "country_boundary_us.simplify(2, preserve_topology=True).plot(ax=ax1)\n",
    "\n",
    "# Set  a larger tolerance yields a blockier polygon\n",
    "country_boundary_us.simplify(.2, preserve_topology=True).plot(ax=ax2)\n",
    "\n",
    "ax1.set_title(\n",
    "    \"Data with a higher tolerance value will become visually blockier as there are fewer vertices\")\n",
    "ax2.set_title(\n",
    "    \"Data with a very low tolerance value will look smoother but will take longer to process\")\n",
    "\n",
    "ax1.set_axis_off()\n",
    "ax2.set_axis_off()\n",
    "plt.show()"
   ]
  },
  {
   "cell_type": "code",
   "execution_count": null,
   "metadata": {},
   "outputs": [],
   "source": [
    "# Plot the data by attribute\n",
    "fig, ax = plt.subplots(figsize=(12, 8))\n",
    "\n",
    "country_boundary_us.plot(alpha=1, \n",
    "                         color=\"white\", \n",
    "                         edgecolor=\"black\", \n",
    "                         ax=ax)\n",
    "\n",
    "ne_roads_clip.plot(ax=ax, \n",
    "                   column='type', \n",
    "                   legend=True)\n",
    "ax.set_axis_off()\n",
    "plt.axis('equal')\n",
    "plt.show()"
   ]
  },
  {
   "cell_type": "markdown",
   "metadata": {},
   "source": [
    "The final clipped roads layer. When you use the default pandas plotting, your legend will have circles for each attribute type. If you want to represent line data using lines in the legend, then you will need to create a custom plot and legend as demonstrated below.\n",
    "\n",
    "Below, you create a custom legend. There are many different approaches to this. One is below.\n",
    "\n",
    "To begin you create a python dictionary for each attribute value in your legend. Below you will see each road type has a dictionary entry and two associated values - a color and a number representing the width of the line in your legend.\n",
    "\n",
    "```'Beltway': ['black', 2]``` Color the line for beltway black with a line width of 2.\n",
    "\n",
    "Next you loop through the dictionary to plot the data. In the loop below, you select each attribute value, and plot it using the color and line width assigned in the dictionary above."
   ]
  },
  {
   "cell_type": "code",
   "execution_count": null,
   "metadata": {},
   "outputs": [],
   "source": [
    "# Plot with a custom legend\n",
    "\n",
    "# First, create a dictionary with the attributes of each legend item\n",
    "road_attrs = {'Beltway': ['black', 2],\n",
    "              'Secondary Highway': ['grey', .5],\n",
    "              'Road': ['grey', .5],\n",
    "              'Bypass': ['grey', .5],\n",
    "              'Ferry Route': ['grey', .5],\n",
    "              'Major Highway': ['black', 1]}\n",
    "\n",
    "# Plot the data\n",
    "fig, ax = plt.subplots(figsize=(12, 8))\n",
    "\n",
    "for ctype, data in ne_roads_clip.groupby('type'):\n",
    "    data.plot(color=road_attrs[ctype][0],\n",
    "              label=ctype,\n",
    "              ax=ax,\n",
    "              linewidth=road_attrs[ctype][1])\n",
    "\n",
    "country_boundary_us.plot(alpha=1, color=\"white\", edgecolor=\"black\", ax=ax)\n",
    "\n",
    "ax.legend(frameon=False, \n",
    "          loc = (0.1, -0.1))\n",
    "\n",
    "ax.set_title(\"United States Roads by Type\", fontsize=25)\n",
    "ax.set_axis_off()\n",
    "\n",
    "plt.axis('equal')\n",
    "plt.show()"
   ]
  }
 ],
 "metadata": {
  "kernelspec": {
   "display_name": "Python 3.10.8 ('traillop')",
   "language": "python",
   "name": "python3"
  },
  "language_info": {
   "codemirror_mode": {
    "name": "ipython",
    "version": 3
   },
   "file_extension": ".py",
   "mimetype": "text/x-python",
   "name": "python",
   "nbconvert_exporter": "python",
   "pygments_lexer": "ipython3",
   "version": "3.10.8"
  },
  "orig_nbformat": 4,
  "vscode": {
   "interpreter": {
    "hash": "31733d31b68f2bf33a40ef3744aa6e6dabc719cffbfa95fe2fcbd4a0d9e78042"
   }
  }
 },
 "nbformat": 4,
 "nbformat_minor": 2
}
