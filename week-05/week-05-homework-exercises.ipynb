{
 "cells": [
  {
   "cell_type": "markdown",
   "metadata": {},
   "source": [
    "# Week 05 Exercises\n",
    "### 5.1 Dissolving and Aggregating Data\n",
    "Let's revisit the dataset from last week, the Justice Equity Need Index (JENI) identifies ZIP Codes in greatest need of public investments in community healing, health, and prevention to help reverse historical injustices. You can access this dataset by navigating to ```data/Justice_Equity_Need_Index.geojson```\n",
    "\n",
    "Let's start doing some spatial analysis.\n",
    "\n",
    "1. Load the JENI dataset and view the first few rows. You will notice a column ```sup_dist``` which designates the district number associated with each zip code block. Dissolve by the districts column and use and aggregation function to find the mean ```jenipctl```. \n",
    "2. Create a map that displays the dissolved dataframe with a lengend showing the districts and the mean ```jenipctl```\n",
    "3. Write a meaningful caption of the map you have created. Refer back to last week's homework for additional information on what exactly the ```jenipctl``` means.\n"
   ]
  },
  {
   "cell_type": "markdown",
   "metadata": {},
   "source": [
    "### 5.2 Spatial Joining\n",
    "Let's use the same ```data/Justice_Equity_Need_Index.geojson``` and do an analysis just for the neighborhoods within the city of Long Beach. You have been provided two additional datasets. First is the boundary of Long Beach: ```data/LB_City_Boundary.geojson``` and the second is Long Beach neighborhoods: ```data/LB_Neighborhoods.geojson```\n",
    "\n",
    "1. Clip the original ```data/Justice_Equity_Need_Index.geojson``` by the city of Long Beach boundary. What should you always first check before working with multiple datasets?\n",
    "2. Using the clipped version of the JENI dataset, spatially join the ```data/LB_Neighborhoods.geojson``` and your clipped dataset. \n",
    "3. Make a map that has different color categories for each Long Beach neighborhood by the ```jenipctl```.\n",
    "4. Write a meaningful caption describing the patterns you see in Long Beach neighorboods ```jenipctl``` rankings. \n"
   ]
  },
  {
   "cell_type": "markdown",
   "metadata": {},
   "source": [
    "### 5.3 Calculating Distances\n",
    "Let's calculate the distance by bird's flight (straight lines) from campus to each zip code. The coordinates of LMU's campus are: 33.9710, -118.4170.\n",
    "\n",
    "1. The JENI dataset we have been working with has information already grouped by zip code. Load the JENI dataset and select only the ```zip``` and ``` csa ``` columns. \n",
    "2. Create the point for LMU's campus assuming the CRS to be ```epsg:4326```. Reproject this point to ```epsg:3857```.\n",
    "3. Find the centroids of the zip code and city name dataframe (the subset from the JENI dataframe). Did you receive a warning? What should you do?\n",
    "4. Using the following function, calculate the distance from the LMU campus to each zip code. \n",
    "5. What is the maximum distance from the LMU campus? Which zip code does this pertain to? What is the average distace to the LMU campus?"
   ]
  },
  {
   "cell_type": "code",
   "execution_count": 26,
   "metadata": {},
   "outputs": [],
   "source": [
    "def calculate_distance(row, dest_geom, src_col='geometry', target_col='distance'):\n",
    "    \"\"\"\n",
    "    Calculates the distance between Point geometries.\n",
    "\n",
    "    Parameters\n",
    "    ----------\n",
    "    dest_geom : shapely.Point\n",
    "       A single Shapely Point geometry to which the distances will be calculated to.\n",
    "    src_col : str\n",
    "       A name of the column that has the Shapely Point objects from where the distances will be calculated from.\n",
    "    target_col : str\n",
    "       A name of the target column where the result will be stored.\n",
    "\n",
    "    Returns\n",
    "    -------\n",
    "    \n",
    "    Distance in kilometers that will be stored in 'target_col'.\n",
    "    \"\"\"\n",
    "    \n",
    "    # Calculate the distances\n",
    "    dist = row[src_col].distance(dest_geom)\n",
    "\n",
    "    # Convert into kilometers\n",
    "    dist_km = dist / 1000\n",
    "\n",
    "    # Assign the distance to the original data\n",
    "    row[target_col] = dist_km\n",
    "    return row"
   ]
  }
 ],
 "metadata": {
  "kernelspec": {
   "display_name": "Python 3.10.8 ('traillop')",
   "language": "python",
   "name": "python3"
  },
  "language_info": {
   "codemirror_mode": {
    "name": "ipython",
    "version": 3
   },
   "file_extension": ".py",
   "mimetype": "text/x-python",
   "name": "python",
   "nbconvert_exporter": "python",
   "pygments_lexer": "ipython3",
   "version": "3.10.8"
  },
  "orig_nbformat": 4,
  "vscode": {
   "interpreter": {
    "hash": "31733d31b68f2bf33a40ef3744aa6e6dabc719cffbfa95fe2fcbd4a0d9e78042"
   }
  }
 },
 "nbformat": 4,
 "nbformat_minor": 2
}
