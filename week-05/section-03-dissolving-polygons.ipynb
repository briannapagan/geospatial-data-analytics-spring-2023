{
 "cells": [
  {
   "cell_type": "markdown",
   "metadata": {},
   "source": [
    "# Section 03: Dissolving Polygons"
   ]
  },
  {
   "cell_type": "code",
   "execution_count": null,
   "metadata": {},
   "outputs": [],
   "source": [
    "# Import libraries\n",
    "import os\n",
    "import numpy as np\n",
    "import matplotlib.pyplot as plt\n",
    "import matplotlib.lines as mlines\n",
    "from matplotlib.colors import ListedColormap\n",
    "import seaborn as sns\n",
    "from shapely.geometry import box\n",
    "import geopandas as gpd\n",
    "\n",
    "# Adjust plot font sizes\n",
    "sns.set(font_scale=1.5)\n",
    "sns.set_style(\"white\")"
   ]
  },
  {
   "cell_type": "code",
   "execution_count": null,
   "metadata": {},
   "outputs": [],
   "source": [
    "# Define base path as it is repeated below\n",
    "base_path = os.path.join(\"data\")\n",
    "\n",
    "# Define file paths\n",
    "country_boundary_path = os.path.join(base_path, \"usa\", \n",
    "                                     \"usa-boundary-dissolved.shp\")\n",
    "\n",
    "state_boundary_path = os.path.join(base_path, \"usa\", \n",
    "                                   \"usa-states-census-2014.shp\")\n",
    "\n",
    "pop_places_path = os.path.join(base_path, \"global\", \"ne_110m_populated_places_simple\", \n",
    "                               \"ne_110m_populated_places_simple.shp\")\n",
    "\n",
    "# Import the data\n",
    "country_boundary_us = gpd.read_file(country_boundary_path)\n",
    "state_boundary_us = gpd.read_file(state_boundary_path)\n",
    "pop_places = gpd.read_file(pop_places_path)"
   ]
  },
  {
   "cell_type": "markdown",
   "metadata": {},
   "source": [
    "Dissolve Polygons Based On an Attribute with Geopandas\n",
    "Next, you will learn how to dissolve polygon data. Dissolving polygons entails combining polygons based upon a unique attribute value and removing the interior geometry.\n",
    "\n",
    "![_._](img/dissolve-polygons-esri.gif)\n",
    "\n",
    "When you dissolve polygons you remove interior boundaries of a set of polygons with the same attribute value and create one new merged or combined polygon for each attribute value. In the case above US states are dissolved to regions in the United States. Source: ESRI\n",
    "When you dissolve polygons you remove interior boundaries of a set of polygons with the same attribute value and create one new \"merged\" or combined polygon for each attribute value. In the case above US states are dissolved to regions in the United States. Source: ESRI\n",
    "Below you will dissolve the US states polygons by the region that each state is in. When you dissolve, you will create a new set polygons - one for each regions in the United States.\n",
    "\n",
    "To begin, explore your data. Using ```.geom_type``` you can see that you have a mix of single and multi polygons in your data. Sometimes multi-polygons can cause problems when processing. It’s always good to check your geometry before you begin to better know what you are working with."
   ]
  },
  {
   "cell_type": "code",
   "execution_count": null,
   "metadata": {},
   "outputs": [],
   "source": [
    "state_boundary_us.head()\n"
   ]
  },
  {
   "cell_type": "code",
   "execution_count": null,
   "metadata": {},
   "outputs": [],
   "source": [
    "state_boundary_us.geom_type.head()\n"
   ]
  },
  {
   "cell_type": "markdown",
   "metadata": {},
   "source": [
    "Next, select the columns that you with to use for the dissolve and keep. In this case we want to retain the:\n",
    "\n",
    "- LSAD\n",
    "- geometry\n",
    "\n",
    "columns."
   ]
  },
  {
   "cell_type": "code",
   "execution_count": null,
   "metadata": {},
   "outputs": [],
   "source": [
    "state_boundary = state_boundary_us[['LSAD', 'geometry']]\n",
    "cont_usa = state_boundary.dissolve(by='LSAD')\n",
    "\n",
    "# View the resulting geodataframe\n",
    "cont_usa"
   ]
  },
  {
   "cell_type": "markdown",
   "metadata": {},
   "source": [
    "And finally, plot the data. Note that when you dissolve, the column used to perform the dissolve becomes an index for the resultant geodataframe. Thus you will have to use the ```reset_index()``` method when you plot, to access the region “column”.\n",
    "\n",
    "So this will work:\n",
    "\n",
    "```us_regions.reset_index().plot(column = 'region', ax=ax)```\n",
    "\n",
    "This will return an error as region is no longer a column, it is an index! ```us_regions.plot(column = 'region', ax=ax)```"
   ]
  },
  {
   "cell_type": "code",
   "execution_count": null,
   "metadata": {},
   "outputs": [],
   "source": [
    "cont_usa.reset_index()\n"
   ]
  },
  {
   "cell_type": "code",
   "execution_count": null,
   "metadata": {},
   "outputs": [],
   "source": [
    "# Plot the data\n",
    "fig, ax = plt.subplots(figsize=(10, 6))\n",
    "cont_usa.reset_index().plot(column='LSAD',\n",
    "                            ax=ax)\n",
    "ax.set_axis_off()\n",
    "plt.axis('equal')\n",
    "plt.show() "
   ]
  },
  {
   "cell_type": "markdown",
   "metadata": {},
   "source": [
    "The LSAD attribute value for every polygon in the data is 00. Thus when you dissolve by that attribute, you get one resulting polygon.\n",
    "\n",
    "### Dissolve and Aggregate Data\n",
    "In the example above, you dissolved the state level polygons to a region level. However, you did not aggregate or summarize the attributes associated with each polygon. Next, you will learn how to aggregate quantitative values in your attribute table when you perform a dissolve. To do this, you will add\n",
    "\n",
    "```aggfunc = 'fun-here'```\n",
    "\n",
    "to your dissolve call. You can choice a suite of different summary functions including:\n",
    "\n",
    "- first\n",
    "- last\n",
    "- mean\n",
    "- max\n",
    "And more. [Read more about the dissolve function here.](https://geopandas.org/en/stable/aggregation_with_dissolve.html)\n",
    "\n",
    "Below the data are aggregated by the ‘sum’ method. This means that the values for ALAND are added up for all of the states in a region. That summary sum value will be returned in the new dataframe."
   ]
  },
  {
   "cell_type": "code",
   "execution_count": null,
   "metadata": {},
   "outputs": [],
   "source": [
    "# Select the columns that you wish to retain in the data\n",
    "state_boundary = state_boundary_us[['region', 'geometry', 'ALAND', 'AWATER']]\n",
    "\n",
    "# Then summarize the quantative columns by 'sum'\n",
    "regions_agg = state_boundary.dissolve(by='region', aggfunc='sum')\n",
    "regions_agg"
   ]
  },
  {
   "cell_type": "code",
   "execution_count": null,
   "metadata": {},
   "outputs": [],
   "source": [
    "# Convert area units from square meters to hectares (divide by 10,000)\n",
    "regions_agg[\"land_ha\"] = regions_agg[\"ALAND\"] / 10000\n",
    "regions_agg[\"water_ha\"] = regions_agg[\"AWATER\"] / 10000\n",
    "regions_agg"
   ]
  },
  {
   "cell_type": "code",
   "execution_count": null,
   "metadata": {},
   "outputs": [],
   "source": [
    "fig, (ax1, ax2) = plt.subplots(2, 1, figsize=(10, 10))\n",
    "\n",
    "regions_agg.plot(column='land_ha',\n",
    "                 legend=True,\n",
    "                 scheme=\"quantiles\",\n",
    "                 ax=ax1)\n",
    "\n",
    "regions_agg.plot(column='water_ha',\n",
    "                 scheme=\"quantiles\",\n",
    "                 legend=True,\n",
    "                 ax=ax2)\n",
    "\n",
    "plt.suptitle('Census Data - Total Land and Water by Region (Hectares)', fontsize=16)\n",
    "leg = ax1.get_legend()\n",
    "leg.set_bbox_to_anchor((1.5,1))\n",
    "\n",
    "leg = ax2.get_legend()\n",
    "leg.set_bbox_to_anchor((1.5,1))\n",
    "ax1.set_axis_off()\n",
    "ax2.set_axis_off()\n",
    "\n",
    "plt.axis('equal')\n",
    "plt.show()"
   ]
  },
  {
   "cell_type": "markdown",
   "metadata": {},
   "source": [
    "In this example, you dissolved by region. There are 5 unique region values in the attributes. Thus you end up with 5 polygons. You also summarized attributes by ALAND and AWATER calculating the total value for each.\n"
   ]
  }
 ],
 "metadata": {
  "kernelspec": {
   "display_name": "Python 3.10.8 ('traillop')",
   "language": "python",
   "name": "python3"
  },
  "language_info": {
   "codemirror_mode": {
    "name": "ipython",
    "version": 3
   },
   "file_extension": ".py",
   "mimetype": "text/x-python",
   "name": "python",
   "nbconvert_exporter": "python",
   "pygments_lexer": "ipython3",
   "version": "3.10.8"
  },
  "orig_nbformat": 4,
  "vscode": {
   "interpreter": {
    "hash": "31733d31b68f2bf33a40ef3744aa6e6dabc719cffbfa95fe2fcbd4a0d9e78042"
   }
  }
 },
 "nbformat": 4,
 "nbformat_minor": 2
}
