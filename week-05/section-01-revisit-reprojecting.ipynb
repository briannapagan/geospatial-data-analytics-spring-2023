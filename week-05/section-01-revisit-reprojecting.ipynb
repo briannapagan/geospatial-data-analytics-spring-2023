{
 "cells": [
  {
   "cell_type": "markdown",
   "metadata": {},
   "source": [
    "# Section 01: Revisiting Reprojecting Data"
   ]
  },
  {
   "cell_type": "code",
   "execution_count": null,
   "metadata": {},
   "outputs": [],
   "source": [
    "import os\n",
    "import numpy as np\n",
    "import matplotlib.pyplot as plt\n",
    "import seaborn as sns\n",
    "import geopandas as gpd\n",
    "\n",
    "# Setting plotting style for the notebook\n",
    "# This is our first time using seaborn, it's one of the many ways to visualize maps in a static way\n",
    "# Previously we were relying on matplotlib\n",
    "sns.set_style(\"white\")\n",
    "sns.set(font_scale=1.5)\n"
   ]
  },
  {
   "cell_type": "markdown",
   "metadata": {},
   "source": [
    "Revisiting the challenge from a previous lesson, here are the two layers: Notice the CRS of each layer."
   ]
  },
  {
   "cell_type": "code",
   "execution_count": null,
   "metadata": {},
   "outputs": [],
   "source": [
    "# Import the data\n",
    "sjer_roads_path = (\"data/california/madera-county-roads/tl_2013_06039_roads.shp\")\n",
    "sjer_roads = gpd.read_file(sjer_roads_path)\n",
    "\n",
    "# aoi stands for area of interest\n",
    "sjer_aoi_path = os.path.join(\"data/california/neon-sjer-site/vector_data/SJER_crop.shp\")\n",
    "sjer_aoi = gpd.read_file(sjer_aoi_path)\n",
    "\n",
    "# View the Coordinate Reference System of both layers \n",
    "print(sjer_roads.crs)\n",
    "print(sjer_aoi.crs)"
   ]
  },
  {
   "cell_type": "markdown",
   "metadata": {},
   "source": [
    "To plot the data together, they need to be in the same CRS. You can change the CRS which means you are reproject the data from one CRS to another CRS using the geopandas method:\n",
    "\n",
    "```\n",
    "to_crs(specify-crs-here)\n",
    "```\n",
    "\n",
    "\n",
    "The CRS can be specified using an epsg code - as follows:\n",
    "\n",
    "```epsg=4269```\n",
    "\n",
    "\n",
    "IMPORTANT: When you reproject data you are modifying it. Thus you are introducing some uncertainty into your data. While this is a slightly less important issue when working with vector data (compared to raster), it’s important to consider.\n",
    "\n",
    "Often you may consider keeping the data that you are doing the analysis on in the correct projection that best relates spatially to the area that you are working in. IE use the CRS that best minimizes errors in distance/ area etc based on your analysis.\n",
    "\n",
    "If you are simply reprojecting to create a base map then it doesn’t matter what you reproject!"
   ]
  },
  {
   "cell_type": "code",
   "execution_count": null,
   "metadata": {},
   "outputs": [],
   "source": [
    "# Reproject the aoi to match the roads layer\n",
    "#sjer_aoi_wgs84  = ?\n"
   ]
  },
  {
   "cell_type": "code",
   "execution_count": null,
   "metadata": {},
   "outputs": [],
   "source": [
    "# Plot the data\n",
    "fig, ax = plt.subplots(figsize=(12, 8))\n",
    "\n",
    "sjer_roads.plot(cmap='Greys', ax=ax, alpha=.5)\n",
    "sjer_aoi_wgs84.plot(ax=ax, markersize=10, color='r')\n",
    "\n",
    "ax.set_title(\"Madera County Roads with SJER AOI\");"
   ]
  },
  {
   "cell_type": "markdown",
   "metadata": {},
   "source": [
    "Great! you’ve now reprojected a dataset to be able to map the sjer AOI on top of the roads layer. Let’s try this process again but this time using some census data boundaries.\n",
    "\n",
    "### Import US Boundaries - Census Data\n",
    "There are many good sources of boundary base layers that you can use to create a basemap. Some Python packages even have these base layers built in to support quick and efficient mapping. In this tutorial, you will use boundary layers for the United States, provided by the United States Census Bureau.\n",
    "\n",
    "It is useful to have shapefiles to work with because you can add additional attributes to them if need be - for project specific mapping.\n",
    "\n",
    "### Read US Boundary File\n",
    "You will use the geopandas ```.read_file()``` function to import the ```/usa-boundary-layers/US-State-Boundaries-Census-2014``` layer into Python. This layer contains the boundaries of all continental states in the U.S. Please note that these data have been modified and reprojected from the original data downloaded from the Census website to support the learning goals of this tutorial."
   ]
  },
  {
   "cell_type": "code",
   "execution_count": null,
   "metadata": {},
   "outputs": [],
   "source": [
    "# Import data into geopandas dataframe\n",
    "state_boundary_us_path = \"data/usa/usa-states-census-2014.shp\"\n",
    "\n",
    "# load the dataset... \n",
    "#state_boundary_us = \n",
    "\n",
    "# View data structure\n",
    "type(state_boundary_us)"
   ]
  },
  {
   "cell_type": "code",
   "execution_count": null,
   "metadata": {},
   "outputs": [],
   "source": [
    "# View the first few lines of the data\n"
   ]
  },
  {
   "cell_type": "markdown",
   "metadata": {},
   "source": [
    "Next, plot the U.S. states data. Below you use geopandas to plot your geodataframe. Also notice that you are using ax.set_axis_off() to hide the x, y axis of our plot."
   ]
  },
  {
   "cell_type": "code",
   "execution_count": null,
   "metadata": {},
   "outputs": [],
   "source": [
    "# Plot the data\n",
    "fig, ax = plt.subplots(figsize = (12,8))\n",
    "state_boundary_us.plot(ax = ax, facecolor = 'white', edgecolor = 'black')\n",
    "\n",
    "# Add title to map\n",
    "ax.set(title=\"Map of Continental US State Boundaries\\n United States Census Bureau Data\")\n",
    "\n",
    "# Turn off the axis  \n",
    "plt.axis('equal')\n",
    "ax.set_axis_off()\n",
    "\n",
    "plt.show()"
   ]
  },
  {
   "cell_type": "markdown",
   "metadata": {},
   "source": [
    "### U.S. Boundary Layer\n",
    "You can add a boundary layer of the United States to your map to make it look nicer. You will import ```data/week5/usa-boundary-layers/US-Boundary-Dissolved-States```. If you specify a thicker line width using ```linewidth=4``` for the border layer, it will make our map visually pop!"
   ]
  },
  {
   "cell_type": "code",
   "execution_count": null,
   "metadata": {},
   "outputs": [],
   "source": [
    "# Import United States country boundary data\n",
    "county_boundary_us_path = (\"data/usa/usa-boundary-dissolved.shp\")\n",
    "country_boundary_us = gpd.read_file(county_boundary_us_path)\n",
    "\n",
    "type(country_boundary_us)"
   ]
  },
  {
   "cell_type": "code",
   "execution_count": null,
   "metadata": {},
   "outputs": [],
   "source": [
    "# Plot data \n",
    "fig, ax = plt.subplots(figsize = (12,7))\n",
    "country_boundary_us.plot(ax=ax, \n",
    "                         alpha=1, \n",
    "                         edgecolor=\"black\",\n",
    "                         color = \"white\",\n",
    "                         linewidth=4)\n",
    "\n",
    "state_boundary_us.plot(ax = ax, \n",
    "                      color = \"indigo\",\n",
    "                      edgecolor = \"white\",\n",
    "                      linewidth = 1)\n",
    "ax.set_axis_off()\n",
    "plt.show()"
   ]
  },
  {
   "cell_type": "markdown",
   "metadata": {},
   "source": [
    "Next, add the SJER study area site locations to your map. As you add these layers, take note of the class of each object and the CRS.\n",
    "\n",
    "HINT: AOI stands for “Area of Interest”. This is your study area."
   ]
  },
  {
   "cell_type": "code",
   "execution_count": null,
   "metadata": {},
   "outputs": [],
   "source": [
    "# Plot the data\n",
    "fig, ax = plt.subplots(figsize = (6,6))\n",
    "\n",
    "sjer_aoi.plot(ax=ax, color = \"indigo\")\n",
    "ax.set(title='San Joachin Experimental Range \\n Area of interest (AOI)')\n",
    "\n",
    "ax.set_axis_off()\n",
    "plt.show()"
   ]
  },
  {
   "cell_type": "markdown",
   "metadata": {},
   "source": [
    "The SJER AOI layer plots nicely. Next, add it as a layer on top of the U.S. states and boundary layers in your basemap plot.\n",
    "\n"
   ]
  },
  {
   "cell_type": "code",
   "execution_count": null,
   "metadata": {},
   "outputs": [],
   "source": [
    "fig, ax = plt.subplots(figsize=(6, 6))\n",
    "\n",
    "country_boundary_us.plot(ax=ax, \n",
    "                         edgecolor=\"black\",\n",
    "                         color = \"white\",\n",
    "                         linewidth=3, \n",
    "                         alpha=.8)\n",
    "\n",
    "state_boundary_us.plot(ax = ax, \n",
    "                       color = \"white\", \n",
    "                       edgecolor =\"gray\")\n",
    "sjer_aoi.plot(ax=ax, color = \"indigo\")\n",
    "\n",
    "# Turn off axis  \n",
    "ax.set_axis_off()\n",
    "plt.show()"
   ]
  },
  {
   "cell_type": "markdown",
   "metadata": {},
   "source": [
    "When you try to plot the state and country boundaries with the SJER_AOI what happens? Notice that this map does not look right even though the layers plotted just fine individually. This suggests there may be a CRS issue.\n"
   ]
  },
  {
   "cell_type": "markdown",
   "metadata": {},
   "source": [
    "What do you notice about the resultant plot? Do you see the AOI boundary in the California area? Is something wrong with our map?\n",
    "\n",
    "Let’s check out the CRS (```.crs```) of both datasets to see if you can identify any issues that might cause the point location to not plot properly on top of our U.S. boundary layers."
   ]
  },
  {
   "cell_type": "code",
   "execution_count": null,
   "metadata": {},
   "outputs": [],
   "source": [
    "# View CRS of each layer\n",
    "print(sjer_aoi.crs)\n",
    "print(country_boundary_us.crs)\n",
    "print(state_boundary_us.crs)"
   ]
  },
  {
   "cell_type": "markdown",
   "metadata": {},
   "source": [
    "### CRS Units - View Object Extent\n",
    "Next, let’s view the extent or spatial coverage for the sjer_aoi spatial object compared to the state_boundary_us object.\n",
    "\n"
   ]
  },
  {
   "cell_type": "code",
   "execution_count": null,
   "metadata": {},
   "outputs": [],
   "source": [
    "# View spatial extent for both layers \n",
    "print(sjer_aoi.total_bounds)\n",
    "print(state_boundary_us.total_bounds)"
   ]
  },
  {
   "cell_type": "markdown",
   "metadata": {},
   "source": [
    "Note the difference in the units for each object. The extent for state_boundary_us is in latitude and longitude which yields smaller numbers representing decimal degree units. Our AOI boundary point is in UTM, is represented in meters.\n",
    "\n",
    "Most importantly the two extents DO NOT OVERLAP. Yet you know that your data should overlap.\n",
    "\n",
    "### Reproject Vector Data\n",
    "Now you know your data are in different CRS. To address this, you have to modify or reproject the data so they are all in the same CRS. You can use .to_crs() function to reproject your data. When you reproject the data, you specify the CRS that you wish to transform your data to. This CRS contains the datum, units and other information that Python needs to reproject our data.\n",
    "\n",
    "The ```to_crs()``` function requires two inputs:\n",
    "\n",
    "1. the name of the object that you wish to transform\n",
    "2. the CRS that you wish to transform that object to - - this can be in EPSG format or an entire project 4 string. In this case you can use the crs value from the ```state_boundary_us object``` : .```to_crs(state_boundary_us.crs)```\n",
    "\n",
    "Next, let’s reproject our point layer into the geographic - latitude and longitude WGS84 coordinate reference system (CRS).\n",
    "\n"
   ]
  },
  {
   "cell_type": "code",
   "execution_count": null,
   "metadata": {},
   "outputs": [],
   "source": [
    "# Reproject the aoi to the same CRS as the state_boundary_use object\n",
    "sjer_aoi_WGS84 = sjer_aoi.to_crs(state_boundary_us.crs)\n",
    "\n",
    "# View CRS of new reprojected layer\n",
    "print(sjer_aoi.total_bounds)\n",
    "print('sjer_aoi crs: ', sjer_aoi_WGS84.crs)\n",
    "print('state boundary crs:', state_boundary_us.crs)"
   ]
  },
  {
   "cell_type": "markdown",
   "metadata": {},
   "source": [
    "Once our data are reprojected, you can try to plot again.\n",
    "\n"
   ]
  },
  {
   "cell_type": "code",
   "execution_count": null,
   "metadata": {},
   "outputs": [],
   "source": [
    "fig, ax = plt.subplots(figsize = (12,8))\n",
    "\n",
    "state_boundary_us.plot(ax = ax,\n",
    "                      linewidth=1,\n",
    "                      edgecolor=\"black\")\n",
    "\n",
    "country_boundary_us.plot(ax=ax,\n",
    "                         alpha=.5, \n",
    "                         edgecolor=\"black\",\n",
    "                         color = \"white\",\n",
    "                         linewidth=3)\n",
    "sjer_aoi_WGS84.plot(ax=ax, \n",
    "                    color='springgreen',\n",
    "                   edgecolor = \"r\")\n",
    "\n",
    "ax.set(title=\"Map of Continental US State Boundaries \\n with SJER AOI\")\n",
    "\n",
    "ax.set_axis_off()\n",
    "plt.show()"
   ]
  },
  {
   "cell_type": "markdown",
   "metadata": {},
   "source": [
    "It’s hard to see the tiny extent box on a map of the entire US. Try to zoom in on just a small portion of the map to better see the extent. To do this you can adjust the x and y limits as follows:\n",
    "\n",
    "```ax.set(xlim=[minx, maxx], ylim=[miny, maxy])```"
   ]
  },
  {
   "cell_type": "code",
   "execution_count": null,
   "metadata": {},
   "outputs": [],
   "source": [
    "# Zoom in on just the area \n",
    "fig, ax = plt.subplots(figsize = (12,8))\n",
    "\n",
    "state_boundary_us.plot(ax = ax,\n",
    "                      linewidth=1,\n",
    "                      edgecolor=\"black\")\n",
    "\n",
    "country_boundary_us.plot(ax=ax,\n",
    "                         alpha=.5, \n",
    "                         edgecolor=\"black\",\n",
    "                         color = \"white\",\n",
    "                         linewidth=3)\n",
    "\n",
    "sjer_aoi_WGS84.plot(ax=ax, \n",
    "                    color='springgreen',\n",
    "                   edgecolor = \"r\")\n",
    "\n",
    "ax.set(title=\"Map of Continental US State Boundaries \\n with SJER AOI\")\n",
    "ax.set(xlim=[-125, -116], ylim=[35, 40])\n",
    "\n",
    "# Turn off axis  \n",
    "ax.set(xticks = [], yticks = []);"
   ]
  },
  {
   "cell_type": "markdown",
   "metadata": {},
   "source": [
    "Great! The plot worked this time however now, the AOI boundary is a polygon and it’s too small to see on the map. Let’s convert the polygon to a polygon CENTROID (a point) and plot again. If your data are represented as a point you can change the point size to make it more visible.\n",
    "\n",
    "To do this, you’ll access the ```centroid``` attribute of your AOI polygon using ```.centroid```.\n",
    "\n"
   ]
  },
  {
   "cell_type": "code",
   "execution_count": null,
   "metadata": {},
   "outputs": [],
   "source": [
    "# Grab the centroid x, y location of the aoi and turn it into a new spatial object. \n",
    "AOI_point = sjer_aoi_WGS84[\"geometry\"].centroid\n",
    "type(AOI_point)"
   ]
  },
  {
   "cell_type": "code",
   "execution_count": null,
   "metadata": {},
   "outputs": [],
   "source": [
    "sjer_aoi_WGS84[\"geometry\"].centroid.plot();\n"
   ]
  },
  {
   "cell_type": "code",
   "execution_count": null,
   "metadata": {},
   "outputs": [],
   "source": [
    "fig, ax = plt.subplots(figsize = (12,7))\n",
    "\n",
    "state_boundary_us.plot(ax = ax,\n",
    "                      linewidth=1,\n",
    "                      edgecolor=\"black\")\n",
    "\n",
    "country_boundary_us.plot(ax=ax,\n",
    "                         alpha=.7, \n",
    "                         edgecolor=\"black\",\n",
    "                         color = \"white\",\n",
    "                         linewidth=3)\n",
    "\n",
    "AOI_point.plot(ax=ax,\n",
    "              markersize=80,\n",
    "              color='purple',\n",
    "              marker='*')\n",
    "\n",
    "ax.set(title=\"Map of Continental US State Boundaries \\n with SJER AOI\")\n",
    "\n",
    "# Turn off axis  \n",
    "ax.set_axis_off();"
   ]
  },
  {
   "cell_type": "markdown",
   "metadata": {},
   "source": [
    "Reprojecting our data ensured that things line up on our map! It will also allow us to perform any required geoprocessing (spatial calculations / transformations) on our data.\n",
    "\n"
   ]
  }
 ],
 "metadata": {
  "kernelspec": {
   "display_name": "Python 3.10.8 ('traillop')",
   "language": "python",
   "name": "python3"
  },
  "language_info": {
   "codemirror_mode": {
    "name": "ipython",
    "version": 3
   },
   "file_extension": ".py",
   "mimetype": "text/x-python",
   "name": "python",
   "nbconvert_exporter": "python",
   "pygments_lexer": "ipython3",
   "version": "3.10.8"
  },
  "orig_nbformat": 4,
  "vscode": {
   "interpreter": {
    "hash": "31733d31b68f2bf33a40ef3744aa6e6dabc719cffbfa95fe2fcbd4a0d9e78042"
   }
  }
 },
 "nbformat": 4,
 "nbformat_minor": 2
}
