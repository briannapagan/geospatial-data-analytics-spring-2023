{
 "cells": [
  {
   "cell_type": "markdown",
   "metadata": {},
   "source": [
    "# Geospatial Data Analytics Final Spring 2023\n",
    "\n",
    "\n",
    "## General Instructions\n",
    "You will upload a single jupyter notebook that completes all the following questions onto Brightspace. Do not upload this notebook to GitHub! I do not want you to be able to view each other's responses. The only item that will go on GitHub is the final interactive map produced in Section 3. You will have until midnight Wednesday April 5th to upload.\n",
    "\n",
    "## Background\n",
    "In 2022, California experienced the driest January, February and March in over 100 years ([source](https://drought.ca.gov/#:~:text=Tracking%20conditions&text=These%20include%20reservoirs%20and%20melted,March%20in%20over%20100%20years.)). Fast forward to 2023 and we have experienced what appears to be one of the wettest winters. The premise of this final exam is to prepare a comprehensive geospatial analysis which provides data analytics to support the extreme dry and wet conditions we have recently experienced locally in Los Angeles. "
   ]
  },
  {
   "cell_type": "markdown",
   "metadata": {},
   "source": [
    "## Part 1: Time series evaluations\n",
    "You a provided a dataset for daily metereological data for Los Angeles county weather stations (``` data/noaa-daily-la-county-weather-data.csv ```) for March 30th 2018 until March 30th 2023. Complete the following tasks:\n",
    "\n",
    "1. Load the dataset. How many unique stations are there?\n",
    "2. Create a new dataframes of precipitation (```PRCP ```) data for a station located in Pasadena (where ```STATION``` is ```US1CALA0036```).\n",
    "3. For this precipitation dataframe, how many days did daily precipitation exceed 1 inch in March 2023? How about for March 2022? \n",
    "4. Create a new column in the precipitation dataframe, and convert inches of precipitation to centimeters. \n",
    "5. Calculate the sum of precipitation for each month and year of data provided. Select only the March totals. Print this dataframe. Of the years provided - what year was the driest March? What year was the wettest March? "
   ]
  },
  {
   "cell_type": "markdown",
   "metadata": {},
   "source": [
    "## Part 2: Comparisons of vegetation health at Griffith Park\n",
    "You are provided two Sentinel-2 datasets, one for March 2022 (``` data/2022-03-09/ ```) and another for March 2023 (``` data/2023-03-24/ ```). You will make a comparison of vegetation health differences between the two years in Griffith Park.\n",
    "\n",
    "1. Load and calculate NDVI for both dates.\n",
    "2. Crop both dates by the Griffith Park vector file provided (``` data/Griffith_Park.geojson```).\n",
    "3. Map Griffith Park NDVI side by side for both years. Use an appropriate colorbar.\n",
    "4. Using zonal statistics to compare the mean NDVI between the two years. \n",
    "5. Write a few sentences about your zonal stats results and the mapped comparisons from item (3). \n",
    "6. Use the following breaks to reclassify the NDVI data:\n",
    "- <0: water \n",
    "- 0 to 0.2: urban/barren\n",
    "- 0.2 to 0.5: low vegetation\n",
    "- $\\gt$ 0.5: high vegetation\n",
    "7. Plot the two maps using the following parameters:\n",
    "- ```colors = ['your-color-1', 'your-color-2', 'your-color-3', 'your-color-4']```\n",
    "- ```class_bins = [0.5, 1.5, 2.5, 3.5, 4.5]```\n",
    "8. Create a histogram of the classified NDVI data for both years. Give rough approximations of the percentages of each cateogry (i.e. ~20% water, ~40% barren/urban land etc.) for each year. \n"
   ]
  },
  {
   "cell_type": "markdown",
   "metadata": {},
   "source": [
    "## Part 3: Finding the nearest weather stations for parks in LA County for future analysis \n",
    "Let's say you are asked to update watering schedules to parks in LA county, depending on current rain conditions. We would need to figure out what is the closest weather station. Let's do this preliminary work to find this.\n",
    "\n",
    "1. Load the meteorological data again (``` data/noaa-daily-la-county-weather-data.csv ```).\n",
    "2. Calculate total total precipitation for the year 2022 for all weather stations. Drop any stations without precipitation data. How many weather stations remain?  \n",
    "3. Find the nearest weather station to each Los Angeles County park (``` Recreation_and_Parks.geojson```). Capture the name (``` STATION ```) of the closest weather station. Note, this is not as straight forward as just copying and pasting from section-02 week 10! You actually have to think logically what columns are needed (centroids or geometries? what is the target dataframe?). Think carefully! \n",
    "4. You should have an updated parks dataframe which captures the ``` STATION ``` name of the nearest weather station. Join the total 2022 total precipitation amounts from part (2) to this dataframe.\n",
    "5. Create an interactive map which plots the park locations and has a ``` Tooltip ``` capability of showing the ``` Name ``` of the park (using alias of ``` Park Name ```) and the name of the closest weather station using the alias of ``` Nearest Weather Station ``` as well as the total 2022 precipitation amount using the alias of ``` Total 2022 Rainfall (in) ```.\n",
    "6. Save and publish this map to GitHub. Paste the link to view it."
   ]
  }
 ],
 "metadata": {
  "kernelspec": {
   "display_name": "Python 3.9.13 ('validations')",
   "language": "python",
   "name": "python3"
  },
  "language_info": {
   "codemirror_mode": {
    "name": "ipython",
    "version": 3
   },
   "file_extension": ".py",
   "mimetype": "text/x-python",
   "name": "python",
   "nbconvert_exporter": "python",
   "pygments_lexer": "ipython3",
   "version": "3.9.13"
  },
  "orig_nbformat": 4,
  "vscode": {
   "interpreter": {
    "hash": "e460e709f58070950c65c0c33823686acb388113d15269e91ed6fb063a69ef02"
   }
  }
 },
 "nbformat": 4,
 "nbformat_minor": 2
}
