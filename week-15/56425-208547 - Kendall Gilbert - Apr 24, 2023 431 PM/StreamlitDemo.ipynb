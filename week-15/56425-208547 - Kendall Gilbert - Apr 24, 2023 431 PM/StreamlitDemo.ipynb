{
  "nbformat": 4,
  "nbformat_minor": 0,
  "metadata": {
    "colab": {
      "provenance": []
    },
    "kernelspec": {
      "name": "python3",
      "display_name": "Python 3"
    },
    "language_info": {
      "name": "python"
    }
  },
  "cells": [
    {
      "cell_type": "markdown",
      "source": [
        "###Streamlit Background"
      ],
      "metadata": {
        "id": "X_ZVeqUsWLKN"
      }
    },
    {
      "cell_type": "markdown",
      "source": [
        "Streamlit is a python package that allows you to create interactive web applications without any front-end coding knowledge. Usually, to create a website, you need some experience with a language like HTML, CSS, or Javascript for the front-end. Streamlit allows you to make a website with only python. Streamlit's website can also connect to your github account to host your websites for free. In other words, if you have streamlit, you can build websites with only the knowledge from this class!\n",
        "\n",
        "To set up your streamlit account by connecting it to your github, visit the streamlit website below:\n",
        "- https://streamlit.io/\n",
        "\n",
        "In this demonstration, I will teach you how to create an interactive streamlit website from a googlecolab notebook. Googlecolab is a coding environment similar to jupyternotebook where you can run code and markdown cells."
      ],
      "metadata": {
        "id": "p6N1PDNrkPuW"
      }
    },
    {
      "cell_type": "markdown",
      "source": [
        "###Back End Development"
      ],
      "metadata": {
        "id": "HLXgNE4lVsUE"
      }
    },
    {
      "cell_type": "markdown",
      "source": [
        "When you create your streamlit app you want to be sure that all your code for data analysis runs. It is helpful to set up a googlecolab or jupyter notebook where you can test run your algorithmns cell by cell before getting started on your streamlit website. "
      ],
      "metadata": {
        "id": "lnUWU8bDn5_H"
      }
    },
    {
      "cell_type": "code",
      "source": [
        "print('Here is a cell to test your data analysis algorithms')"
      ],
      "metadata": {
        "id": "P8jML0-rV16M"
      },
      "execution_count": null,
      "outputs": []
    },
    {
      "cell_type": "markdown",
      "source": [
        "###Streamlit Conversion"
      ],
      "metadata": {
        "id": "KCVSqhL7V3hu"
      }
    },
    {
      "cell_type": "markdown",
      "source": [
        "Install streamlit, pyngrok, folium, and streamlit_folium to Googlecolab environment\n",
        "- pyngrok is a package used for security (the use of pyngrok is involved in this demo but I won't go into any details about this package)\n",
        "- streamlit_folium is a package that integrates folium maps to be displayed on streamlit apps"
      ],
      "metadata": {
        "id": "2fPk4K69WA4I"
      }
    },
    {
      "cell_type": "code",
      "source": [
        "!pip install streamlit\n",
        "!pip install pyngrok\n",
        "!pip install folium\n",
        "!pip install streamlit_folium"
      ],
      "metadata": {
        "id": "5873gY6WV7AQ"
      },
      "execution_count": null,
      "outputs": []
    },
    {
      "cell_type": "markdown",
      "source": [
        "Create a python file of your code for the interactive page."
      ],
      "metadata": {
        "id": "6c870TTpWb-Z"
      }
    },
    {
      "cell_type": "code",
      "source": [
        "%%writefile RainwaterCollection.py\n",
        "\n",
        "# Set up streamlit in file\n",
        "import streamlit as st\n",
        "\n",
        "#Set up folium in streamlit\n",
        "import folium\n",
        "from streamlit_folium import st_folium\n",
        "\n",
        "#Create a title\n",
        "st.title('Rainwater Collection and Rainbarrel Sizing Tool')\n",
        "\n",
        "#Create a box for user to select preference\n",
        "st.selectbox('Select if you are interested in collecting rainwater from roofs only or from your whole site',('Roofs only','Entire site'))\n",
        "\n",
        "#Create text\n",
        "st.text('Draw your polygon on the map below')\n",
        "\n",
        "#Create your folium map\n",
        "Map = folium.Map(location=[34, -118], tiles = 'cartodbpositron', zoom_start=10, control_scale=True)\n",
        "\n",
        "#Display map using integrated streamlit and folium command\n",
        "st_folium(Map, width = 725)"
      ],
      "metadata": {
        "colab": {
          "base_uri": "https://localhost:8080/"
        },
        "id": "UmJJh7D7qaPE",
        "outputId": "eafe8259-c09d-48a6-d4ac-2156b83fb082"
      },
      "execution_count": 5,
      "outputs": [
        {
          "output_type": "stream",
          "name": "stdout",
          "text": [
            "Writing RainwaterCollection.py\n"
          ]
        }
      ]
    },
    {
      "cell_type": "markdown",
      "source": [
        "For help on basic streamlit interactive tools, use the cheatsheet linked below.\n",
        "- https://daniellewisdl-streamlit-cheat-sheet-app-ytm9sg.streamlit.app/\n",
        "\n",
        "To learn how to create more advanced streamlit apps you can visit the streamlit gallery linked below. Many of the apps created in the gallery are open source so you can learn directly from their code!\n",
        "- https://streamlit.io/gallery?category=featured"
      ],
      "metadata": {
        "id": "0Ig3jHLriq9a"
      }
    },
    {
      "cell_type": "markdown",
      "source": [
        "Use the following code to set up a local tunnel to run your interactive page."
      ],
      "metadata": {
        "id": "GZppx26EXMPd"
      }
    },
    {
      "cell_type": "code",
      "source": [
        "!npm install localtunnel"
      ],
      "metadata": {
        "id": "l7OzpyRmXLcf"
      },
      "execution_count": null,
      "outputs": []
    },
    {
      "cell_type": "markdown",
      "source": [
        "Use the following code to add your auth token from ngrok to the tunnel. \n",
        "\n",
        "- You receive an authtoken when you make an ngrok account and they provide this command for you on the getting started page of your account. The link below takes you to the sign up page for ngrok.\n",
        "- https://ngrok.com/"
      ],
      "metadata": {
        "id": "J5y8cW8iYx_2"
      }
    },
    {
      "cell_type": "code",
      "source": [
        "!ngrok authtoken 2INuZoGKvBumQOHgJDFFzewgxrr_2fjzDc6LtQi1xpqMERVBC"
      ],
      "metadata": {
        "colab": {
          "base_uri": "https://localhost:8080/"
        },
        "id": "i2StwmXnZJ-v",
        "outputId": "7fda9586-65ed-4e80-f357-1662b36dcbb5"
      },
      "execution_count": 7,
      "outputs": [
        {
          "output_type": "stream",
          "name": "stdout",
          "text": [
            "Authtoken saved to configuration file: /root/.ngrok2/ngrok.yml\n"
          ]
        }
      ]
    },
    {
      "cell_type": "markdown",
      "source": [
        "Run your python file with the following line of code."
      ],
      "metadata": {
        "id": "-7wE7NR1ZWdB"
      }
    },
    {
      "cell_type": "code",
      "source": [
        "!streamlit run /content/RainwaterCollection.py &>/content/logs.txt &"
      ],
      "metadata": {
        "id": "l95XuhigZnVR"
      },
      "execution_count": 8,
      "outputs": []
    },
    {
      "cell_type": "markdown",
      "source": [
        "Use the following line of code to get a unique url to the file you just ran. \n",
        "- 8501 is the port that streamlit uses.\n",
        "- The url is only usable while this cell is still running. \n",
        "- To create a permanent url you will need to develop this in a local environment not on colab."
      ],
      "metadata": {
        "id": "7cqN-I4GZ2k6"
      }
    },
    {
      "cell_type": "code",
      "source": [
        "!npx localtunnel --port 8501"
      ],
      "metadata": {
        "id": "ttKLJZPgZ23I"
      },
      "execution_count": null,
      "outputs": []
    },
    {
      "cell_type": "markdown",
      "source": [
        "For more details on creating and running streamlit apps from googlecolab use the website linked below.\n",
        "- https://medium.com/@jcharistech/how-to-run-streamlit-apps-from-colab-29b969a1bdfc#:~:text=To%20create%20our%20tunnel%20we%20will%20be%20using,https%3A%2F%2Fb546sh556d.ngrok.io%29%20that%20your%20app%20will%20be%20running%20on.\n",
        "\n",
        "For more details on creating and running streamlit apps hosted on your github use the streamlit tutorial linked below.\n",
        "- https://30days.streamlit.app/?challenge=Day1\n",
        "\n",
        "If anyone is interested in setting up their own streamlit apps on colab, let me know and I am happy to share this notebook with your google account!"
      ],
      "metadata": {
        "id": "c-tGpz1qbkRe"
      }
    }
  ]
}