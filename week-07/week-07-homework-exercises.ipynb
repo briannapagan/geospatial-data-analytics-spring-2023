{
 "cells": [
  {
   "cell_type": "markdown",
   "metadata": {},
   "source": [
    "# Week 07 Exercises \n",
    "\n",
    "### 7.1 Calculating the Normalized Difference Index\n",
    "From [https://www.usgs.gov/landsat-missions/landsat-normalized-difference-vegetation-index](https://www.usgs.gov/landsat-missions/landsat-normalized-difference-vegetation-index)... the Normalized Difference Vegetation Index (NDVI) is used to quantify vegetation greenness and is useful in understanding vegetation density and assessing changes in plant health. NDVI is calculated as a ratio between the red (R) and near infrared (NIR) values in traditional fashion: \n",
    "\n",
    "(NIR - R) / (NIR + R)\n",
    "\n",
    "NDVI always ranges from -1 to +1. But there isn’t a distinct boundary for each type of land cover.For example, when you have negative values, it’s highly likely that it’s water. On the other hand, if you have an NDVI value close to +1, there’s a high possibility that it’s dense green leaves. But when NDVI is close to zero, there are likely no green leaves and it could even be an urbanized area.\n",
    "\n",
    "For this first exercise you will calculate NDVI over the LMU campus.\n",
    "\n",
    "1. Load both red (``` 'data/2023-02-22-sentinel-2-red-band.tiff' ```) and NIR (``` 'data/2023-02-22-sentinel-2-NIR-band.tiff' ```) bands from images taken from Sentinel-2 satellite over the LMU campus on February 22, 2023. Make sure when loading to use ```masked=True ```. Why do we want to do this? Check to see if the bounds, resolution and CRS are the same for both datasets. \n",
    "\n",
    "2. Calculate the NDVI. Export and save to a file as ``` 'data/2023-02-22-sentinel-2-NDVI.tiff' ```\n",
    "\n",
    "3. Plot the NDVI data using the colormap ```RdYlGn```. Write 1-2 sentences describing patterns you notice.\n",
    "\n",
    "4. Create a histogram with the custom bins: ```  bins=[-1, -0.75, -0.5, -0.25, 0, 0.25, 0.5, 0.75, 1] ```. Write 1-2 sentences explaining patterns you notice. Lastly, print the max and min values. "
   ]
  },
  {
   "cell_type": "markdown",
   "metadata": {},
   "source": [
    "### 7.2  Manually Reclassify NDVI Data\n",
    "Buildling on 7.1, let's now reclassify the NDVI data to more meaningful symbologies. \n",
    "\n",
    "1. Use the following breaks to reclassify the NDVI data:\n",
    "- <0: water \n",
    "- 0 to 0.2: urban/barren\n",
    "- 0.2 to 0.5: low vegetation\n",
    "- $\\gt$ 0.5: high vegetation\n",
    "\n",
    "Note that you **do not** have to do any additional masking as your NoData mask already occured when loading in the data. \n",
    "\n",
    "2. Plot the data using the following parameters:\n",
    "- ```colors = ['blue', 'beige', 'green', 'darkgreen']```\n",
    "- ```class_bins = [0.5, 1.5, 2.5, 3.5, 4.5]```\n",
    "\n",
    "Write a few sentences of what you observe. Where does this classification scheme do well? Where does it not do well? Think of what you see walking around campus and how it compares to the map you generated. \n",
    "\n",
    "3. Create a histogram of the classified NDVI data. Give rough approximations of the percentages of each cateogry (i.e. ~20% water, ~40% barren/urban land etc.)"
   ]
  }
 ],
 "metadata": {
  "kernelspec": {
   "display_name": "Python 3.10.8 ('traillop')",
   "language": "python",
   "name": "python3"
  },
  "language_info": {
   "codemirror_mode": {
    "name": "ipython",
    "version": 3
   },
   "file_extension": ".py",
   "mimetype": "text/x-python",
   "name": "python",
   "nbconvert_exporter": "python",
   "pygments_lexer": "ipython3",
   "version": "3.10.8"
  },
  "orig_nbformat": 4,
  "vscode": {
   "interpreter": {
    "hash": "31733d31b68f2bf33a40ef3744aa6e6dabc719cffbfa95fe2fcbd4a0d9e78042"
   }
  }
 },
 "nbformat": 4,
 "nbformat_minor": 2
}
