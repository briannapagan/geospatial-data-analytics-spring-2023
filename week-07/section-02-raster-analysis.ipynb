{
 "cells": [
  {
   "cell_type": "markdown",
   "metadata": {},
   "source": [
    "Often you need to process two raster datasets together to create a new raster output and then save that output as a new file. In this lesson, you will learn how to subtract rasters and create a new GeoTIFF file in open source Python using rioxarray which is a wrapper package that adds additional spatial functions to xarray.\n"
   ]
  },
  {
   "cell_type": "code",
   "execution_count": null,
   "metadata": {},
   "outputs": [],
   "source": [
    "import os\n",
    "\n",
    "import numpy as np\n",
    "import matplotlib.pyplot as plt\n",
    "from matplotlib.colors import ListedColormap, BoundaryNorm\n",
    "import seaborn as sns\n",
    "import rioxarray as rxr\n",
    "import xarray as xr\n",
    "import geopandas as gpd\n",
    "from shapely.geometry import mapping\n",
    "\n",
    "\n",
    "# Prettier plotting with seaborn\n",
    "sns.set(font_scale=1.5, style=\"whitegrid\")\n",
    "\n",
    "# Get data and set working directory\n",
    "# Define relative path to file\n",
    "lidar_dem_path = os.path.join(\"data\",\"colorado-flood\",\n",
    "                              \"spatial\",\n",
    "                              \"boulder-leehill-rd\",\n",
    "                              \"pre-flood\",\n",
    "                              \"lidar\",\n",
    "                              \"pre_DTM.tif\")"
   ]
  },
  {
   "cell_type": "markdown",
   "metadata": {},
   "source": [
    "Open and plot the lidar digital elevation model (DEM). Note that when you read the data, you can use the argument ```masked = True``` to ensure that the no data values do not plot and are assigned ```nan``` or ```nodata```.\n"
   ]
  },
  {
   "cell_type": "code",
   "execution_count": null,
   "metadata": {},
   "outputs": [],
   "source": [
    "# Open lidar dem\n",
    "lidar_dem_xr = rxr.open_rasterio(lidar_dem_path, masked=True).squeeze()\n",
    "lidar_dem_xr"
   ]
  },
  {
   "cell_type": "markdown",
   "metadata": {},
   "source": [
    "### Import Digital Surface Model (DSM)\n",
    "Next, you will open the digital surface model (DSM). The DSM represents the top of the earth’s surface. Thus, it includes trees, buildings and other objects that sit on the earth."
   ]
  },
  {
   "cell_type": "code",
   "execution_count": null,
   "metadata": {},
   "outputs": [],
   "source": [
    "# Define relative path to file\n",
    "lidar_dsm_path = os.path.join(\"data\",\"colorado-flood\",\n",
    "                              \"spatial\",\n",
    "                              \"boulder-leehill-rd\",\n",
    "                              \"pre-flood\",\n",
    "                              \"lidar\",\n",
    "                              \"pre_DSM.tif\")\n",
    "\n",
    "# Open lidar dem\n",
    "lidar_dsm_xr = rxr.open_rasterio(lidar_dsm_path, masked=True).squeeze()\n",
    "lidar_dsm_xr"
   ]
  },
  {
   "cell_type": "markdown",
   "metadata": {},
   "source": [
    "### Canopy Height Model\n",
    "\n",
    "The canopy height model (CHM) represents the HEIGHT of the trees. This is not an elevation value, rather it’s the height or distance between the ground and the top of the trees (or buildings or whatever object that the lidar system detected and recorded).\n",
    "\n",
    "Some canopy height models also include buildings, so you need to look closely at your data to make sure it was properly cleaned before assuming it represents all trees!\n",
    "\n",
    "Calculate difference between two rasters\n",
    "There are different ways to calculate a CHM. One easy way is to subtract the DEM from the DSM.\n",
    "\n",
    "**DSM - DEM = CHM**\n",
    "\n",
    "This math gives you the residual value or difference between the top of the earth surface and the ground which should be the heights of the trees (and buildings if the data haven’t been “cleaned”).\n",
    "\n",
    "Before you subtract the two rasters. Before performing this calculate however you should check to ensure that they cover the same spatial extent and are of the same spatial resolution (pixel size).\n",
    "\n"
   ]
  },
  {
   "cell_type": "code",
   "execution_count": null,
   "metadata": {},
   "outputs": [],
   "source": [
    "# Are the bounds the same?\n",
    "print(\"Is the spatial extent the same?\",\n",
    "      lidar_dem_xr.rio.bounds() == lidar_dsm_xr.rio.bounds())\n",
    "\n",
    "# Is the resolution the same ??\n",
    "print(\"Is the resolution the same?\",\n",
    "      lidar_dem_xr.rio.resolution() == lidar_dsm_xr.rio.resolution())"
   ]
  },
  {
   "cell_type": "markdown",
   "metadata": {},
   "source": [
    "It looks like the bounds and resolution are the same. This means it is safe for you to subtract the two rasters without significant errors or uncertainty introduced.\n",
    "\n",
    "Below you calculate the difference between the two arrays to generate a Canopy Height Model. You then plot your newly created canopy height model."
   ]
  },
  {
   "cell_type": "code",
   "execution_count": null,
   "metadata": {},
   "outputs": [],
   "source": [
    "lidar_chm_xr = lidar_dsm_xr - lidar_dem_xr\n",
    "\n",
    "# Plot the data\n",
    "f, ax = plt.subplots(figsize=(10, 5))\n",
    "lidar_chm_xr.plot(cmap=\"Greens\")\n",
    "ax.set(title=\"Canopy Height Model for Lee Hill Road Pre-Flood\")\n",
    "ax.set_axis_off()\n",
    "plt.show()"
   ]
  },
  {
   "cell_type": "markdown",
   "metadata": {},
   "source": [
    "Plot a histogram to explore the range of raster values in your newly created CHM data.\n",
    "\n"
   ]
  },
  {
   "cell_type": "code",
   "execution_count": null,
   "metadata": {},
   "outputs": [],
   "source": [
    "lidar_chm_xr.plot.hist()\n",
    "plt.show()"
   ]
  },
  {
   "cell_type": "markdown",
   "metadata": {},
   "source": [
    "Take a close look at the CHM plot. Do you think that the data just represents trees? Or do you see anything that may suggest that there are other types of objects represented in the data?\n",
    "\n",
    "### Explore the CHM Data\n",
    "Next, explore the data values in your CHM. Think about the values representing things like trees and buildings in your data.\n",
    "\n",
    "Do the data make sense?"
   ]
  },
  {
   "cell_type": "code",
   "execution_count": null,
   "metadata": {},
   "outputs": [],
   "source": [
    "print('CHM minimum value: ', np.nanmin(lidar_chm_xr))\n",
    "print('CHM max value: ', np.nanmax(lidar_chm_xr))"
   ]
  },
  {
   "cell_type": "markdown",
   "metadata": {},
   "source": [
    "### Export a Raster to Geotiff Using RioXarray\n",
    "You can export a raster file in python using the ```rioxarray write()``` function. Export the canopy height model that you just created to your data folder. You will create a new directory called “outputs” within the ```colorado-flood``` directory. This structure allows you to keep things organized, separating your outputs from the data you downloaded.\n",
    "\n",
    "NOTE: you can use the code below to check for and create an outputs directory. OR, you can create the directory yourself using the finder (MAC) or windows explorer."
   ]
  },
  {
   "cell_type": "code",
   "execution_count": null,
   "metadata": {},
   "outputs": [],
   "source": [
    "data_path = os.path.join(\"data\",\"colorado-flood\",\n",
    "                         \"spatial\",\n",
    "                         \"outputs\")\n",
    "\n",
    "if os.path.exists(data_path):\n",
    "    print(\"The directory\", data_path, \"exists!\")\n",
    "else:\n",
    "    os.makedirs(data_path)"
   ]
  },
  {
   "cell_type": "code",
   "execution_count": null,
   "metadata": {},
   "outputs": [],
   "source": [
    "# Make sure that your output data has a crs & no data value defined\n",
    "print(\"The crs is\", lidar_chm_xr.rio.crs)\n",
    "print(\"The no data value is\", lidar_chm_xr.rio.nodata)"
   ]
  },
  {
   "cell_type": "code",
   "execution_count": null,
   "metadata": {},
   "outputs": [],
   "source": [
    "pre_chm_data_path = os.path.join(data_path, \"pre-flood-chm.tif\")\n",
    "pre_chm_data_path"
   ]
  },
  {
   "cell_type": "code",
   "execution_count": null,
   "metadata": {},
   "outputs": [],
   "source": [
    "# Export data to geotiff\n",
    "lidar_chm_xr.rio.to_raster(pre_chm_data_path)"
   ]
  },
  {
   "cell_type": "code",
   "execution_count": null,
   "metadata": {},
   "outputs": [],
   "source": [
    "# Reopen the data\n",
    "lidar_chm_data = rxr.open_rasterio(pre_chm_data_path, masked=True).squeeze()\n",
    "lidar_chm_data"
   ]
  },
  {
   "cell_type": "markdown",
   "metadata": {},
   "source": [
    "## Manually Reclassify Raster Data\n",
    "In this lesson, you will learn how to reclassify a raster dataset in Python. When you reclassify a raster, you create a new raster object / file that can be exported and shared with colleagues and / or open in other tools such as QGIS.\n",
    "\n",
    "In that raster, each pixel is mapped to a new value based on some approach. This approach can vary depending upon your science question.\n",
    "\n",
    "![_._](img/reclass-raster-esri.gif)\n",
    "\n",
    "When you reclassify a raster, you create a new raster. In that raster, each cell from the old raster is mapped to the new raster. The values in the new raster are applied using a defined range of values or a raster map. For example above you can see that all cells that contains the values 1-3 are assigned the new value of 5. Source: ESRI\n",
    "Raster Classification Steps\n",
    "You can break your raster processing workflow into several steps as follows:\n",
    "\n",
    "- Data import / cleanup: load and “clean” the data. This includes cropping, removing with nodata values\n",
    "- Data Exploration: understand the range and distribution of values in your data. This may involve plotting histograms and scatter plots to determine what classes are appropriate for our data\n",
    "- Reclassify the Data: Once you understand the distribution of your data, you are ready to reclassify. There are statistical and non-statistical approaches to reclassification. Here you will learn how to manually reclassify a raster using bins that you define in your data exploration step.\n",
    "Please note - working with data is not a linear process. Above you see a potential workflow. You will develop your own workflow and approach.\n",
    "\n",
    "To get started, first load the required libraries and then open up your raster. In this case, you are using the lidar canopy height model (CHM) that you calculated in the previous lesson."
   ]
  },
  {
   "cell_type": "code",
   "execution_count": null,
   "metadata": {},
   "outputs": [],
   "source": [
    "# Define relative paths to DTM and DSM files\n",
    "dtm_path = os.path.join(\"data\",\"colorado-flood\",\n",
    "                        \"spatial\",\n",
    "                        \"boulder-leehill-rd\",\n",
    "                        \"pre-flood\",\n",
    "                        \"lidar\",\n",
    "                        \"pre_DTM.tif\")\n",
    "\n",
    "dsm_path = os.path.join(\"data\",\"colorado-flood\",\n",
    "                        \"spatial\",\n",
    "                        \"boulder-leehill-rd\",\n",
    "                        \"pre-flood\",\n",
    "                        \"lidar\",\n",
    "                        \"pre_DSM.tif\")\n",
    "\n",
    "# Open DTM and DSM files\n",
    "pre_lidar_dtm = rxr.open_rasterio(dtm_path, masked=True).squeeze()\n",
    "pre_lidar_dsm = rxr.open_rasterio(dsm_path, masked=True).squeeze()\n",
    "\n",
    "# Create canopy height model (CHM)\n",
    "pre_lidar_chm = pre_lidar_dsm - pre_lidar_dtm\n",
    "pre_lidar_chm"
   ]
  },
  {
   "cell_type": "markdown",
   "metadata": {},
   "source": [
    "### What Classification Values to Use?\n",
    "There are many different approaches to classification. Some use highly sophisticated spatial algorithms that identify patterns in the data that can in turn be used to classify particular pixels into particular “classes”.\n",
    "\n",
    "In this case, you are simply going to create the classes manually using the range of quantitative values found in our data.\n",
    "\n",
    "Assuming that our data represent trees (though you know there are likely some buildings in the data), classify your raster into 3 classes:\n",
    "\n",
    "- Short trees\n",
    "- Medium trees\n",
    "- Tall trees\n",
    "\n",
    "To perform this classification, you need to understand which values represent short trees vs medium trees vs tall trees in your raster. This is where histograms can be extremely useful.\n",
    "\n",
    "Start by looking at the min and max values in your CHM."
   ]
  },
  {
   "cell_type": "code",
   "execution_count": null,
   "metadata": {},
   "outputs": [],
   "source": [
    "print('CHM min value:', np.nanmin(pre_lidar_chm))\n",
    "print('CHM max value:', np.nanmax(pre_lidar_chm))"
   ]
  },
  {
   "cell_type": "markdown",
   "metadata": {},
   "source": [
    "### Get to Know Raster Summary Statistics\n",
    "Get to know your data by looking at a histogram. A histogram quantifies the distribution of values found in your data."
   ]
  },
  {
   "cell_type": "code",
   "execution_count": null,
   "metadata": {},
   "outputs": [],
   "source": [
    "f, ax = plt.subplots()\n",
    "pre_lidar_chm.plot.hist(color=\"purple\")\n",
    "ax.set(title=\"Distribution of Raster Cell Values in the CHM Data\",\n",
    "       xlabel=\"Height (m)\",\n",
    "       ylabel=\"Number of Pixels\")\n",
    "plt.show()"
   ]
  },
  {
   "cell_type": "markdown",
   "metadata": {},
   "source": [
    "### Explore Raster Histograms\n",
    "Further explore your histogram, by constraining the x axis limits using the xlim and ylim parameters.\n",
    "\n",
    "These lim parameters visually zooms in on the data in the plot. It does not modify the data.\n",
    "\n",
    "You might also chose to adjust the number of bins in your plot. Below you plot a bin for each increment on the x axis calculated using:\n",
    "\n",
    "```hist_range(*xlim)```\n",
    "\n",
    "You could also set ```bins = 100``` or some other value if you wish.\n",
    "\n",
    "You can look at the values that Python used to draw your histogram, too.\n",
    "\n",
    "To do this, you can collect the outputs that are returned when you call ```np.histogram```. This consists of two things:\n",
    "\n",
    "- ```counts```, which represents the number of items in each bin\n",
    "- ```bins```, which represents the edges of the bins (there will be one extra item in bins compared to counts)\n",
    "\n",
    "Each bin represents a bar on your histogram plot. Each bar represents the frequency or number of pixels that have a value within that bin.\n",
    "\n",
    "Notice that you have adjusted the ```xlim``` and ```ylim``` to zoom into the region of the histogram that you are interested in exploring; however, the values did not actually change.\n",
    "\n",
    "### Histogram with Custom Breaks\n",
    "Customize your histogram with breaks that you think might make sense as breaks to use for your raster map.\n",
    "\n",
    "In the example below, breaks are added in 5 meter increments using the bins = argument.\n",
    "\n",
    "```bins=[0, 5, 10, 15, 20, 30]```"
   ]
  },
  {
   "cell_type": "code",
   "execution_count": null,
   "metadata": {},
   "outputs": [],
   "source": [
    "# Histogram with custom breaks\n",
    "f, ax = plt.subplots()\n",
    "pre_lidar_chm.plot.hist(color=\"purple\",\n",
    "                        bins=[0, 5, 10, 15, 20, 30])\n",
    "ax.set(title=\"Histogram with Custom Breaks\",\n",
    "       xlabel=\"Height (m)\",\n",
    "       ylabel=\"Number of Pixels\")\n",
    "\n",
    "plt.show()"
   ]
  },
  {
   "cell_type": "markdown",
   "metadata": {},
   "source": [
    "You may want to play with the distribution of breaks. Below it appears as if there are many values close to 0.\n",
    "\n",
    "In the case of this lidar instrument, you know that values between 0 and 2 meters are not reliable (you know this if you read the documentation about the NEON sensor and how these data were processed).\n",
    "\n",
    "Below you create a bin between 0-2.\n",
    "\n",
    "You also know you want to create bins for short, medium and tall trees, so experiment with those bins as well.\n",
    "\n",
    "Below following breaks are used:\n",
    "\n",
    "- 0 - 2 = no trees\n",
    "- 2 - 7 = short trees\n",
    "- 7 - 12 = medium trees\n",
    "- great than 12 = tall trees"
   ]
  },
  {
   "cell_type": "code",
   "execution_count": null,
   "metadata": {},
   "outputs": [],
   "source": [
    "f, ax = plt.subplots()\n",
    "\n",
    "pre_lidar_chm.plot.hist(\n",
    "    color='purple',\n",
    "    bins=[0, 2, 7, 12, 30])\n",
    "ax.set(title=\"Histogram with Custom Breaks\",\n",
    "       xlabel=\"Height (m)\",\n",
    "       ylabel=\"Number of Pixels\")\n",
    "\n",
    "plt.show()"
   ]
  },
  {
   "cell_type": "markdown",
   "metadata": {},
   "source": [
    "You may want to play around with the setting specific bins associated with your science question and the study area. To begin, use the classes above to reclassify your CHM raster.\n",
    "\n",
    "### Map Raster Values to New Values\n",
    "To reclassify your raster, first you need to create a reclassification matrix.\n",
    "\n",
    "This matrix MAPS a range of values to a new defined value. You will use this matrix to create a classified canopy height model where you designate short, medium and tall trees.\n",
    "\n",
    "The newly defined values will be as follows:\n",
    "\n",
    "- No trees: (0m - 2m tall) = NA\n",
    "- Short trees: (2m - 7m tall) = 1\n",
    "- Medium trees: (7m - 12m tall) = 2\n",
    "- Tall trees: (> 12m tall) = 3\n",
    "\n",
    "Notice in the list above that you set cells with a value between 0 and 2 meters to NA or nodata value. This means you are assuming that there are no trees in those locations!\n",
    "\n",
    "Notice in the matrix below that you use Inf to represent the largest or max value found in the raster. So our assignment is as follows:\n",
    "\n",
    "- 0 - 2 meters -> 1\n",
    "- 2 - 7 meters -> 2 (short trees)\n",
    "- 7 - 12 meters -> 3 (medium trees)\n",
    "- /> 12 or 12 - Inf -> 4 (tall trees)\n",
    "Below you create the matrix.\n",
    "\n",
    "```np.digitize```\n",
    "Numpy has a function called digitize that is useful for classifying the values in an array. It is similar to how histogram works, because it categorizes datapoints into bins. However, unlike histogram, it doesn’t aggregate/count the number of values within each bin.\n",
    "\n",
    "Instead, ```digitize``` will replace each datapoint with an integer corresponding to which bin it belongs to. You can use this to determine which datapoints fall within certain ranges.\n",
    "\n",
    "When you use ```np.digitize```, the bins that you create work as follows:\n",
    "\n",
    "The starting value by default is included in each bin. The ending value of the bin is not and will be the beginning of the next bin. You can add the argument ```right = True``` if you want the second value in the bin to be included but not the first.\n",
    "\n",
    "Any values BELOW the bins as defined will be assigned a 0. Any values ABOVE the highest value in your bins will be assigned the next value available. Thus, if you have:\n",
    "\n",
    "```class_bins = [0, 2, 7, 12, 30]```\n",
    "\n",
    "Any values that are equal to 30 or larger will be assigned a value of 5. Any values that are < 0 will be assigned a value of 0.\n",
    "\n",
    "Oftentimes, you can use ```np.inf``` in your array to include all values greater than the last value, and you can use ```-np.inf``` in your array to include all values less than the first value.\n",
    "\n",
    "However, if you are using the class bins for a BoundaryNorm object for a plot,```np.inf``` will throw an error in matplotlib. The BoundaryNorm object cannot handle an infinity value, so you must supply it with an actual integer.\n",
    "\n",
    "A good stand in for ```np.inf``` is the maximum value numpy can store as an integer, which can be accessed by using ```np.iinfo(np.int32).max```. This will have the same effect as ```np.inf``` without breaking the BoundaryNorm object.\n",
    "\n",
    "Likewise, you can use the minimum value of the array ```(arr.min()) ``` instead of ```-np.inf```."
   ]
  },
  {
   "cell_type": "code",
   "execution_count": null,
   "metadata": {},
   "outputs": [],
   "source": [
    "# Check nodata value for your array\n",
    "pre_lidar_chm.rio.nodata"
   ]
  },
  {
   "cell_type": "markdown",
   "metadata": {},
   "source": [
    "Below you define 4 bins. However, you end up with a ```fifth class == 0``` which represents values smaller than 0 which is the minimum value in your chm.\n",
    "\n",
    "These values < 0 come from the numpy mask fill value which you can see identified above this text."
   ]
  },
  {
   "cell_type": "code",
   "execution_count": null,
   "metadata": {},
   "outputs": [],
   "source": [
    "data_min_value = np.nanmin(pre_lidar_chm)\n",
    "data_max_value = np.nanmax(pre_lidar_chm)\n",
    "print(data_min_value, data_max_value)"
   ]
  },
  {
   "cell_type": "code",
   "execution_count": null,
   "metadata": {},
   "outputs": [],
   "source": [
    "class_bins = [-np.inf, 2, 7, 12, np.inf]\n",
    "class_bins"
   ]
  },
  {
   "cell_type": "code",
   "execution_count": null,
   "metadata": {},
   "outputs": [],
   "source": [
    "pre_lidar_chm_class = xr.apply_ufunc(np.digitize,\n",
    "                                     pre_lidar_chm,\n",
    "                                     class_bins)"
   ]
  },
  {
   "cell_type": "code",
   "execution_count": null,
   "metadata": {},
   "outputs": [],
   "source": [
    "im = pre_lidar_chm_class.plot.imshow()\n",
    "ax.set_axis_off()"
   ]
  },
  {
   "cell_type": "markdown",
   "metadata": {},
   "source": [
    "After running the classification, you have one extra class. This class - the first class - is your missing data value. Your classified array output is also a regular (not a masked) array.\n",
    "\n",
    "You can reassign the first class in your data to a mask using ```xarray .where()```.\n",
    "\n"
   ]
  },
  {
   "cell_type": "code",
   "execution_count": null,
   "metadata": {},
   "outputs": [],
   "source": [
    "# Mask out values not equalt to 5\n",
    "pre_lidar_chm_class_ma = pre_lidar_chm_class.where(pre_lidar_chm_class != 5)\n",
    "pre_lidar_chm_class_ma"
   ]
  },
  {
   "cell_type": "code",
   "execution_count": null,
   "metadata": {},
   "outputs": [],
   "source": [
    "# Plot newly classified and masked raster\n",
    "f, ax = plt.subplots(figsize=(10,5))\n",
    "pre_lidar_chm_class_ma.plot.imshow()\n",
    "ax.set(title=\"Classified Plot With a Colorbar\")\n",
    "\n",
    "ax.set_axis_off()\n",
    "plt.show()"
   ]
  },
  {
   "cell_type": "code",
   "execution_count": null,
   "metadata": {},
   "outputs": [],
   "source": [
    "# Plot data using nicer colors\n",
    "colors = ['linen', 'lightgreen', 'darkgreen', 'maroon']\n",
    "class_bins = [.5, 1.5, 2.5, 3.5, 4.5]\n",
    "cmap = ListedColormap(colors)\n",
    "norm = BoundaryNorm(class_bins, \n",
    "                    len(colors))\n",
    "\n",
    "# Plot newly classified and masked raster\n",
    "f, ax = plt.subplots(figsize=(10, 5))\n",
    "pre_lidar_chm_class_ma.plot.imshow(cmap=cmap,\n",
    "                                   norm=norm)\n",
    "ax.set(title=\"Classified Plot With a Colorbar and Custom Colormap (cmap)\")\n",
    "ax.set_axis_off()\n",
    "plt.show()"
   ]
  },
  {
   "cell_type": "markdown",
   "metadata": {},
   "source": [
    "### About Spatial Crop\n",
    "Cropping (sometimes also referred to as clipping), is when you subset or make a dataset smaller, by removing all data outside of the crop area or spatial extent. In this case you have a large raster - but let’s pretend that you only need to work with a smaller subset of the raster.\n",
    "\n",
    "You can use the crop_image function to remove all of the data outside of your study area. This is useful as it:\n",
    "\n",
    "Makes the data smaller and\n",
    "Makes processing and plotting faster\n",
    "In general when you can, it’s often a good idea to crop your raster data!\n",
    "\n",
    "To begin let’s load the libraries that you will need in this lesson."
   ]
  },
  {
   "cell_type": "code",
   "execution_count": null,
   "metadata": {},
   "outputs": [],
   "source": [
    "lidar_chm_path = os.path.join(\"data\",\"colorado-flood\", \n",
    "                              \"spatial\"\n",
    "                              \"boulder-leehill-rd\",\n",
    "                              \"outputs\",\n",
    "                              \"lidar_chm.tif\")\n",
    "\n",
    "lidar_chm_im = rxr.open_rasterio(\"data/colorado-flood/spatial/boulder-leehill-rd/outputs/lidar_chm.tif\",\n",
    "                                 masked=True).squeeze()\n",
    "\n",
    "f, ax = plt.subplots(figsize=(10, 5))\n",
    "lidar_chm_im.plot.imshow()\n",
    "ax.set(title=\"Lidar Canopy Height Model (CHM)\")\n",
    "\n",
    "ax.set_axis_off()\n",
    "plt.show()"
   ]
  },
  {
   "cell_type": "markdown",
   "metadata": {},
   "source": [
    "### Open Vector Layer\n",
    "To begin your clip, open up a vector layer that contains the crop extent that you want to use to crop your data. To open a shapefile you use the ```gpd.read_file()``` function from geopandas. "
   ]
  },
  {
   "cell_type": "code",
   "execution_count": null,
   "metadata": {},
   "outputs": [],
   "source": [
    "import geopandas as gpd\n",
    "\n",
    "aoi = os.path.join(\"data\",\"colorado-flood\",\n",
    "                   \"spatial\",\n",
    "                   \"boulder-leehill-rd\",\n",
    "                   \"clip-extent.shp\")\n",
    "\n",
    "# Open crop extent (your study area extent boundary)\n",
    "crop_extent = gpd.read_file(aoi)\n"
   ]
  },
  {
   "cell_type": "markdown",
   "metadata": {},
   "source": [
    "Next, view the coordinate reference system (CRS) of both of your datasets. Remember that in order to perform any analysis with these two datasets together, they will need to be in the same CRS.\n",
    "\n"
   ]
  },
  {
   "cell_type": "code",
   "execution_count": null,
   "metadata": {},
   "outputs": [],
   "source": [
    "print('crop extent crs: ', crop_extent.crs)\n",
    "print('lidar crs: ', lidar_chm_im.rio.crs)"
   ]
  },
  {
   "cell_type": "code",
   "execution_count": null,
   "metadata": {},
   "outputs": [],
   "source": [
    "# Plot the crop boundary layer\n",
    "# Note this is just an example so you can see what it looks like\n",
    "# You don't need to plot this layer in your homework!\n",
    "fig, ax = plt.subplots(figsize=(6, 6))\n",
    "\n",
    "crop_extent.plot(ax=ax)\n",
    "\n",
    "ax.set_title(\"Shapefile Crop Extent\",\n",
    "             fontsize=16)\n",
    "plt.show()"
   ]
  },
  {
   "cell_type": "markdown",
   "metadata": {},
   "source": [
    "### Clip Raster Data Using RioXarray .clip\n",
    "If you want to crop the data you can use the ```rio.clip``` function. When you clip the data, you can then export it and share it with colleagues. Or use it in another analysis.\n",
    "\n",
    "To perform the clip you:\n",
    "\n",
    "1. Open the raster dataset that you wish to crop using xarray or rioxarray.\n",
    "2. Open your shapefile as a geopandas object.\n",
    "3. Crop the data using the ```.clip()``` function.\n",
    ".clip has several parameters that you can consider including\n",
    "\n",
    "- ```drop = True``` : The default. setting it will drop all pixels outside of the clip extent\n",
    "- ```invert = False``` : The default. If set to true it will clip all data INSIDE of the clip extent\n",
    "- ```crs``` : if your shapefile is in a different CRS than the raster data, pass the CRS to ensure the data are clipped correctly.\n",
    "Below you clip the data to the extent of the AOI geodataframe imported above. The data are then plotted."
   ]
  },
  {
   "cell_type": "code",
   "execution_count": null,
   "metadata": {},
   "outputs": [],
   "source": [
    "lidar_clipped = lidar_chm_im.rio.clip(crop_extent.geometry.apply(mapping),\n",
    "                                      # This is needed if your GDF is in a diff CRS than the raster data\n",
    "                                      crop_extent.crs)\n",
    "\n",
    "f, ax = plt.subplots(figsize=(10, 4))\n",
    "lidar_clipped.plot(ax=ax)\n",
    "ax.set(title=\"Raster Layer Cropped to Geodataframe Extent\")\n",
    "ax.set_axis_off()\n",
    "plt.show()"
   ]
  },
  {
   "cell_type": "code",
   "execution_count": null,
   "metadata": {},
   "outputs": [],
   "source": [
    "path_to_tif_file = os.path.join(\"data\",\"colorado-flood\",\n",
    "                                \"spatial\",\n",
    "                                \"outputs\",\n",
    "                                \"lidar_chm_cropped.tif\")\n",
    "\n",
    "# Write the data to a new geotiff file\n",
    "lidar_clipped.rio.to_raster(path_to_tif_file)"
   ]
  },
  {
   "cell_type": "code",
   "execution_count": null,
   "metadata": {},
   "outputs": [],
   "source": [
    "# Open the data you wrote out above\n",
    "clipped_chm = rxr.open_rasterio(path_to_tif_file)\n",
    "\n",
    "# Customize your plot as you wish!\n",
    "f, ax = plt.subplots(figsize=(10, 4))\n",
    "clipped_chm.plot(ax=ax,\n",
    "                 cmap='Greys')\n",
    "ax.set(title=\"Final Clipped CHM\")\n",
    "ax.set_axis_off()\n",
    "plt.show()"
   ]
  }
 ],
 "metadata": {
  "kernelspec": {
   "display_name": "Python 3.10.8 ('traillop')",
   "language": "python",
   "name": "python3"
  },
  "language_info": {
   "codemirror_mode": {
    "name": "ipython",
    "version": 3
   },
   "file_extension": ".py",
   "mimetype": "text/x-python",
   "name": "python",
   "nbconvert_exporter": "python",
   "pygments_lexer": "ipython3",
   "version": "3.10.8"
  },
  "orig_nbformat": 4,
  "vscode": {
   "interpreter": {
    "hash": "31733d31b68f2bf33a40ef3744aa6e6dabc719cffbfa95fe2fcbd4a0d9e78042"
   }
  }
 },
 "nbformat": 4,
 "nbformat_minor": 2
}
