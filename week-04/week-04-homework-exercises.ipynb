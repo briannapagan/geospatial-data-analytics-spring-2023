{
 "cells": [
  {
   "cell_type": "markdown",
   "metadata": {},
   "source": [
    "# Week 04 Exercises \n",
    "\n",
    "## 4.1\n",
    "\n",
    "Let's start with some basic practice using the **shapely** package. Do the following steps:\n",
    "\n",
    "\n",
    "<ol type=\"a\">\n",
    "  <li>Creat a polygon from the following points: (-118.4152,33.9699), (-118.4152,33.9689),(-118.4144,33.9689),(-118.4143, 33.96890,(-118.4142,33.96990,9-118.4152,33.9699)</li>\n",
    "  <li>Create a new variable that stores both x and y coordinates</li>\n",
    "  <li>What is the centroid of this polygon?</li>\n",
    "  <li>What is the bounding box? Write an explanation of what the bounding box actual means relative to the polygon.</li>\n",
    "</ol>\n"
   ]
  },
  {
   "cell_type": "markdown",
   "metadata": {},
   "source": [
    "## 4.2\n",
    "\n",
    "Now let's move on with practicing using **geopandas** and working with various CRS. We will use the County of Los Angeles Justice Equity Need Index (by zip code). Some information on the dataset:\n",
    "The Justice Equity Need Index (JENI) identifies ZIP Codes in greatest need of public investments in community healing, health, and prevention to help reverse historical injustices. Updated 2022.\n",
    "\n",
    "The Justice Equity Need Index (JENI), by Advancement Project California, offers a means to map out the disparate burden that criminalization and a detention-first justice model place on specific communities. The index includes the following indicators:\n",
    "\n",
    "<ol type=\"1\">\n",
    "\n",
    "<li>System Involvement: The system-involved population by ZIP Code results in direct needs for justice equity, as measured by adult and youth probation.\n",
    "\n",
    "- Indicators: Adult Probation (per 1,000 people); Youth Probation (per 1,000 people) </li>\n",
    "\n",
    "<li>Inequity Drivers: Root inequities across communities that contribute to racial and economic disparities as seen in incarceration and policing.\n",
    "\n",
    "- Indicators: Black, Latinx, AIAN, and NHPI Percentages of Population (average percentile); Unemployment Rate (%); Population aged 25+ without a High School Diploma (%); Population below 200% of the Federal Poverty Level (%); Violent Crime Rate (per 1,000 people)</li>\n",
    "\n",
    "<li>Criminalization Risk: Conditions where the criminal justice system has historically taken a detention-first, prevention-last approach.\n",
    "\n",
    "- Indicators: Mental Health Hospitalizations (per 1,000 people); Substance Use-Related Hospitalizations (per 1,000 people); Homelessness Rate (per 1,000 people)</li>\n",
    "</ol>\n",
    "\n",
    "Learn more at https://www.advancementprojectca.org/tools-we-use/maps-and-data/justice-equity-need-index.\n",
    "\n",
    "Supervisorial Districts, SPAs, and CSAs determined by ZIP Code centroid.\n"
   ]
  },
  {
   "cell_type": "markdown",
   "metadata": {},
   "source": [
    "Complete the following tasks:\n",
    "\n",
    "<ol type=\"a\">\n",
    "  <li>Load the dataset as a geopandas dataframe. The data is located under 'data/Justice_Equity_Need_Index.geojson' </li>\n",
    "  <li>What is the default CRS? Write a sentence about what type of CRS it is.</li>\n",
    "  <li>Remember, geopandas is just the spatial version of pandas with lots of the same functionality. Knowing some commands from pandas from previous exercises, answer the following:\n",
    "\n",
    "  - What is the size of the dataframe?\n",
    "  - List the column names.\n",
    "  - Show the first 10 rows of the dataframe. </li>\n",
    "  <li>Make a copy of the dataframe. \n",
    "\n",
    "  - Reproject the CRS is epsg:3857\n",
    "  - Use matplotlib to graph BOTH versions of the dataframe, in the original CRS and in the new reprojected CRS. Make sure to use clear titles\n",
    "  - Write a few sentences of differences you see in the visualizations between the two.  </li>\n",
    "</ol>\n"
   ]
  }
 ],
 "metadata": {
  "kernelspec": {
   "display_name": "Python 3.10.8 ('traillop')",
   "language": "python",
   "name": "python3"
  },
  "language_info": {
   "codemirror_mode": {
    "name": "ipython",
    "version": 3
   },
   "file_extension": ".py",
   "mimetype": "text/x-python",
   "name": "python",
   "nbconvert_exporter": "python",
   "pygments_lexer": "ipython3",
   "version": "3.10.8"
  },
  "orig_nbformat": 4,
  "vscode": {
   "interpreter": {
    "hash": "31733d31b68f2bf33a40ef3744aa6e6dabc719cffbfa95fe2fcbd4a0d9e78042"
   }
  }
 },
 "nbformat": 4,
 "nbformat_minor": 2
}
