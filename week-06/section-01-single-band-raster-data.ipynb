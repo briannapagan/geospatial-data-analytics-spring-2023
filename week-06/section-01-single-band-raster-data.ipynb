{
 "cells": [
  {
   "cell_type": "markdown",
   "metadata": {},
   "source": [
    "The [data story on Lidar data](https://www.earthdatascience.org/courses/use-data-open-source-python/data-stories/lidar-raster-data/lidar-intro/) reviews the basic principles behind Lidar raster datasets.\n",
    "\n",
    "In previous chapters you learned how to use the open source Python package Geopandas to open vector data stored in shapefile format. In this chapter you will learn how to use the open source Python packages rasterio combined with numpy and earthpy to open, manipulate and plot raster data in Python. In this chapter, you will learn how to open and plot a lidar raster dataset in Python. You will also learn about key attributes of a raster dataset:\n",
    "\n",
    "1. Spatial resolution\n",
    "2. Spatial extent and\n",
    "3. Coordinate reference systems"
   ]
  },
  {
   "cell_type": "markdown",
   "metadata": {},
   "source": [
    "### What is a Raster?\n",
    "\n",
    "Raster or “gridded” data are stored as a grid of values which are rendered on a map as pixels. Each pixel value represents an area on the Earth’s surface. A raster file is composed of regular grid of cells, all of which are the same size.\n",
    "\n",
    "You’ve looked at and used rasters before if you’ve looked at photographs or imagery in a tool like Google Earth. However, the raster files that you will work with are different from photographs in that they are spatially referenced. Each pixel represents an area of land on the ground. That area is defined by the spatial resolution of the raster.\n",
    "\n",
    "\n",
    "![_._](img/raster-concept.png)\n",
    "A raster is composed of a regular grid of cells. Each cell is the same size in the x and y direction. Source: Colin Williams, NEON.\n",
    "\n",
    "### Raster Facts\n",
    "\n",
    "A few notes about rasters:\n",
    "\n",
    "Each cell is called a pixel.\n",
    "And each pixel represents an area on the ground.\n",
    "The resolution of the raster represents the area that each pixel represents on the ground. So, a 1 meter resolution raster, means that each pixel represents a 1 m by 1 m area on the ground.\n",
    "A raster dataset can have attributes associated with it as well. For instance in a Lidar derived digital elevation model (DEM), each cell represents an elevation value for that location on the earth. In a LIDAR derived intensity image, each cell represents a Lidar intensity value or the amount of light energy returned to and recorded by the sensor.\n",
    "![_._](img/raster-resolution.png)\n"
   ]
  },
  {
   "cell_type": "markdown",
   "metadata": {},
   "source": [
    "### Open Raster Data in Open Source Python\n",
    "\n",
    "Remember from the previous lesson that raster or “gridded” data are stored as a grid of values which are rendered on a map as pixels. Each pixel value represents an area on the Earth’s surface. A raster file is composed of regular grid of cells, all of which are the same size. Raster data can be used to store many different types of scientific data including\n",
    "\n",
    "- elevation data\n",
    "- canopy height models\n",
    "- surface temperature\n",
    "- climate model data outputs\n",
    "- landuse / landcover data\n",
    "\n",
    "and more.\n",
    "\n",
    "In this section you will learn more about working with lidar derived raster data that represents both terrain / elevation data (elevation of the earth’s surface), and surface elevation (elevation at the tops of trees, buildings etc above the earth’s surface). If you want to read more about how lidar data are used to derive raster based surface models, you can [check out this chapter on lidar remote sensing data and the various raster data products derived from lidar data](https://www.earthdatascience.org/courses/use-data-open-source-python/data-stories/what-is-lidar-data/).\n",
    "\n",
    "![_._](img/lidarTree-height.png)\n",
    "\n",
    "Digital Surface Model (DSM), Digital Elevation Models (DEM) and the Canopy Height Model (CHM) are the most common raster format lidar derived data products. One way to derive a CHM is to take the difference between the digital surface model (DSM, tops of trees, buildings and other objects) and the Digital Terrain Model (DTM, ground level). The CHM represents the actual height of trees, buildings, etc. with the influence of ground elevation removed. Graphic: Colin Williams, NEON\n"
   ]
  },
  {
   "cell_type": "code",
   "execution_count": null,
   "metadata": {},
   "outputs": [],
   "source": [
    "# Import necessary packages\n",
    "import os\n",
    "\n",
    "import numpy as np\n",
    "import matplotlib.pyplot as plt\n",
    "import seaborn as sns\n",
    "# Use geopandas for vector data and xarray for raster data\n",
    "import geopandas as gpd\n",
    "import rioxarray as rxr\n",
    "\n",
    "\n",
    "# Prettier plotting with seaborn\n",
    "sns.set(font_scale=1.5, style=\"white\")"
   ]
  },
  {
   "cell_type": "code",
   "execution_count": null,
   "metadata": {},
   "outputs": [],
   "source": [
    "dem_pre_path = os.path.join(\"data\",\"colorado-flood\",\n",
    "                            \"spatial\",\n",
    "                            \"boulder-leehill-rd\",\n",
    "                            \"pre-flood\",\n",
    "                            \"lidar\",\n",
    "                            \"pre_DTM.tif\")\n",
    "\n",
    "dtm_pre_arr = rxr.open_rasterio(dem_pre_path)\n",
    "dtm_pre_arr"
   ]
  },
  {
   "cell_type": "markdown",
   "metadata": {},
   "source": [
    "When you open raster data using **xarray** or **rioxarray** you are creating an ```xarray.DataArray```. The. ```DataArray``` object stores the:\n",
    "\n",
    "- raster data in a numpy array format\n",
    "- spatial metadata including the CRS, spatial extent of the object\n",
    "- and any metadata\n",
    "```Xarray``` and ```numpy``` provide an efficient way to work with and process raster data. ```xarray``` also supports dask and parallel processing which allows you to more efficiently process larger datasets using the processing power that you have on your computer\n",
    "\n",
    "When you add ```rioxarray``` to your package imports, you further get access to spatial data processing using xarray objects. Below, you can view the spatial extent (```bounds()```) and ```CRS``` of the data that you just opened above.\n",
    "\n"
   ]
  },
  {
   "cell_type": "code",
   "execution_count": null,
   "metadata": {},
   "outputs": [],
   "source": [
    "# View the Coordinate Reference System (CRS) \n",
    "print(\"The CRS for this data is:\", dtm_pre_arr.rio.crs)\n"
   ]
  },
  {
   "cell_type": "markdown",
   "metadata": {},
   "source": [
    "Next, you’ll learn about **spatial extent** of your raster data. The spatial extent of a raster or spatial object is the geographic area that the raster data covers.\n",
    "\n",
    "![_._](img/raster-spatial-extent-coordinates.png)\n",
    "\n",
    "The spatial extent of raster data. Notice that the spatial extent represents the rectangular area that the data cover. Thus, if the data are not rectangular (i.e. points OR an image that is rotated in some way) the spatial extent covers portions of the dataset where there are no data. Image Source: National Ecological Observatory Network (NEON).\n",
    "\n",
    "![_._](img/spatial-extent.png)\n",
    "\n",
    "\n",
    "The spatial extent of vector data which you will learn next week. Notice that the spatial extent represents the rectangular area that the data cover. Thus, if the data are not rectangular (i.e. points OR an image that is rotated in some way) the spatial extent covers portions of the dataset where there are no data. Image Source: National Ecological Observatory Network (NEON)\n",
    "The spatial extent of an Python spatial object represents the geographic “edge” or location that is the furthest north, south, east and west. In other words, ```extent``` represents the overall geographic coverage of the spatial object.\n",
    "\n",
    "You can access the spatial extent using the ```.bounds()``` attribute in ```rasterio```.\n",
    "\n",
    "\n",
    "\n"
   ]
  },
  {
   "cell_type": "code",
   "execution_count": null,
   "metadata": {},
   "outputs": [],
   "source": [
    "# View the spatial extent\n",
    "\n",
    "print(\"The spatial extent is:\", dtm_pre_arr.rio.bounds())"
   ]
  },
  {
   "cell_type": "markdown",
   "metadata": {},
   "source": [
    "A raster has horizontal (x and y) resolution. This resolution represents the area on the ground that each pixel covers. The units for your data are in meters as determined by the CRS above. In this case, your data resolution is 1 x 1. This means that each pixel represents a 1 x 1 meter area on the ground. You can view the resolution of your data using the ```.res``` function."
   ]
  },
  {
   "cell_type": "code",
   "execution_count": null,
   "metadata": {},
   "outputs": [],
   "source": [
    "# What is the x and y resolution for your raster data?\n",
    "dtm_pre_arr.rio.resolution()"
   ]
  },
  {
   "cell_type": "markdown",
   "metadata": {},
   "source": [
    "The ```nodata``` value (or fill value) is also stored in the ```xarray``` object.\n",
    "\n"
   ]
  },
  {
   "cell_type": "code",
   "execution_count": null,
   "metadata": {},
   "outputs": [],
   "source": [
    "print(\"The no data value is:\", dtm_pre_arr.rio.nodata)\n"
   ]
  },
  {
   "cell_type": "markdown",
   "metadata": {},
   "source": [
    "You can assign this string to a Python object, too. The example below only shows the code example to set a crs for an object where it is missing and you know what the CRS should be. In this case your data already has a defined CRS so this step is not necessary.\n",
    "\n"
   ]
  },
  {
   "cell_type": "code",
   "execution_count": null,
   "metadata": {},
   "outputs": [],
   "source": [
    "a_crs = dtm_pre_arr.rio.crs\n",
    "# Assign crs to myCRS object - this is just an example of how you would do that\n",
    "dtm_pre_arr = dtm_pre_arr.rio.set_crs(a_crs, inplace=True)"
   ]
  },
  {
   "cell_type": "markdown",
   "metadata": {},
   "source": [
    "The ```CRS``` EPSG code for your ```lidar_dem``` object is 32613. Next, you can look that EPSG code up on the [spatial reference.org website](http://www.spatialreference.org/ref/epsg/32613/) to figure out what CRS it refers to and the associated units. In this case you are using UTM zone 13 North.\n",
    "\n",
    "Digging deeper you can view the proj 4 string which tells us that the horizontal units of this project are in meters (```m```).\n",
    "\n",
    "\n",
    "![_._](img/UTM-zones.png)\n",
    "\n",
    "\n",
    "The UTM zones across the continental United States. Source: Chrismurf, wikimedia.org.\n",
    "The ```CRS``` format, returned by python, is in a EPSG format. This means that the projection information is represented by a single number. However on the spatialreference.org website you can also view the proj4 string which will tell you a bit more about the horizontal units that the data are in. An overview of proj4 is below.\n",
    "\n",
    "```+proj=utm +zone=18 +datum=WGS84 +units=m +no_defs +ellps=WGS84 +towgs84=0,0,0```"
   ]
  },
  {
   "cell_type": "markdown",
   "metadata": {},
   "source": [
    "Once you have imported your data, you can plot is using xarray.plot().\n"
   ]
  },
  {
   "cell_type": "code",
   "execution_count": null,
   "metadata": {},
   "outputs": [],
   "source": [
    "dtm_pre_arr.plot()\n",
    "plt.show()"
   ]
  },
  {
   "cell_type": "markdown",
   "metadata": {},
   "source": [
    "The data above should represent terrain model data. However, the range of values is not what is expected. These data are for Boulder, Colorado where the elevation may range from 1000-3000m. There may be some outlier values in the data that may need to be addressed. Below you look at the distribution of pixel values in the data by plotting a histogram.\n",
    "\n",
    "Notice that there seem to be a lot of pixel values in the negative range in that plot."
   ]
  },
  {
   "cell_type": "code",
   "execution_count": null,
   "metadata": {},
   "outputs": [],
   "source": [
    "# A histogram can also be helpful to look at the range of values in your data\n",
    "# What do you notice about the histogram below?\n",
    "dtm_pre_arr.plot.hist(color=\"purple\")\n",
    "plt.show()"
   ]
  },
  {
   "cell_type": "markdown",
   "metadata": {},
   "source": [
    "Histogram for your lidar DTM. Notice the number of values that are below 0. This suggests that there may be no data values in the data.\n",
    "\n",
    "\n",
    "Looking at the min and max values of the data, you can see a very small negative number for the minimum. This number matches the nodata value that you looked at above.\n"
   ]
  },
  {
   "cell_type": "code",
   "execution_count": null,
   "metadata": {},
   "outputs": [],
   "source": [
    "print(\"the minimum raster value is: \", np.nanmin(dtm_pre_arr.values))\n",
    "print(\"the maximum raster value is: \", np.nanmax(dtm_pre_arr.values))"
   ]
  },
  {
   "cell_type": "markdown",
   "metadata": {},
   "source": [
    "### Raster Data Exploration - Min and Max Values\n",
    "\n",
    "\n",
    "Looking at the minimum value of the data, there is one of two things going on that need to be fixed:\n",
    "\n",
    "1. there may be no data values in the data with a negative value that are skewing your plot colors\n",
    "2. there also could be outlier data in your raster\n",
    "\n",
    "You can explore the first option - that there are no data values by reading in the data and masking no data values using the ```masked=True``` parameter like this:\n",
    "\n",
    "```rxr.open_rasterio(dem_pre_path, masked=True)```\n",
    "\n",
    "Above you may have also noticed that the array has an additional dimension for the “band”. While the raster only has one layer - there is a 1 in the output of shape that could get in the way of processing.\n",
    "\n",
    "You can remove that additional dimension using ```.squeeze()```"
   ]
  },
  {
   "cell_type": "code",
   "execution_count": null,
   "metadata": {},
   "outputs": [],
   "source": [
    "# Notice that the shape of this object has a 1 at the beginning\n",
    "# This can cause issues with plotting\n",
    "dtm_pre_arr.shape"
   ]
  },
  {
   "cell_type": "code",
   "execution_count": null,
   "metadata": {},
   "outputs": [],
   "source": [
    "# Open the data and mask no data values\n",
    "# Squeeze reduces the third dimension given there is only one \"band\" or layer to this data\n",
    "dtm_pre_arr = rxr.open_rasterio(dem_pre_path, masked=True).squeeze()\n",
    "# Notice there are now only 2 dimensions to your array\n",
    "dtm_pre_arr.shape"
   ]
  },
  {
   "cell_type": "markdown",
   "metadata": {},
   "source": [
    "Plot the data again to see what has changed. Now you have a reasonable range of data values and the data plot as you might expect it to."
   ]
  },
  {
   "cell_type": "code",
   "execution_count": null,
   "metadata": {},
   "outputs": [],
   "source": [
    "# Plot the data and notice that the scale bar looks better\n",
    "# No data values are now masked\n",
    "f, ax = plt.subplots(figsize=(10, 5))\n",
    "dtm_pre_arr.plot(cmap=\"Greys_r\",\n",
    "                 ax=ax)\n",
    "ax.set_title(\"Lidar Digital Elevation Model (DEM) \\n Boulder Flood 2013\")\n",
    "ax.set_axis_off()\n",
    "plt.show()"
   ]
  },
  {
   "cell_type": "markdown",
   "metadata": {},
   "source": [
    "The histogram has also changed. Now, it shows a reasonable distribution of pixel values.\n",
    "\n"
   ]
  },
  {
   "cell_type": "code",
   "execution_count": null,
   "metadata": {},
   "outputs": [],
   "source": [
    "f, ax = plt.subplots(figsize=(10, 6))\n",
    "dtm_pre_arr.plot.hist(color=\"purple\",\n",
    "                      bins=20)\n",
    "ax.set_title(\"Histogram of the Data with No Data Values Removed\")\n",
    "plt.show()\n"
   ]
  },
  {
   "cell_type": "markdown",
   "metadata": {},
   "source": [
    "Notice that now the minimum value looks more like an elevation value (which should most often not be negative).\n",
    "\n"
   ]
  },
  {
   "cell_type": "code",
   "execution_count": null,
   "metadata": {},
   "outputs": [],
   "source": [
    "print(\"The minimum raster value is: \", np.nanmin(dtm_pre_arr.data))\n",
    "print(\"The maximum raster value is: \", np.nanmax(dtm_pre_arr.data))"
   ]
  },
  {
   "cell_type": "markdown",
   "metadata": {},
   "source": [
    "### Plot Raster and Vector Data Together\n",
    "If you want, you can also add shapefile overlays to your raster data plot. Below you open a single shapefile using Geopandas that contains a boundary layer that you can overlay on top of your raster dataset."
   ]
  },
  {
   "cell_type": "code",
   "execution_count": null,
   "metadata": {},
   "outputs": [],
   "source": [
    "# Open site boundary vector layer\n",
    "site_bound_path = os.path.join(\"data\",\n",
    "                               \"colorado-flood\",\n",
    "                               \"spatial\",\n",
    "                               \"boulder-leehill-rd\",\n",
    "                               \"clip-extent.shp\")\n",
    "site_bound_shp = gpd.read_file(site_bound_path)\n",
    "\n",
    "# Plot the vector data\n",
    "f, ax = plt.subplots(figsize=(8,4))\n",
    "site_bound_shp.plot(color='teal',\n",
    "                    edgecolor='black',\n",
    "                    ax=ax)\n",
    "ax.set(title=\"Site Boundary Layer - Shapefile\")\n",
    "plt.show()"
   ]
  },
  {
   "cell_type": "markdown",
   "metadata": {},
   "source": [
    "Once you have your shapefile open, can plot the two datasets together and begin to create a map."
   ]
  },
  {
   "cell_type": "code",
   "execution_count": null,
   "metadata": {},
   "outputs": [],
   "source": [
    "# Check CRS\n",
    "site_bound_shp.crs"
   ]
  },
  {
   "cell_type": "code",
   "execution_count": null,
   "metadata": {},
   "outputs": [],
   "source": [
    "f, ax = plt.subplots(figsize=(11, 4))\n",
    "\n",
    "dtm_pre_arr.plot.imshow(cmap=\"Greys\",\n",
    "                        ax=ax)\n",
    "site_bound_shp.plot(color='None',\n",
    "                    edgecolor='teal',\n",
    "                    linewidth=2,\n",
    "                    ax=ax,\n",
    "                    zorder=4)\n",
    "\n",
    "ax.set(title=\"Raster Layer with Vector Overlay\")\n",
    "ax.axis('off')\n",
    "plt.show()"
   ]
  }
 ],
 "metadata": {
  "kernelspec": {
   "display_name": "Python 3.10.8 ('traillop')",
   "language": "python",
   "name": "python3"
  },
  "language_info": {
   "codemirror_mode": {
    "name": "ipython",
    "version": 3
   },
   "file_extension": ".py",
   "mimetype": "text/x-python",
   "name": "python",
   "nbconvert_exporter": "python",
   "pygments_lexer": "ipython3",
   "version": "3.10.8"
  },
  "orig_nbformat": 4,
  "vscode": {
   "interpreter": {
    "hash": "31733d31b68f2bf33a40ef3744aa6e6dabc719cffbfa95fe2fcbd4a0d9e78042"
   }
  }
 },
 "nbformat": 4,
 "nbformat_minor": 2
}
