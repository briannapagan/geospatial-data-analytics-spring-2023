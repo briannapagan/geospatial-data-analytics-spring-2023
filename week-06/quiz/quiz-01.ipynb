{
 "cells": [
  {
   "cell_type": "markdown",
   "metadata": {},
   "source": [
    "# Quiz 01\n",
    "\n",
    "### Working with CIMIS Weather Station Data\n",
    "\n",
    "Weather Data collected by CIMIS automatic weather stations. The data is available in CSV format. Station data include measured parameters such as solar radiation, air temperature, soil temperature, relative humidity, precipitation, wind speed and wind direction as well as derived parameters such as vapor pressure, dew point temperature, and grass reference evapotranspiration (ETo).\n",
    "\n",
    "You are given 5 years of data for a few stations in Southern California. \n",
    "\n",
    "Create a new blank jupyter notebook. Follow the following sequence of instructions and answer questions accordingly. Upload the jupyter notebook directly into Brightspace.\n",
    "\n",
    "1. Load the ```daily.csv``` dataset. You should know how to find where the file is located and specify the path to open it. \n",
    "2. How many unique stations are there in this dataset? \n",
    "3. Create a dataframe for each of the stations **individually** for the following fields: date, precipitation (```Precip (in)```), average air temperature (```Avg Air Temp (F)```) and average relative humidity (```Avg Rel Hum (%)```). You should have one dataframe per station with these four columns.\n",
    "4. Calculate **average monthly** statistics for each of the weather variables at each station. i.e. you should have a dataframe with each month for each variable summarized by the mean of that variable over the past 5 years, mean precipitation for Januarys, for Februarys etc.\n",
    "5. Write a few sentences describing differences you see between the stations and their 5-year climatologies. \n",
    "6. Create a function to convert degrees Farenheit to degrees Celsius. \n",
    "7. In each climatology dataframe convert  ```Avg Air Temp (F)``` to ```Avg Air Temp (C)``` and display results **rounded to one decimal place**.\n",
    "8. For the **daily** data at the **Santa Monica** station, count the number of days in the five year dataset where ```Avg Air Temp (F)``` was below 50 degrees or above 100 degrees.\n",
    "\n",
    "\n",
    "\n"
   ]
  }
 ],
 "metadata": {
  "kernelspec": {
   "display_name": "Python 3.9.13 ('validations')",
   "language": "python",
   "name": "python3"
  },
  "language_info": {
   "codemirror_mode": {
    "name": "ipython",
    "version": 3
   },
   "file_extension": ".py",
   "mimetype": "text/x-python",
   "name": "python",
   "nbconvert_exporter": "python",
   "pygments_lexer": "ipython3",
   "version": "3.9.13"
  },
  "orig_nbformat": 4,
  "vscode": {
   "interpreter": {
    "hash": "e460e709f58070950c65c0c33823686acb388113d15269e91ed6fb063a69ef02"
   }
  }
 },
 "nbformat": 4,
 "nbformat_minor": 2
}
