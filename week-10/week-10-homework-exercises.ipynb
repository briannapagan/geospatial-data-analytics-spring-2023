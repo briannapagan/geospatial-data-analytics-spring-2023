{
 "cells": [
  {
   "cell_type": "markdown",
   "metadata": {},
   "source": [
    "# Week 10 Homework\n",
    "\n",
    ">Parks and green spaces provide a variety of health benefits by promoting physical activity, connection to nature and opportunities for community engagement. Nature-based programs can even be prescribed by health care providers as part of alternative, cost-effective treatment plans.\n",
    "\n",
    ">In a paper recently published in the North Carolina Medical Journal, Lincoln Larson and Aaron Hipp, associate professors of parks, recreation and tourism management at NC State, provide an overview of how parks and green spaces can help alleviate contemporary health challenges.\n",
    "\n",
    "[Source](https://cnr.ncsu.edu/news/2022/04/parks-green-spaces-improve-health/)\n",
    "\n",
    "## 10.1 Finding the nearest parks to schools in Los Angeles County\n",
    "You are given information on the point locations of schools in the LA Unified Schoo School District (LAUSD) (``` data/Schools_LAUSD.geojson```) and polygons of LA city parks (```data/Recreation_and_Parks.geojson ```)\n",
    "\n",
    "1. Load the school and park data. For calcuating distances, what should you check and potentially change? \n",
    "2. Find the nearest park to each school in the LAUSD. Capture the  ``` Name ``` of the closest park. Note, this is not as straight forward as just copying and pasting from section-02 week 10! You actually have to think logically what columns are needed (centroids or geometries? what is the target dataframe?). Think carefully! \n",
    "3. Create an interactive map which plots the LAUSD schools locations and has a ``` Tooltip ``` capability of showing the ``` FULLNAME ``` of the school (using alias of ``` School Name ```) and the name of the closest park using the alias of ``` Nearest Park Name ```.\n",
    "4. Save your map as a .html file, upload to your GitHub, and provide a link where anyone can see the final product. Paste this link into the notebook you submit for the assignment. "
   ]
  }
 ],
 "metadata": {
  "kernelspec": {
   "display_name": "Python 3.10.8 ('traillop')",
   "language": "python",
   "name": "python3"
  },
  "language_info": {
   "codemirror_mode": {
    "name": "ipython",
    "version": 3
   },
   "file_extension": ".py",
   "mimetype": "text/x-python",
   "name": "python",
   "nbconvert_exporter": "python",
   "pygments_lexer": "ipython3",
   "version": "3.10.8"
  },
  "orig_nbformat": 4,
  "vscode": {
   "interpreter": {
    "hash": "31733d31b68f2bf33a40ef3744aa6e6dabc719cffbfa95fe2fcbd4a0d9e78042"
   }
  }
 },
 "nbformat": 4,
 "nbformat_minor": 2
}
