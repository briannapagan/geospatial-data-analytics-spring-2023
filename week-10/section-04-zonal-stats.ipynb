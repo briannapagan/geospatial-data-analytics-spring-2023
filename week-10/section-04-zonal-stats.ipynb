{
  "cells": [
    {
      "cell_type": "markdown",
      "metadata": {},
      "source": [
        "Zonal statistics\n",
        "================\n",
        "\n",
        "Quite often you have a situtation when you want to summarize raster datasets based on vector geometries, such as calculating the average elevation of specific area.\n",
        "\n",
        "[Rasterstats](https://github.com/perrygeo/python-rasterstats) is a Python module that does exactly that, easily.\n",
        "\n",
        "- Let's start by reading the data:"
      ]
    },
    {
      "cell_type": "code",
      "execution_count": null,
      "metadata": {},
      "outputs": [],
      "source": [
        "import rasterio\n",
        "from rasterio.plot import show\n",
        "from rasterstats import zonal_stats\n",
        "import osmnx as ox\n",
        "import geopandas as gpd\n",
        "import os\n",
        "import matplotlib.pyplot as plt\n",
        "%matplotlib inline\n",
        "\n",
        "# File path\n",
        "dem_fp = os.path.join(\"data\", \"la_partial_dem.tiff\")\n",
        "\n",
        "# Read the Digital Elevation Model\n",
        "dem = rasterio.open(dem_fp)\n",
        "dem"
      ]
    },
    {
      "cell_type": "markdown",
      "metadata": {},
      "source": [
        "Good, now our elevation data is in read mode.\n",
        "\n",
        "Next, we want to calculate the elevation of two neighborhoods San Fernando and Topanga, and find out which one of them is higher based on the elevation data. We will use a package called [OSMnx](https://github.com/gboeing/osmnx) to fetch the data from OpenStreetMap for those areas.\n",
        "\n",
        "- Specify place names for `San Fernando` and `Topanga` that Nominatim can identify https://nominatim.openstreetmap.org/, and retrieve information "
      ]
    },
    {
      "cell_type": "code",
      "execution_count": null,
      "metadata": {},
      "outputs": [],
      "source": [
        "# Keywords in such format that they can be found from OSM\n",
        "topanga_q = \"Topanga, California, United States of America\"\n",
        "san_fernando_q = \"San Fernando, California, United States of America\"\n",
        "\n",
        "# Retrieve the geometries of those areas using osmnx\n",
        "topanga = ox.geocode_to_gdf(topanga_q)\n",
        "san_fernando = ox.geocode_to_gdf(san_fernando_q)\n",
        "\n",
        "# Reproject to same coordinate system as the \n",
        "topanga = topanga.to_crs(crs=dem.crs)\n",
        "san_fernando = san_fernando.to_crs(crs=dem.crs)\n",
        "\n",
        "type(san_fernando)"
      ]
    },
    {
      "cell_type": "markdown",
      "metadata": {},
      "source": [
        "As we can see, now we have retrieved data from OSMnx and they are stored as GeoDataFrames.\n",
        "\n",
        "- Let's see how our datasets look by plotting the DEM and the regions on top of it"
      ]
    },
    {
      "cell_type": "code",
      "execution_count": null,
      "metadata": {},
      "outputs": [],
      "source": [
        "# Plot the Polygons on top of the DEM\n",
        "ax = topanga.plot(facecolor='None', edgecolor='red', linewidth=2)\n",
        "ax = san_fernando.plot(ax=ax, facecolor='None', edgecolor='blue', linewidth=2)\n",
        "\n",
        "# Plot DEM\n",
        "show((dem, 1), ax=ax)"
      ]
    },
    {
      "cell_type": "markdown",
      "metadata": {},
      "source": [
        "**Which one is higher? We can use zonal statistics to find out!**\n",
        "\n",
        "- First we need to get the values of the dem as numpy array and the affine of the raster"
      ]
    },
    {
      "cell_type": "code",
      "execution_count": null,
      "metadata": {},
      "outputs": [],
      "source": [
        "# Read the raster values\n",
        "array = dem.read(1)\n",
        "\n",
        "# Get the affine\n",
        "affine = dem.transform"
      ]
    },
    {
      "cell_type": "markdown",
      "metadata": {},
      "source": [
        "- Now we can calculate the zonal statistics by using the function `zonal_stats`."
      ]
    },
    {
      "cell_type": "code",
      "execution_count": null,
      "metadata": {},
      "outputs": [],
      "source": [
        "# Calculate zonal statistics for Topanga\n",
        "zs_topanga = zonal_stats(topanga, array, affine=affine, stats=['min', 'max', 'mean', 'median', 'majority'])\n",
        "\n",
        "# Calculate zonal statistics for Long Beach\n",
        "zs_san_fernando = zonal_stats(san_fernando, array, affine=affine, stats=['min', 'max', 'mean', 'median', 'majority'])\n"
      ]
    },
    {
      "cell_type": "markdown",
      "metadata": {},
      "source": [
        "Okey. So what do we have now?"
      ]
    },
    {
      "cell_type": "code",
      "execution_count": null,
      "metadata": {},
      "outputs": [],
      "source": [
        "print(zs_topanga)\n",
        "print(zs_san_fernando)"
      ]
    }
  ],
  "metadata": {
    "kernelspec": {
      "display_name": "Python 3.10.8 ('traillop')",
      "language": "python",
      "name": "python3"
    },
    "language_info": {
      "codemirror_mode": {
        "name": "ipython",
        "version": 3
      },
      "file_extension": ".py",
      "mimetype": "text/x-python",
      "name": "python",
      "nbconvert_exporter": "python",
      "pygments_lexer": "ipython3",
      "version": "3.10.8"
    },
    "vscode": {
      "interpreter": {
        "hash": "31733d31b68f2bf33a40ef3744aa6e6dabc719cffbfa95fe2fcbd4a0d9e78042"
      }
    }
  },
  "nbformat": 4,
  "nbformat_minor": 2
}
