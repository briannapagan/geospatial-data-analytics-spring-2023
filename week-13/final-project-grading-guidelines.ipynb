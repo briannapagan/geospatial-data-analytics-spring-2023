{
 "cells": [
  {
   "cell_type": "markdown",
   "metadata": {},
   "source": [
    "## Grading criteria for the final project\n",
    "The grade is based on a total of 60 points:\n",
    "\n",
    "- 40 points points for major analysis steps/ functionality (reading and managing data, analyzing data and visualizing data) :\n",
    "\n",
    "    - is the desired functionality working as it should\n",
    "\n",
    "    - is each functionality well documented\n",
    "\n",
    "    - is the code written in a modular way (eg. using functions)?\n",
    "\n",
    "- 10 points for overall documentation of the work\n",
    "\n",
    "    - is there a general description in about the research problem / purpose of the tool?\n",
    "\n",
    "    - is the usage of the tool/ available functions described and demonstrated clearly?\n",
    "\n",
    "    - are all input data and output results (maps, graphs) presented and explained clearly?\n",
    "    \n",
    "- 10 points for final presentation of the work\n",
    "\n",
    "- In addition, you can gain 5 extra points for other merits in the work:\n",
    "\n",
    "    - something in the work is exceptionally well done\n",
    "\n",
    "    - some problem in the code is solved in a “smart” way\n",
    "\n",
    "    - the work is exceptionally well documented\n",
    "\n",
    "    - the visualizations are exceptionally good\n",
    "\n",
    "    - additional features are added (eg. steps 5-6 in accesViz, or some other features that were not required)\n",
    "\n",
    "This grading criteria applies to submissions which contain the following sections:\n",
    "\n",
    "- Data acquisition (Fetching data, subsetting data, storing intermediate outputs etc.)\n",
    "\n",
    "- Data analysis (Enriching and analyzing the data, eg. spatial join, overlay, buffering, other calculations..)\n",
    "\n",
    "- Visualization (Visualizing main results and other relevant information as maps and graphs)\n",
    "\n",
    "You can write your code into python script files and /or jupyter notebook files. You can freely organize your final work into one single file, or several files (for example, write your own functions into a separate .py file and apply them in one or several jupyter notebook .ipynb files.\n",
    "\n",
    "The workflow should be repeatable and well documented. In other words, anyone who gets a copy of your repository should be able to run your code, and read your code.\n",
    "\n",
    "The final product must include a standalone .html web based interactive map!\n",
    "\n",
    "In case you are creating something with a totally different structure, please discuss with me :)\n",
    "\n"
   ]
  }
 ],
 "metadata": {
  "kernelspec": {
   "display_name": "Python 3.9.13 ('validations')",
   "language": "python",
   "name": "python3"
  },
  "language_info": {
   "name": "python",
   "version": "3.9.13"
  },
  "orig_nbformat": 4,
  "vscode": {
   "interpreter": {
    "hash": "e460e709f58070950c65c0c33823686acb388113d15269e91ed6fb063a69ef02"
   }
  }
 },
 "nbformat": 4,
 "nbformat_minor": 2
}
