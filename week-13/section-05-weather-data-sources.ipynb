{
 "cells": [
  {
   "cell_type": "code",
   "execution_count": null,
   "metadata": {},
   "outputs": [],
   "source": []
  },
  {
   "cell_type": "markdown",
   "metadata": {},
   "source": [
    "# Useful Weather APIs and Python Wrappers for the Final Project"
   ]
  },
  {
   "cell_type": "markdown",
   "metadata": {},
   "source": [
    "## Meteostat\n",
    "Read the documentation here: https://dev.meteostat.net/python/ "
   ]
  },
  {
   "cell_type": "code",
   "execution_count": null,
   "metadata": {},
   "outputs": [],
   "source": [
    "from datetime import datetime\n",
    "import matplotlib.pyplot as plt\n",
    "from meteostat import Point, Daily\n",
    "import plotly.express as px\n",
    "\n",
    "\n",
    "# Set time period\n",
    "start = datetime(2018, 1, 1)\n",
    "end = datetime(2018, 12, 31)\n",
    "\n",
    "# Create Point for Vancouver, BC\n",
    "location = Point(49.2497, -123.1193)\n",
    "\n",
    "# Get daily data for 2018\n",
    "data = Daily(location, start, end)\n",
    "data = data.fetch()\n"
   ]
  },
  {
   "cell_type": "code",
   "execution_count": null,
   "metadata": {},
   "outputs": [],
   "source": [
    "data.head()"
   ]
  },
  {
   "cell_type": "code",
   "execution_count": null,
   "metadata": {},
   "outputs": [],
   "source": [
    "\n",
    "fig = px.line(data, x=data.index, y=['tavg', 'tmin', 'tmax'])\n",
    "fig.show()"
   ]
  },
  {
   "cell_type": "markdown",
   "metadata": {},
   "source": [
    "## Acquiring streamflow data from USGS with climata and Python\n",
    "```climata``` is a python package aimed at acquiring climate and water flow data from a variety of organizations including NOAA, CoCoRaHS, USBR, NWS, NRCS, and USGS. Here, we’ll use climata to acquire streamflow data in and around Boulder, Colorado.\n",
    "\n",
    "https://github.com/heigeo/climata \n",
    "\n",
    "### Objectives\n",
    "- Extracting stream flow data for a specific USGS station ID\n",
    "- Extracting stream flow data for a county by FIPS code\n",
    "\n",
    "\n"
   ]
  },
  {
   "cell_type": "code",
   "execution_count": null,
   "metadata": {},
   "outputs": [],
   "source": [
    "import matplotlib\n",
    "import matplotlib.pyplot as plt\n",
    "from climata.usgs import DailyValueIO\n",
    "import pandas as pd\n",
    "from pandas.plotting import register_matplotlib_converters\n",
    "import numpy as np\n",
    "\n",
    "register_matplotlib_converters()\n",
    "plt.style.use('ggplot')\n",
    "plt.rcParams['figure.figsize'] = (20.0, 10.0)"
   ]
  },
  {
   "cell_type": "markdown",
   "metadata": {},
   "source": [
    "### Extracting data for a specific USGS station ID\n",
    "To acquire station data, you must know which station you want to access. There is a nice interactive application here to do this."
   ]
  },
  {
   "cell_type": "code",
   "execution_count": null,
   "metadata": {},
   "outputs": [],
   "source": [
    "# set parameters\n",
    "nyears = 10\n",
    "ndays = 365 * nyears\n",
    "station_id = \"06730200\"\n",
    "param_id = \"00060\"\n",
    "\n",
    "datelist = pd.date_range(end=pd.datetime.today(), periods=ndays).tolist()\n",
    "data = DailyValueIO(\n",
    "    start_date=datelist[0],\n",
    "    end_date=datelist[-1],\n",
    "    station=station_id,\n",
    "    parameter=param_id,\n",
    ")"
   ]
  },
  {
   "cell_type": "code",
   "execution_count": null,
   "metadata": {},
   "outputs": [],
   "source": [
    "for series in data:\n",
    "    flow = [r[1] for r in series.data]\n",
    "    dates = [r[0] for r in series.data]"
   ]
  },
  {
   "cell_type": "code",
   "execution_count": null,
   "metadata": {},
   "outputs": [],
   "source": [
    "plt.plot(dates, flow)\n",
    "plt.xlabel('Date')\n",
    "plt.ylabel('Streamflow')\n",
    "plt.title(series.site_name)\n",
    "plt.xticks(rotation='vertical')\n",
    "plt.show()"
   ]
  },
  {
   "cell_type": "markdown",
   "metadata": {},
   "source": [
    "### Extracting data for a county using a FIPS code\n",
    "If we want data for all stations within a county, we need to query using the county FIPS code. The FIPS code for Boulder, CO is 08013:"
   ]
  },
  {
   "cell_type": "code",
   "execution_count": null,
   "metadata": {},
   "outputs": [],
   "source": [
    "# set parameters\n",
    "nyears = 1\n",
    "ndays = 365 * nyears\n",
    "county = \"08013\"\n",
    "datelist = pd.date_range(end=pd.datetime.today(), periods=ndays).tolist()\n",
    "\n",
    "data = DailyValueIO(\n",
    "    start_date=datelist[0],\n",
    "    end_date=datelist[-1],\n",
    "    county=county,\n",
    ")\n",
    "\n",
    "date = []\n",
    "value = []\n",
    "\n",
    "for series in data:\n",
    "    for row in series.data:\n",
    "        date.append(row[0])\n",
    "        value.append(row[1])"
   ]
  },
  {
   "cell_type": "code",
   "execution_count": null,
   "metadata": {},
   "outputs": [],
   "source": [
    "site_names = [[series.site_name] * len(series.data) for series in data]\n",
    "\n",
    "# unroll the list of lists\n",
    "flat_site_names = [item for sublist in site_names for item in sublist]"
   ]
  },
  {
   "cell_type": "code",
   "execution_count": null,
   "metadata": {},
   "outputs": [],
   "source": [
    "# bundle the data into a data frame\n",
    "df = pd.DataFrame({'site': flat_site_names, \n",
    "                   'date': date, \n",
    "                   'value': value})\n",
    "\n",
    "# remove missing values\n",
    "df = df[df['value'] != -999999.0]"
   ]
  },
  {
   "cell_type": "code",
   "execution_count": null,
   "metadata": {},
   "outputs": [],
   "source": [
    "# visualize flow time series, coloring by site\n",
    "groups = df.groupby('site')\n",
    "fig, ax = plt.subplots()\n",
    "for name, group in groups:\n",
    "    ax.plot(group.date, group.value, marker='o', linestyle='-', ms=2, label=name)\n",
    "ax.legend(bbox_to_anchor=(1.05, 1), loc=2, borderaxespad=0.)\n",
    "plt.xlabel('Date')\n",
    "plt.ylabel('Streamflow')\n",
    "plt.xticks(rotation='vertical')\n",
    "plt.show()"
   ]
  }
 ],
 "metadata": {
  "kernelspec": {
   "display_name": "Python 3.10.8 ('traillop')",
   "language": "python",
   "name": "python3"
  },
  "language_info": {
   "codemirror_mode": {
    "name": "ipython",
    "version": 3
   },
   "file_extension": ".py",
   "mimetype": "text/x-python",
   "name": "python",
   "nbconvert_exporter": "python",
   "pygments_lexer": "ipython3",
   "version": "3.10.8"
  },
  "orig_nbformat": 4,
  "vscode": {
   "interpreter": {
    "hash": "31733d31b68f2bf33a40ef3744aa6e6dabc719cffbfa95fe2fcbd4a0d9e78042"
   }
  }
 },
 "nbformat": 4,
 "nbformat_minor": 2
}
