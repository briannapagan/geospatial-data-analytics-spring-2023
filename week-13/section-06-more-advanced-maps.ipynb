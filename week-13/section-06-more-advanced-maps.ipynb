{
 "cells": [
  {
   "cell_type": "code",
   "execution_count": null,
   "metadata": {},
   "outputs": [],
   "source": []
  },
  {
   "cell_type": "markdown",
   "metadata": {},
   "source": [
    "We are going to create a Folium map that shows 10 major U.S. cities as markers in the map. When clicking each marker, a pop-up window appears and shows an interactive Plotly chart. The chart shows the housing market trends for the past 4 years for the city, with a range slider allowing users to select different time periods. The Awesome Folium map we are going to create looks like this:"
   ]
  },
  {
   "cell_type": "code",
   "execution_count": null,
   "metadata": {},
   "outputs": [],
   "source": []
  },
  {
   "cell_type": "code",
   "execution_count": null,
   "metadata": {},
   "outputs": [],
   "source": [
    "#Import libraries\n",
    "import pandas as pd\n",
    "import numpy as np\n",
    "from plotly import graph_objects as go\n",
    "from plotly.subplots import make_subplots\n",
    "import folium\n",
    "import branca\n",
    "\n",
    "#read in housing market data--takes a bit, be patient...\n",
    "df = pd.read_csv('data/redfin-extract.csv')"
   ]
  },
  {
   "cell_type": "markdown",
   "metadata": {},
   "source": [
    "### Data Wrangling\n",
    "There are a few things to notice in the data above. The field ‘period_begin’ is a string and may cause some problems later on when using it to plot a time-series chart. Therefore, let’s change it to the ‘date’ type and rename it to ‘snapshot_month’.\n",
    "\n",
    "Both ‘median_sale_price’ and ‘homes_sold’ fields have one decimal place which is unnecessary so let’s change both of them to integer type. We will also create a new field called ‘median_sale_price_formatted’ which shows the numbers with the thousands separator."
   ]
  },
  {
   "cell_type": "code",
   "execution_count": null,
   "metadata": {},
   "outputs": [],
   "source": [
    "#Data Wrangling and Cleaning\n",
    "df['snapshot_month'] = pd.to_datetime(df['period_begin'])\n",
    "df[\"median_sale_price\"]=df[\"median_sale_price\"].astype('int')\n",
    "df[\"homes_sold\"]=df[\"homes_sold\"].astype('int')\n",
    "df.loc[:, \"median_sale_price_formatted\"] = df[\"median_sale_price\"].map('{:,d}'.format) \n",
    "df.rename({'region': 'city'}, axis=1, inplace=True)\n",
    "df=df.sort_values(\"snapshot_month\")"
   ]
  },
  {
   "cell_type": "code",
   "execution_count": null,
   "metadata": {},
   "outputs": [],
   "source": [
    "df"
   ]
  },
  {
   "cell_type": "markdown",
   "metadata": {},
   "source": [
    "Lastly, let’s create a new field called ‘text’. Why do we need it? By default, Plotly shows a tooltip that displays some basic information when users move their mouses onto each data point. However, the default option is very limiting and not very visually appealing so we want to create a customized tooltip in order to control what and how the information is to be shown in the hover-over tooltip."
   ]
  },
  {
   "cell_type": "code",
   "execution_count": null,
   "metadata": {},
   "outputs": [],
   "source": [
    "hover_text = []\n",
    "for index, row in df.iterrows():\n",
    "    hover_text.append(('<b>{city}</b><br><br>'+\n",
    "                      'Snapshot Month: {period_begin}<br>'+\n",
    "                      'Homes Sold: {homes_sold}<br>'+ \n",
    "                      'Median Sales Price ($): {median_sale_price_formatted}<br>'\n",
    "                       ).format(\n",
    "                       city=row['city'],\n",
    "                       period_begin=row['period_begin'],\n",
    "                       homes_sold=row['homes_sold'],\n",
    "                       median_sale_price_formatted=row['median_sale_price_formatted']\n",
    "                      ))\n",
    "df['text'] = hover_text"
   ]
  },
  {
   "cell_type": "markdown",
   "metadata": {},
   "source": [
    "### Create a Dual Y-Axis Plotly Chart\n",
    "Our data is ready and let’s start plotting. Remember our ultimate goal is to create an interactive Plotly chart for each city and then pass each chart to its corresponding marker in the Folium map. We will need to use for-loop and HTML iframe to achieve that.\n",
    "\n",
    "Before we get to that, let’s warm up a little bit by creating a double y-axis Plotly chart for one city only. We can choose Atlanta and plot the ‘homes_sold’ metric in a bar graph and the ‘median_sale_price’ metric in a line graph and combine the two graphs into one combo chart with dual y-axes. We’ll also add a customized hover-over tooltip to the combo chart as well as a range slider/selector.\n",
    "\n",
    "Using Plotly Graph_Objects, we first create a figure using make_subplots() so that the figure can have two y-axes with different scales. Then we add two traces to the figure, one representing a bar graph and the other a line graph. Lastly, we update the figure using update_layout() method to customize the chart title, legend, x and y axes, etc.\n",
    "\n",
    "If you are new to Plotly, you can read this article below to learn the basics of Plotly and Plotly Graph_Objects. By doing so, you will have a much easier time following and understanding the code that’s coming next!\n",
    "\n",
    "For ease of demonstration, I’m going to present the whole code, then I’m going to comment part by part of the code so that you can have a good understanding of how this works."
   ]
  },
  {
   "cell_type": "code",
   "execution_count": null,
   "metadata": {},
   "outputs": [],
   "source": [
    "df_city=df[(df['city'] =='Atlanta, GA')]\n",
    "fig=make_subplots(specs=[[{\"secondary_y\":True}]])\n",
    "\n",
    "fig.add_trace(                           #Add a bar chart to the figure\n",
    "        go.Bar(\n",
    "        x=df_city['snapshot_month'],\n",
    "        y=df_city['homes_sold'],\n",
    "        name=\"Homes Sold\",\n",
    "        hoverinfo='none'                 #Hide the hoverinfo\n",
    "        ),\n",
    "        secondary_y=False)               #The bar chart uses the primary y-axis (left)\n",
    "\n",
    "fig.add_trace(                           #Add the second chart (line chart) to the figure\n",
    "    go.Scatter(\n",
    "    x=df_city['snapshot_month'],\n",
    "    y=df_city['median_sale_price'],\n",
    "    name=\"Median Sale Price ($)\",\n",
    "    mode='lines',\n",
    "    text=df_city['text'],               \n",
    "    hoverinfo='text',                   #Pass the 'text' column to the hoverinfo parameter to customize the tooltip\n",
    "    line = dict(color='firebrick', width=3)#Specify the color of the line\n",
    "     ),\n",
    "    secondary_y=True)                   #The line chart uses the secondary y-axis (right)\n",
    "\n",
    "fig.update_layout(hoverlabel_bgcolor='#DAEEED',  #Change the background color of the tooltip to light gray\n",
    "             title_text=\"Housing Market Trends: Atlanta, GA\", #Add a chart title\n",
    "             title_font_family=\"Times New Roman\",\n",
    "             title_font_size = 20,\n",
    "             title_font_color=\"darkblue\", #Specify font color of the title\n",
    "             title_x=0.5, #Specify the title position\n",
    "             xaxis=dict(\n",
    "                    tickfont_size=10,\n",
    "                    tickangle = 270,\n",
    "                    showgrid = True,\n",
    "                    zeroline = True,\n",
    "                    showline = True,\n",
    "                    showticklabels = True,\n",
    "                    dtick=\"M1\", #Change the x-axis ticks to be monthly\n",
    "                    tickformat=\"%b\\n%Y\"\n",
    "                    ),\n",
    "             legend = dict(orientation = 'h', xanchor = \"center\", x = 0.72, y= 1), #Adjust legend position\n",
    "             yaxis_title='# Homes Sold',\n",
    "             yaxis2_title='Median Sales Price ($)')\n",
    "\n",
    "fig.update_xaxes(\n",
    "rangeslider_visible=True,\n",
    "rangeselector=dict(\n",
    "    buttons=list([\n",
    "        dict(count=1, label=\"1m\", step=\"month\", stepmode=\"backward\"),\n",
    "        dict(count=6, label=\"6m\", step=\"month\", stepmode=\"backward\"),\n",
    "        dict(count=1, label=\"YTD\", step=\"year\", stepmode=\"todate\"),\n",
    "        dict(count=1, label=\"1y\", step=\"year\", stepmode=\"backward\"),\n",
    "        dict(step=\"all\")\n",
    "    ]))\n",
    ")\n",
    "\n",
    "fig.show()"
   ]
  },
  {
   "cell_type": "markdown",
   "metadata": {},
   "source": [
    "### Use for-loop to Create a Plotly Chart for Each City and Export it to HTML\n",
    "Now coming back to our end goal, we’ll need to use a for-loop to automate the process above and create a Plotly chart for each city and export them to HTML files — one HTML file for each city! To help you understand how this works, I am going to use the same strategy: I’ll first present the whole code and then explain it part by part."
   ]
  },
  {
   "cell_type": "code",
   "execution_count": null,
   "metadata": {},
   "outputs": [],
   "source": [
    "figs = {} # Create an empty figure to which we will add all the plotly figures\n",
    "city_list=[] #Create an empty list to which we will append all the cities\n",
    "html_list=[] #Create an empty list to which we will append all the exported html files\n",
    "cities = df['city'].unique() # Get the list of city names\n",
    "for i, city in enumerate(cities, start = 0):\n",
    "    city_list.append(city)\n",
    "    html_list.append('fig'+str(i)+'.html')\n",
    "    df_city = df[df['city']==city]\n",
    "    \n",
    "    ####Insert the code (line 2-55) from previous section here. Change line 26 to: title_text=\"Housing Market Trends: \"+cities[i]. Also, when copy-and-paste make sure you place the code within the for-loop (properly indented)#########\n",
    "    \n",
    "    figs['fig'+str(i)] = fig\n",
    "    fig.write_html('data/fig'+str(i)+\".html\")\n",
    "\n",
    "df1=pd.DataFrame(city_list,columns =['city'])\n",
    "df2=pd.DataFrame(html_list,columns =['html_file'])\n",
    "df3=pd.concat([df1, df2], axis=1)\n",
    "lat_lon=pd.read_csv('data/cities_lat_lon.csv') #Add the latitude and longitude for each city so that we can later on add them to markers\n",
    "df_final=df3.merge(lat_lon, on='city', how='left')\n",
    "df_final #Create a final dataframe that has city names, html file names,  latitude and longitude."
   ]
  },
  {
   "cell_type": "code",
   "execution_count": null,
   "metadata": {},
   "outputs": [],
   "source": [
    "lat_lon"
   ]
  },
  {
   "cell_type": "code",
   "execution_count": null,
   "metadata": {},
   "outputs": [],
   "source": [
    "location = df_final['Latitude'].mean(), df_final['Longitude'].mean()\n",
    "m = folium.Map(location=location,zoom_start=4)\n",
    "\n",
    "for i in range(0,len(df_final)):\n",
    "    html=\"\"\"\n",
    "    <iframe src=\\\"\"\"\" + df_final['html_file'][i] + \"\"\"\\\" width=\"850\" height=\"400\"  frameborder=\"0\">    \n",
    "    \"\"\"\n",
    "    \n",
    "    popup = folium.Popup(folium.Html(html, script=True))\n",
    "    folium.Marker([df_final['Latitude'].iloc[i],df_final['Longitude'].iloc[i]],\n",
    "                  popup=popup,icon=folium.Icon( icon='home', prefix='fa')).add_to(m)\n",
    "    \n",
    "m.save(\"index.html\")"
   ]
  }
 ],
 "metadata": {
  "kernelspec": {
   "display_name": "Python 3.10.8 ('traillop')",
   "language": "python",
   "name": "python3"
  },
  "language_info": {
   "codemirror_mode": {
    "name": "ipython",
    "version": 3
   },
   "file_extension": ".py",
   "mimetype": "text/x-python",
   "name": "python",
   "nbconvert_exporter": "python",
   "pygments_lexer": "ipython3",
   "version": "3.10.8"
  },
  "orig_nbformat": 4,
  "vscode": {
   "interpreter": {
    "hash": "31733d31b68f2bf33a40ef3744aa6e6dabc719cffbfa95fe2fcbd4a0d9e78042"
   }
  }
 },
 "nbformat": 4,
 "nbformat_minor": 2
}
