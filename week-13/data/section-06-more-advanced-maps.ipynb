{
 "cells": [
  {
   "cell_type": "markdown",
   "metadata": {},
   "source": [
    "We are going to create a Folium map that shows 10 major U.S. cities as markers in the map. When clicking each marker, a pop-up window appears and shows an interactive Plotly chart. The chart shows the housing market trends for the past 4 years for the city, with a range slider allowing users to select different time periods. The Awesome Folium map we are going to create looks like this:"
   ]
  },
  {
   "cell_type": "code",
   "execution_count": 13,
   "metadata": {},
   "outputs": [],
   "source": [
    "#Import libraries\n",
    "import pandas as pd\n",
    "import numpy as np\n",
    "from plotly import graph_objects as go\n",
    "from plotly.subplots import make_subplots\n",
    "import folium\n",
    "import branca\n",
    "\n",
    "#read in housing market data--takes a bit, be patient...\n",
    "df = pd.read_csv('redfin-extract.csv')"
   ]
  },
  {
   "cell_type": "markdown",
   "metadata": {},
   "source": [
    "### Data Wrangling\n",
    "There are a few things to notice in the data above. The field ‘period_begin’ is a string and may cause some problems later on when using it to plot a time-series chart. Therefore, let’s change it to the ‘date’ type and rename it to ‘snapshot_month’.\n",
    "\n",
    "Both ‘median_sale_price’ and ‘homes_sold’ fields have one decimal place which is unnecessary so let’s change both of them to integer type. We will also create a new field called ‘median_sale_price_formatted’ which shows the numbers with the thousands separator."
   ]
  },
  {
   "cell_type": "code",
   "execution_count": 14,
   "metadata": {},
   "outputs": [],
   "source": [
    "#Data Wrangling and Cleaning\n",
    "df['snapshot_month'] = pd.to_datetime(df['period_begin'])\n",
    "df[\"median_sale_price\"]=df[\"median_sale_price\"].astype('int')\n",
    "df[\"homes_sold\"]=df[\"homes_sold\"].astype('int')\n",
    "df.loc[:, \"median_sale_price_formatted\"] = df[\"median_sale_price\"].map('{:,d}'.format) \n",
    "df.rename({'region': 'city'}, axis=1, inplace=True)\n",
    "df=df.sort_values(\"snapshot_month\")"
   ]
  },
  {
   "cell_type": "code",
   "execution_count": 15,
   "metadata": {},
   "outputs": [
    {
     "data": {
      "text/html": [
       "<div>\n",
       "<style scoped>\n",
       "    .dataframe tbody tr th:only-of-type {\n",
       "        vertical-align: middle;\n",
       "    }\n",
       "\n",
       "    .dataframe tbody tr th {\n",
       "        vertical-align: top;\n",
       "    }\n",
       "\n",
       "    .dataframe thead th {\n",
       "        text-align: right;\n",
       "    }\n",
       "</style>\n",
       "<table border=\"1\" class=\"dataframe\">\n",
       "  <thead>\n",
       "    <tr style=\"text-align: right;\">\n",
       "      <th></th>\n",
       "      <th>Unnamed: 0</th>\n",
       "      <th>city</th>\n",
       "      <th>period_begin</th>\n",
       "      <th>period_end</th>\n",
       "      <th>period_duration</th>\n",
       "      <th>median_sale_price</th>\n",
       "      <th>homes_sold</th>\n",
       "      <th>snapshot_month</th>\n",
       "      <th>median_sale_price_formatted</th>\n",
       "    </tr>\n",
       "  </thead>\n",
       "  <tbody>\n",
       "    <tr>\n",
       "      <th>498</th>\n",
       "      <td>3006535</td>\n",
       "      <td>Chicago, IL</td>\n",
       "      <td>2018-01-01</td>\n",
       "      <td>2018-01-31</td>\n",
       "      <td>30</td>\n",
       "      <td>209000</td>\n",
       "      <td>695</td>\n",
       "      <td>2018-01-01</td>\n",
       "      <td>209,000</td>\n",
       "    </tr>\n",
       "    <tr>\n",
       "      <th>610</th>\n",
       "      <td>4473269</td>\n",
       "      <td>Denver, CO</td>\n",
       "      <td>2018-01-01</td>\n",
       "      <td>2018-01-31</td>\n",
       "      <td>30</td>\n",
       "      <td>444250</td>\n",
       "      <td>504</td>\n",
       "      <td>2018-01-01</td>\n",
       "      <td>444,250</td>\n",
       "    </tr>\n",
       "    <tr>\n",
       "      <th>385</th>\n",
       "      <td>2137188</td>\n",
       "      <td>Los Angeles, CA</td>\n",
       "      <td>2018-01-01</td>\n",
       "      <td>2018-01-31</td>\n",
       "      <td>30</td>\n",
       "      <td>690000</td>\n",
       "      <td>1076</td>\n",
       "      <td>2018-01-01</td>\n",
       "      <td>690,000</td>\n",
       "    </tr>\n",
       "    <tr>\n",
       "      <th>120</th>\n",
       "      <td>596619</td>\n",
       "      <td>Seattle, WA</td>\n",
       "      <td>2018-01-01</td>\n",
       "      <td>2018-01-31</td>\n",
       "      <td>30</td>\n",
       "      <td>785000</td>\n",
       "      <td>299</td>\n",
       "      <td>2018-01-01</td>\n",
       "      <td>785,000</td>\n",
       "    </tr>\n",
       "    <tr>\n",
       "      <th>332</th>\n",
       "      <td>1811727</td>\n",
       "      <td>Raleigh, NC</td>\n",
       "      <td>2018-01-01</td>\n",
       "      <td>2018-01-31</td>\n",
       "      <td>30</td>\n",
       "      <td>282750</td>\n",
       "      <td>314</td>\n",
       "      <td>2018-01-01</td>\n",
       "      <td>282,750</td>\n",
       "    </tr>\n",
       "    <tr>\n",
       "      <th>...</th>\n",
       "      <td>...</td>\n",
       "      <td>...</td>\n",
       "      <td>...</td>\n",
       "      <td>...</td>\n",
       "      <td>...</td>\n",
       "      <td>...</td>\n",
       "      <td>...</td>\n",
       "      <td>...</td>\n",
       "      <td>...</td>\n",
       "    </tr>\n",
       "    <tr>\n",
       "      <th>435</th>\n",
       "      <td>2526206</td>\n",
       "      <td>New York, NY</td>\n",
       "      <td>2023-02-01</td>\n",
       "      <td>2023-02-28</td>\n",
       "      <td>30</td>\n",
       "      <td>701000</td>\n",
       "      <td>407</td>\n",
       "      <td>2023-02-01</td>\n",
       "      <td>701,000</td>\n",
       "    </tr>\n",
       "    <tr>\n",
       "      <th>530</th>\n",
       "      <td>3371111</td>\n",
       "      <td>Chicago, IL</td>\n",
       "      <td>2023-02-01</td>\n",
       "      <td>2023-02-28</td>\n",
       "      <td>30</td>\n",
       "      <td>290000</td>\n",
       "      <td>446</td>\n",
       "      <td>2023-02-01</td>\n",
       "      <td>290,000</td>\n",
       "    </tr>\n",
       "    <tr>\n",
       "      <th>398</th>\n",
       "      <td>2237966</td>\n",
       "      <td>Seattle, WA</td>\n",
       "      <td>2023-02-01</td>\n",
       "      <td>2023-02-28</td>\n",
       "      <td>30</td>\n",
       "      <td>865000</td>\n",
       "      <td>272</td>\n",
       "      <td>2023-02-01</td>\n",
       "      <td>865,000</td>\n",
       "    </tr>\n",
       "    <tr>\n",
       "      <th>302</th>\n",
       "      <td>1618654</td>\n",
       "      <td>San Francisco, CA</td>\n",
       "      <td>2023-02-01</td>\n",
       "      <td>2023-02-28</td>\n",
       "      <td>30</td>\n",
       "      <td>1465000</td>\n",
       "      <td>96</td>\n",
       "      <td>2023-02-01</td>\n",
       "      <td>1,465,000</td>\n",
       "    </tr>\n",
       "    <tr>\n",
       "      <th>547</th>\n",
       "      <td>3552235</td>\n",
       "      <td>Denver, CO</td>\n",
       "      <td>2023-02-01</td>\n",
       "      <td>2023-02-28</td>\n",
       "      <td>30</td>\n",
       "      <td>612825</td>\n",
       "      <td>397</td>\n",
       "      <td>2023-02-01</td>\n",
       "      <td>612,825</td>\n",
       "    </tr>\n",
       "  </tbody>\n",
       "</table>\n",
       "<p>620 rows × 9 columns</p>\n",
       "</div>"
      ],
      "text/plain": [
       "     Unnamed: 0               city period_begin  period_end  period_duration  \\\n",
       "498     3006535        Chicago, IL   2018-01-01  2018-01-31               30   \n",
       "610     4473269         Denver, CO   2018-01-01  2018-01-31               30   \n",
       "385     2137188    Los Angeles, CA   2018-01-01  2018-01-31               30   \n",
       "120      596619        Seattle, WA   2018-01-01  2018-01-31               30   \n",
       "332     1811727        Raleigh, NC   2018-01-01  2018-01-31               30   \n",
       "..          ...                ...          ...         ...              ...   \n",
       "435     2526206       New York, NY   2023-02-01  2023-02-28               30   \n",
       "530     3371111        Chicago, IL   2023-02-01  2023-02-28               30   \n",
       "398     2237966        Seattle, WA   2023-02-01  2023-02-28               30   \n",
       "302     1618654  San Francisco, CA   2023-02-01  2023-02-28               30   \n",
       "547     3552235         Denver, CO   2023-02-01  2023-02-28               30   \n",
       "\n",
       "     median_sale_price  homes_sold snapshot_month median_sale_price_formatted  \n",
       "498             209000         695     2018-01-01                     209,000  \n",
       "610             444250         504     2018-01-01                     444,250  \n",
       "385             690000        1076     2018-01-01                     690,000  \n",
       "120             785000         299     2018-01-01                     785,000  \n",
       "332             282750         314     2018-01-01                     282,750  \n",
       "..                 ...         ...            ...                         ...  \n",
       "435             701000         407     2023-02-01                     701,000  \n",
       "530             290000         446     2023-02-01                     290,000  \n",
       "398             865000         272     2023-02-01                     865,000  \n",
       "302            1465000          96     2023-02-01                   1,465,000  \n",
       "547             612825         397     2023-02-01                     612,825  \n",
       "\n",
       "[620 rows x 9 columns]"
      ]
     },
     "execution_count": 15,
     "metadata": {},
     "output_type": "execute_result"
    }
   ],
   "source": [
    "df"
   ]
  },
  {
   "cell_type": "markdown",
   "metadata": {},
   "source": [
    "Lastly, let’s create a new field called ‘text’. Why do we need it? By default, Plotly shows a tooltip that displays some basic information when users move their mouses onto each data point. However, the default option is very limiting and not very visually appealing so we want to create a customized tooltip in order to control what and how the information is to be shown in the hover-over tooltip."
   ]
  },
  {
   "cell_type": "code",
   "execution_count": 16,
   "metadata": {},
   "outputs": [],
   "source": [
    "hover_text = []\n",
    "for index, row in df.iterrows():\n",
    "    hover_text.append(('<b>{city}</b><br><br>'+\n",
    "                      'Snapshot Month: {period_begin}<br>'+\n",
    "                      'Homes Sold: {homes_sold}<br>'+ \n",
    "                      'Median Sales Price ($): {median_sale_price_formatted}<br>'\n",
    "                       ).format(\n",
    "                       city=row['city'],\n",
    "                       period_begin=row['period_begin'],\n",
    "                       homes_sold=row['homes_sold'],\n",
    "                       median_sale_price_formatted=row['median_sale_price_formatted']\n",
    "                      ))\n",
    "df['text'] = hover_text"
   ]
  },
  {
   "cell_type": "markdown",
   "metadata": {},
   "source": [
    "### Create a Dual Y-Axis Plotly Chart\n",
    "Our data is ready and let’s start plotting. Remember our ultimate goal is to create an interactive Plotly chart for each city and then pass each chart to its corresponding marker in the Folium map. We will need to use for-loop and HTML iframe to achieve that.\n",
    "\n",
    "Before we get to that, let’s warm up a little bit by creating a double y-axis Plotly chart for one city only. We can choose Atlanta and plot the ‘homes_sold’ metric in a bar graph and the ‘median_sale_price’ metric in a line graph and combine the two graphs into one combo chart with dual y-axes. We’ll also add a customized hover-over tooltip to the combo chart as well as a range slider/selector.\n",
    "\n",
    "Using Plotly Graph_Objects, we first create a figure using make_subplots() so that the figure can have two y-axes with different scales. Then we add two traces to the figure, one representing a bar graph and the other a line graph. Lastly, we update the figure using update_layout() method to customize the chart title, legend, x and y axes, etc.\n",
    "\n",
    "If you are new to Plotly, you can read this article below to learn the basics of Plotly and Plotly Graph_Objects. By doing so, you will have a much easier time following and understanding the code that’s coming next!\n",
    "\n",
    "For ease of demonstration, I’m going to present the whole code, then I’m going to comment part by part of the code so that you can have a good understanding of how this works."
   ]
  },
  {
   "cell_type": "code",
   "execution_count": 17,
   "metadata": {},
   "outputs": [
    {
     "data": {
      "application/vnd.plotly.v1+json": {
       "config": {
        "plotlyServerURL": "https://plot.ly"
       },
       "data": [
        {
         "hoverinfo": "none",
         "name": "Homes Sold",
         "type": "bar",
         "x": [
          "2018-01-01T00:00:00",
          "2018-02-01T00:00:00",
          "2018-03-01T00:00:00",
          "2018-04-01T00:00:00",
          "2018-05-01T00:00:00",
          "2018-06-01T00:00:00",
          "2018-07-01T00:00:00",
          "2018-08-01T00:00:00",
          "2018-09-01T00:00:00",
          "2018-10-01T00:00:00",
          "2018-11-01T00:00:00",
          "2018-12-01T00:00:00",
          "2019-01-01T00:00:00",
          "2019-02-01T00:00:00",
          "2019-03-01T00:00:00",
          "2019-04-01T00:00:00",
          "2019-05-01T00:00:00",
          "2019-06-01T00:00:00",
          "2019-07-01T00:00:00",
          "2019-08-01T00:00:00",
          "2019-09-01T00:00:00",
          "2019-10-01T00:00:00",
          "2019-11-01T00:00:00",
          "2019-12-01T00:00:00",
          "2020-01-01T00:00:00",
          "2020-02-01T00:00:00",
          "2020-03-01T00:00:00",
          "2020-04-01T00:00:00",
          "2020-05-01T00:00:00",
          "2020-06-01T00:00:00",
          "2020-07-01T00:00:00",
          "2020-08-01T00:00:00",
          "2020-09-01T00:00:00",
          "2020-10-01T00:00:00",
          "2020-11-01T00:00:00",
          "2020-12-01T00:00:00",
          "2021-01-01T00:00:00",
          "2021-02-01T00:00:00",
          "2021-03-01T00:00:00",
          "2021-04-01T00:00:00",
          "2021-05-01T00:00:00",
          "2021-06-01T00:00:00",
          "2021-07-01T00:00:00",
          "2021-08-01T00:00:00",
          "2021-09-01T00:00:00",
          "2021-10-01T00:00:00",
          "2021-11-01T00:00:00",
          "2021-12-01T00:00:00",
          "2022-01-01T00:00:00",
          "2022-02-01T00:00:00",
          "2022-03-01T00:00:00",
          "2022-04-01T00:00:00",
          "2022-05-01T00:00:00",
          "2022-06-01T00:00:00",
          "2022-07-01T00:00:00",
          "2022-08-01T00:00:00",
          "2022-09-01T00:00:00",
          "2022-10-01T00:00:00",
          "2022-11-01T00:00:00",
          "2022-12-01T00:00:00",
          "2023-01-01T00:00:00",
          "2023-02-01T00:00:00"
         ],
         "xaxis": "x",
         "y": [
          399,
          457,
          630,
          574,
          718,
          721,
          574,
          630,
          505,
          520,
          507,
          453,
          342,
          407,
          607,
          657,
          726,
          623,
          642,
          637,
          551,
          576,
          493,
          561,
          402,
          505,
          555,
          435,
          450,
          617,
          723,
          724,
          686,
          634,
          557,
          685,
          444,
          498,
          709,
          692,
          725,
          740,
          672,
          579,
          576,
          557,
          530,
          573,
          376,
          488,
          657,
          603,
          630,
          529,
          422,
          446,
          420,
          380,
          308,
          322,
          225,
          286
         ],
         "yaxis": "y"
        },
        {
         "hoverinfo": "text",
         "line": {
          "color": "firebrick",
          "width": 3
         },
         "mode": "lines",
         "name": "Median Sale Price ($)",
         "text": [
          "<b>Atlanta, GA</b><br><br>Snapshot Month: 2018-01-01<br>Homes Sold: 399<br>Median Sales Price ($): 259,000<br>",
          "<b>Atlanta, GA</b><br><br>Snapshot Month: 2018-02-01<br>Homes Sold: 457<br>Median Sales Price ($): 263,500<br>",
          "<b>Atlanta, GA</b><br><br>Snapshot Month: 2018-03-01<br>Homes Sold: 630<br>Median Sales Price ($): 298,750<br>",
          "<b>Atlanta, GA</b><br><br>Snapshot Month: 2018-04-01<br>Homes Sold: 574<br>Median Sales Price ($): 340,500<br>",
          "<b>Atlanta, GA</b><br><br>Snapshot Month: 2018-05-01<br>Homes Sold: 718<br>Median Sales Price ($): 350,000<br>",
          "<b>Atlanta, GA</b><br><br>Snapshot Month: 2018-06-01<br>Homes Sold: 721<br>Median Sales Price ($): 380,000<br>",
          "<b>Atlanta, GA</b><br><br>Snapshot Month: 2018-07-01<br>Homes Sold: 574<br>Median Sales Price ($): 365,000<br>",
          "<b>Atlanta, GA</b><br><br>Snapshot Month: 2018-08-01<br>Homes Sold: 630<br>Median Sales Price ($): 353,000<br>",
          "<b>Atlanta, GA</b><br><br>Snapshot Month: 2018-09-01<br>Homes Sold: 505<br>Median Sales Price ($): 342,000<br>",
          "<b>Atlanta, GA</b><br><br>Snapshot Month: 2018-10-01<br>Homes Sold: 520<br>Median Sales Price ($): 315,000<br>",
          "<b>Atlanta, GA</b><br><br>Snapshot Month: 2018-11-01<br>Homes Sold: 507<br>Median Sales Price ($): 375,000<br>",
          "<b>Atlanta, GA</b><br><br>Snapshot Month: 2018-12-01<br>Homes Sold: 453<br>Median Sales Price ($): 325,000<br>",
          "<b>Atlanta, GA</b><br><br>Snapshot Month: 2019-01-01<br>Homes Sold: 342<br>Median Sales Price ($): 280,000<br>",
          "<b>Atlanta, GA</b><br><br>Snapshot Month: 2019-02-01<br>Homes Sold: 407<br>Median Sales Price ($): 277,500<br>",
          "<b>Atlanta, GA</b><br><br>Snapshot Month: 2019-03-01<br>Homes Sold: 607<br>Median Sales Price ($): 338,750<br>",
          "<b>Atlanta, GA</b><br><br>Snapshot Month: 2019-04-01<br>Homes Sold: 657<br>Median Sales Price ($): 384,800<br>",
          "<b>Atlanta, GA</b><br><br>Snapshot Month: 2019-05-01<br>Homes Sold: 726<br>Median Sales Price ($): 385,000<br>",
          "<b>Atlanta, GA</b><br><br>Snapshot Month: 2019-06-01<br>Homes Sold: 623<br>Median Sales Price ($): 408,500<br>",
          "<b>Atlanta, GA</b><br><br>Snapshot Month: 2019-07-01<br>Homes Sold: 642<br>Median Sales Price ($): 370,000<br>",
          "<b>Atlanta, GA</b><br><br>Snapshot Month: 2019-08-01<br>Homes Sold: 637<br>Median Sales Price ($): 343,500<br>",
          "<b>Atlanta, GA</b><br><br>Snapshot Month: 2019-09-01<br>Homes Sold: 551<br>Median Sales Price ($): 360,000<br>",
          "<b>Atlanta, GA</b><br><br>Snapshot Month: 2019-10-01<br>Homes Sold: 576<br>Median Sales Price ($): 326,250<br>",
          "<b>Atlanta, GA</b><br><br>Snapshot Month: 2019-11-01<br>Homes Sold: 493<br>Median Sales Price ($): 375,500<br>",
          "<b>Atlanta, GA</b><br><br>Snapshot Month: 2019-12-01<br>Homes Sold: 561<br>Median Sales Price ($): 358,950<br>",
          "<b>Atlanta, GA</b><br><br>Snapshot Month: 2020-01-01<br>Homes Sold: 402<br>Median Sales Price ($): 315,000<br>",
          "<b>Atlanta, GA</b><br><br>Snapshot Month: 2020-02-01<br>Homes Sold: 505<br>Median Sales Price ($): 310,000<br>",
          "<b>Atlanta, GA</b><br><br>Snapshot Month: 2020-03-01<br>Homes Sold: 555<br>Median Sales Price ($): 404,700<br>",
          "<b>Atlanta, GA</b><br><br>Snapshot Month: 2020-04-01<br>Homes Sold: 435<br>Median Sales Price ($): 431,500<br>",
          "<b>Atlanta, GA</b><br><br>Snapshot Month: 2020-05-01<br>Homes Sold: 450<br>Median Sales Price ($): 384,000<br>",
          "<b>Atlanta, GA</b><br><br>Snapshot Month: 2020-06-01<br>Homes Sold: 617<br>Median Sales Price ($): 406,250<br>",
          "<b>Atlanta, GA</b><br><br>Snapshot Month: 2020-07-01<br>Homes Sold: 723<br>Median Sales Price ($): 437,000<br>",
          "<b>Atlanta, GA</b><br><br>Snapshot Month: 2020-08-01<br>Homes Sold: 724<br>Median Sales Price ($): 412,500<br>",
          "<b>Atlanta, GA</b><br><br>Snapshot Month: 2020-09-01<br>Homes Sold: 686<br>Median Sales Price ($): 427,000<br>",
          "<b>Atlanta, GA</b><br><br>Snapshot Month: 2020-10-01<br>Homes Sold: 634<br>Median Sales Price ($): 433,450<br>",
          "<b>Atlanta, GA</b><br><br>Snapshot Month: 2020-11-01<br>Homes Sold: 557<br>Median Sales Price ($): 454,250<br>",
          "<b>Atlanta, GA</b><br><br>Snapshot Month: 2020-12-01<br>Homes Sold: 685<br>Median Sales Price ($): 424,700<br>",
          "<b>Atlanta, GA</b><br><br>Snapshot Month: 2021-01-01<br>Homes Sold: 444<br>Median Sales Price ($): 373,500<br>",
          "<b>Atlanta, GA</b><br><br>Snapshot Month: 2021-02-01<br>Homes Sold: 498<br>Median Sales Price ($): 395,000<br>",
          "<b>Atlanta, GA</b><br><br>Snapshot Month: 2021-03-01<br>Homes Sold: 709<br>Median Sales Price ($): 438,150<br>",
          "<b>Atlanta, GA</b><br><br>Snapshot Month: 2021-04-01<br>Homes Sold: 692<br>Median Sales Price ($): 485,125<br>",
          "<b>Atlanta, GA</b><br><br>Snapshot Month: 2021-05-01<br>Homes Sold: 725<br>Median Sales Price ($): 504,000<br>",
          "<b>Atlanta, GA</b><br><br>Snapshot Month: 2021-06-01<br>Homes Sold: 740<br>Median Sales Price ($): 570,000<br>",
          "<b>Atlanta, GA</b><br><br>Snapshot Month: 2021-07-01<br>Homes Sold: 672<br>Median Sales Price ($): 505,000<br>",
          "<b>Atlanta, GA</b><br><br>Snapshot Month: 2021-08-01<br>Homes Sold: 579<br>Median Sales Price ($): 449,180<br>",
          "<b>Atlanta, GA</b><br><br>Snapshot Month: 2021-09-01<br>Homes Sold: 576<br>Median Sales Price ($): 445,000<br>",
          "<b>Atlanta, GA</b><br><br>Snapshot Month: 2021-10-01<br>Homes Sold: 557<br>Median Sales Price ($): 500,000<br>",
          "<b>Atlanta, GA</b><br><br>Snapshot Month: 2021-11-01<br>Homes Sold: 530<br>Median Sales Price ($): 480,000<br>",
          "<b>Atlanta, GA</b><br><br>Snapshot Month: 2021-12-01<br>Homes Sold: 573<br>Median Sales Price ($): 449,950<br>",
          "<b>Atlanta, GA</b><br><br>Snapshot Month: 2022-01-01<br>Homes Sold: 376<br>Median Sales Price ($): 447,000<br>",
          "<b>Atlanta, GA</b><br><br>Snapshot Month: 2022-02-01<br>Homes Sold: 488<br>Median Sales Price ($): 438,000<br>",
          "<b>Atlanta, GA</b><br><br>Snapshot Month: 2022-03-01<br>Homes Sold: 657<br>Median Sales Price ($): 460,000<br>",
          "<b>Atlanta, GA</b><br><br>Snapshot Month: 2022-04-01<br>Homes Sold: 603<br>Median Sales Price ($): 540,000<br>",
          "<b>Atlanta, GA</b><br><br>Snapshot Month: 2022-05-01<br>Homes Sold: 630<br>Median Sales Price ($): 552,900<br>",
          "<b>Atlanta, GA</b><br><br>Snapshot Month: 2022-06-01<br>Homes Sold: 529<br>Median Sales Price ($): 560,073<br>",
          "<b>Atlanta, GA</b><br><br>Snapshot Month: 2022-07-01<br>Homes Sold: 422<br>Median Sales Price ($): 510,000<br>",
          "<b>Atlanta, GA</b><br><br>Snapshot Month: 2022-08-01<br>Homes Sold: 446<br>Median Sales Price ($): 502,500<br>",
          "<b>Atlanta, GA</b><br><br>Snapshot Month: 2022-09-01<br>Homes Sold: 420<br>Median Sales Price ($): 535,000<br>",
          "<b>Atlanta, GA</b><br><br>Snapshot Month: 2022-10-01<br>Homes Sold: 380<br>Median Sales Price ($): 550,000<br>",
          "<b>Atlanta, GA</b><br><br>Snapshot Month: 2022-11-01<br>Homes Sold: 308<br>Median Sales Price ($): 461,937<br>",
          "<b>Atlanta, GA</b><br><br>Snapshot Month: 2022-12-01<br>Homes Sold: 322<br>Median Sales Price ($): 450,000<br>",
          "<b>Atlanta, GA</b><br><br>Snapshot Month: 2023-01-01<br>Homes Sold: 225<br>Median Sales Price ($): 417,000<br>",
          "<b>Atlanta, GA</b><br><br>Snapshot Month: 2023-02-01<br>Homes Sold: 286<br>Median Sales Price ($): 425,000<br>"
         ],
         "type": "scatter",
         "x": [
          "2018-01-01T00:00:00",
          "2018-02-01T00:00:00",
          "2018-03-01T00:00:00",
          "2018-04-01T00:00:00",
          "2018-05-01T00:00:00",
          "2018-06-01T00:00:00",
          "2018-07-01T00:00:00",
          "2018-08-01T00:00:00",
          "2018-09-01T00:00:00",
          "2018-10-01T00:00:00",
          "2018-11-01T00:00:00",
          "2018-12-01T00:00:00",
          "2019-01-01T00:00:00",
          "2019-02-01T00:00:00",
          "2019-03-01T00:00:00",
          "2019-04-01T00:00:00",
          "2019-05-01T00:00:00",
          "2019-06-01T00:00:00",
          "2019-07-01T00:00:00",
          "2019-08-01T00:00:00",
          "2019-09-01T00:00:00",
          "2019-10-01T00:00:00",
          "2019-11-01T00:00:00",
          "2019-12-01T00:00:00",
          "2020-01-01T00:00:00",
          "2020-02-01T00:00:00",
          "2020-03-01T00:00:00",
          "2020-04-01T00:00:00",
          "2020-05-01T00:00:00",
          "2020-06-01T00:00:00",
          "2020-07-01T00:00:00",
          "2020-08-01T00:00:00",
          "2020-09-01T00:00:00",
          "2020-10-01T00:00:00",
          "2020-11-01T00:00:00",
          "2020-12-01T00:00:00",
          "2021-01-01T00:00:00",
          "2021-02-01T00:00:00",
          "2021-03-01T00:00:00",
          "2021-04-01T00:00:00",
          "2021-05-01T00:00:00",
          "2021-06-01T00:00:00",
          "2021-07-01T00:00:00",
          "2021-08-01T00:00:00",
          "2021-09-01T00:00:00",
          "2021-10-01T00:00:00",
          "2021-11-01T00:00:00",
          "2021-12-01T00:00:00",
          "2022-01-01T00:00:00",
          "2022-02-01T00:00:00",
          "2022-03-01T00:00:00",
          "2022-04-01T00:00:00",
          "2022-05-01T00:00:00",
          "2022-06-01T00:00:00",
          "2022-07-01T00:00:00",
          "2022-08-01T00:00:00",
          "2022-09-01T00:00:00",
          "2022-10-01T00:00:00",
          "2022-11-01T00:00:00",
          "2022-12-01T00:00:00",
          "2023-01-01T00:00:00",
          "2023-02-01T00:00:00"
         ],
         "xaxis": "x",
         "y": [
          259000,
          263500,
          298750,
          340500,
          350000,
          380000,
          365000,
          353000,
          342000,
          315000,
          375000,
          325000,
          280000,
          277500,
          338750,
          384800,
          385000,
          408500,
          370000,
          343500,
          360000,
          326250,
          375500,
          358950,
          315000,
          310000,
          404700,
          431500,
          384000,
          406250,
          437000,
          412500,
          427000,
          433450,
          454250,
          424700,
          373500,
          395000,
          438150,
          485125,
          504000,
          570000,
          505000,
          449180,
          445000,
          500000,
          480000,
          449950,
          447000,
          438000,
          460000,
          540000,
          552900,
          560073,
          510000,
          502500,
          535000,
          550000,
          461937,
          450000,
          417000,
          425000
         ],
         "yaxis": "y2"
        }
       ],
       "layout": {
        "hoverlabel": {
         "bgcolor": "#DAEEED"
        },
        "legend": {
         "orientation": "h",
         "x": 0.72,
         "xanchor": "center",
         "y": 1
        },
        "template": {
         "data": {
          "bar": [
           {
            "error_x": {
             "color": "#2a3f5f"
            },
            "error_y": {
             "color": "#2a3f5f"
            },
            "marker": {
             "line": {
              "color": "#E5ECF6",
              "width": 0.5
             },
             "pattern": {
              "fillmode": "overlay",
              "size": 10,
              "solidity": 0.2
             }
            },
            "type": "bar"
           }
          ],
          "barpolar": [
           {
            "marker": {
             "line": {
              "color": "#E5ECF6",
              "width": 0.5
             },
             "pattern": {
              "fillmode": "overlay",
              "size": 10,
              "solidity": 0.2
             }
            },
            "type": "barpolar"
           }
          ],
          "carpet": [
           {
            "aaxis": {
             "endlinecolor": "#2a3f5f",
             "gridcolor": "white",
             "linecolor": "white",
             "minorgridcolor": "white",
             "startlinecolor": "#2a3f5f"
            },
            "baxis": {
             "endlinecolor": "#2a3f5f",
             "gridcolor": "white",
             "linecolor": "white",
             "minorgridcolor": "white",
             "startlinecolor": "#2a3f5f"
            },
            "type": "carpet"
           }
          ],
          "choropleth": [
           {
            "colorbar": {
             "outlinewidth": 0,
             "ticks": ""
            },
            "type": "choropleth"
           }
          ],
          "contour": [
           {
            "colorbar": {
             "outlinewidth": 0,
             "ticks": ""
            },
            "colorscale": [
             [
              0,
              "#0d0887"
             ],
             [
              0.1111111111111111,
              "#46039f"
             ],
             [
              0.2222222222222222,
              "#7201a8"
             ],
             [
              0.3333333333333333,
              "#9c179e"
             ],
             [
              0.4444444444444444,
              "#bd3786"
             ],
             [
              0.5555555555555556,
              "#d8576b"
             ],
             [
              0.6666666666666666,
              "#ed7953"
             ],
             [
              0.7777777777777778,
              "#fb9f3a"
             ],
             [
              0.8888888888888888,
              "#fdca26"
             ],
             [
              1,
              "#f0f921"
             ]
            ],
            "type": "contour"
           }
          ],
          "contourcarpet": [
           {
            "colorbar": {
             "outlinewidth": 0,
             "ticks": ""
            },
            "type": "contourcarpet"
           }
          ],
          "heatmap": [
           {
            "colorbar": {
             "outlinewidth": 0,
             "ticks": ""
            },
            "colorscale": [
             [
              0,
              "#0d0887"
             ],
             [
              0.1111111111111111,
              "#46039f"
             ],
             [
              0.2222222222222222,
              "#7201a8"
             ],
             [
              0.3333333333333333,
              "#9c179e"
             ],
             [
              0.4444444444444444,
              "#bd3786"
             ],
             [
              0.5555555555555556,
              "#d8576b"
             ],
             [
              0.6666666666666666,
              "#ed7953"
             ],
             [
              0.7777777777777778,
              "#fb9f3a"
             ],
             [
              0.8888888888888888,
              "#fdca26"
             ],
             [
              1,
              "#f0f921"
             ]
            ],
            "type": "heatmap"
           }
          ],
          "heatmapgl": [
           {
            "colorbar": {
             "outlinewidth": 0,
             "ticks": ""
            },
            "colorscale": [
             [
              0,
              "#0d0887"
             ],
             [
              0.1111111111111111,
              "#46039f"
             ],
             [
              0.2222222222222222,
              "#7201a8"
             ],
             [
              0.3333333333333333,
              "#9c179e"
             ],
             [
              0.4444444444444444,
              "#bd3786"
             ],
             [
              0.5555555555555556,
              "#d8576b"
             ],
             [
              0.6666666666666666,
              "#ed7953"
             ],
             [
              0.7777777777777778,
              "#fb9f3a"
             ],
             [
              0.8888888888888888,
              "#fdca26"
             ],
             [
              1,
              "#f0f921"
             ]
            ],
            "type": "heatmapgl"
           }
          ],
          "histogram": [
           {
            "marker": {
             "pattern": {
              "fillmode": "overlay",
              "size": 10,
              "solidity": 0.2
             }
            },
            "type": "histogram"
           }
          ],
          "histogram2d": [
           {
            "colorbar": {
             "outlinewidth": 0,
             "ticks": ""
            },
            "colorscale": [
             [
              0,
              "#0d0887"
             ],
             [
              0.1111111111111111,
              "#46039f"
             ],
             [
              0.2222222222222222,
              "#7201a8"
             ],
             [
              0.3333333333333333,
              "#9c179e"
             ],
             [
              0.4444444444444444,
              "#bd3786"
             ],
             [
              0.5555555555555556,
              "#d8576b"
             ],
             [
              0.6666666666666666,
              "#ed7953"
             ],
             [
              0.7777777777777778,
              "#fb9f3a"
             ],
             [
              0.8888888888888888,
              "#fdca26"
             ],
             [
              1,
              "#f0f921"
             ]
            ],
            "type": "histogram2d"
           }
          ],
          "histogram2dcontour": [
           {
            "colorbar": {
             "outlinewidth": 0,
             "ticks": ""
            },
            "colorscale": [
             [
              0,
              "#0d0887"
             ],
             [
              0.1111111111111111,
              "#46039f"
             ],
             [
              0.2222222222222222,
              "#7201a8"
             ],
             [
              0.3333333333333333,
              "#9c179e"
             ],
             [
              0.4444444444444444,
              "#bd3786"
             ],
             [
              0.5555555555555556,
              "#d8576b"
             ],
             [
              0.6666666666666666,
              "#ed7953"
             ],
             [
              0.7777777777777778,
              "#fb9f3a"
             ],
             [
              0.8888888888888888,
              "#fdca26"
             ],
             [
              1,
              "#f0f921"
             ]
            ],
            "type": "histogram2dcontour"
           }
          ],
          "mesh3d": [
           {
            "colorbar": {
             "outlinewidth": 0,
             "ticks": ""
            },
            "type": "mesh3d"
           }
          ],
          "parcoords": [
           {
            "line": {
             "colorbar": {
              "outlinewidth": 0,
              "ticks": ""
             }
            },
            "type": "parcoords"
           }
          ],
          "pie": [
           {
            "automargin": true,
            "type": "pie"
           }
          ],
          "scatter": [
           {
            "fillpattern": {
             "fillmode": "overlay",
             "size": 10,
             "solidity": 0.2
            },
            "type": "scatter"
           }
          ],
          "scatter3d": [
           {
            "line": {
             "colorbar": {
              "outlinewidth": 0,
              "ticks": ""
             }
            },
            "marker": {
             "colorbar": {
              "outlinewidth": 0,
              "ticks": ""
             }
            },
            "type": "scatter3d"
           }
          ],
          "scattercarpet": [
           {
            "marker": {
             "colorbar": {
              "outlinewidth": 0,
              "ticks": ""
             }
            },
            "type": "scattercarpet"
           }
          ],
          "scattergeo": [
           {
            "marker": {
             "colorbar": {
              "outlinewidth": 0,
              "ticks": ""
             }
            },
            "type": "scattergeo"
           }
          ],
          "scattergl": [
           {
            "marker": {
             "colorbar": {
              "outlinewidth": 0,
              "ticks": ""
             }
            },
            "type": "scattergl"
           }
          ],
          "scattermapbox": [
           {
            "marker": {
             "colorbar": {
              "outlinewidth": 0,
              "ticks": ""
             }
            },
            "type": "scattermapbox"
           }
          ],
          "scatterpolar": [
           {
            "marker": {
             "colorbar": {
              "outlinewidth": 0,
              "ticks": ""
             }
            },
            "type": "scatterpolar"
           }
          ],
          "scatterpolargl": [
           {
            "marker": {
             "colorbar": {
              "outlinewidth": 0,
              "ticks": ""
             }
            },
            "type": "scatterpolargl"
           }
          ],
          "scatterternary": [
           {
            "marker": {
             "colorbar": {
              "outlinewidth": 0,
              "ticks": ""
             }
            },
            "type": "scatterternary"
           }
          ],
          "surface": [
           {
            "colorbar": {
             "outlinewidth": 0,
             "ticks": ""
            },
            "colorscale": [
             [
              0,
              "#0d0887"
             ],
             [
              0.1111111111111111,
              "#46039f"
             ],
             [
              0.2222222222222222,
              "#7201a8"
             ],
             [
              0.3333333333333333,
              "#9c179e"
             ],
             [
              0.4444444444444444,
              "#bd3786"
             ],
             [
              0.5555555555555556,
              "#d8576b"
             ],
             [
              0.6666666666666666,
              "#ed7953"
             ],
             [
              0.7777777777777778,
              "#fb9f3a"
             ],
             [
              0.8888888888888888,
              "#fdca26"
             ],
             [
              1,
              "#f0f921"
             ]
            ],
            "type": "surface"
           }
          ],
          "table": [
           {
            "cells": {
             "fill": {
              "color": "#EBF0F8"
             },
             "line": {
              "color": "white"
             }
            },
            "header": {
             "fill": {
              "color": "#C8D4E3"
             },
             "line": {
              "color": "white"
             }
            },
            "type": "table"
           }
          ]
         },
         "layout": {
          "annotationdefaults": {
           "arrowcolor": "#2a3f5f",
           "arrowhead": 0,
           "arrowwidth": 1
          },
          "autotypenumbers": "strict",
          "coloraxis": {
           "colorbar": {
            "outlinewidth": 0,
            "ticks": ""
           }
          },
          "colorscale": {
           "diverging": [
            [
             0,
             "#8e0152"
            ],
            [
             0.1,
             "#c51b7d"
            ],
            [
             0.2,
             "#de77ae"
            ],
            [
             0.3,
             "#f1b6da"
            ],
            [
             0.4,
             "#fde0ef"
            ],
            [
             0.5,
             "#f7f7f7"
            ],
            [
             0.6,
             "#e6f5d0"
            ],
            [
             0.7,
             "#b8e186"
            ],
            [
             0.8,
             "#7fbc41"
            ],
            [
             0.9,
             "#4d9221"
            ],
            [
             1,
             "#276419"
            ]
           ],
           "sequential": [
            [
             0,
             "#0d0887"
            ],
            [
             0.1111111111111111,
             "#46039f"
            ],
            [
             0.2222222222222222,
             "#7201a8"
            ],
            [
             0.3333333333333333,
             "#9c179e"
            ],
            [
             0.4444444444444444,
             "#bd3786"
            ],
            [
             0.5555555555555556,
             "#d8576b"
            ],
            [
             0.6666666666666666,
             "#ed7953"
            ],
            [
             0.7777777777777778,
             "#fb9f3a"
            ],
            [
             0.8888888888888888,
             "#fdca26"
            ],
            [
             1,
             "#f0f921"
            ]
           ],
           "sequentialminus": [
            [
             0,
             "#0d0887"
            ],
            [
             0.1111111111111111,
             "#46039f"
            ],
            [
             0.2222222222222222,
             "#7201a8"
            ],
            [
             0.3333333333333333,
             "#9c179e"
            ],
            [
             0.4444444444444444,
             "#bd3786"
            ],
            [
             0.5555555555555556,
             "#d8576b"
            ],
            [
             0.6666666666666666,
             "#ed7953"
            ],
            [
             0.7777777777777778,
             "#fb9f3a"
            ],
            [
             0.8888888888888888,
             "#fdca26"
            ],
            [
             1,
             "#f0f921"
            ]
           ]
          },
          "colorway": [
           "#636efa",
           "#EF553B",
           "#00cc96",
           "#ab63fa",
           "#FFA15A",
           "#19d3f3",
           "#FF6692",
           "#B6E880",
           "#FF97FF",
           "#FECB52"
          ],
          "font": {
           "color": "#2a3f5f"
          },
          "geo": {
           "bgcolor": "white",
           "lakecolor": "white",
           "landcolor": "#E5ECF6",
           "showlakes": true,
           "showland": true,
           "subunitcolor": "white"
          },
          "hoverlabel": {
           "align": "left"
          },
          "hovermode": "closest",
          "mapbox": {
           "style": "light"
          },
          "paper_bgcolor": "white",
          "plot_bgcolor": "#E5ECF6",
          "polar": {
           "angularaxis": {
            "gridcolor": "white",
            "linecolor": "white",
            "ticks": ""
           },
           "bgcolor": "#E5ECF6",
           "radialaxis": {
            "gridcolor": "white",
            "linecolor": "white",
            "ticks": ""
           }
          },
          "scene": {
           "xaxis": {
            "backgroundcolor": "#E5ECF6",
            "gridcolor": "white",
            "gridwidth": 2,
            "linecolor": "white",
            "showbackground": true,
            "ticks": "",
            "zerolinecolor": "white"
           },
           "yaxis": {
            "backgroundcolor": "#E5ECF6",
            "gridcolor": "white",
            "gridwidth": 2,
            "linecolor": "white",
            "showbackground": true,
            "ticks": "",
            "zerolinecolor": "white"
           },
           "zaxis": {
            "backgroundcolor": "#E5ECF6",
            "gridcolor": "white",
            "gridwidth": 2,
            "linecolor": "white",
            "showbackground": true,
            "ticks": "",
            "zerolinecolor": "white"
           }
          },
          "shapedefaults": {
           "line": {
            "color": "#2a3f5f"
           }
          },
          "ternary": {
           "aaxis": {
            "gridcolor": "white",
            "linecolor": "white",
            "ticks": ""
           },
           "baxis": {
            "gridcolor": "white",
            "linecolor": "white",
            "ticks": ""
           },
           "bgcolor": "#E5ECF6",
           "caxis": {
            "gridcolor": "white",
            "linecolor": "white",
            "ticks": ""
           }
          },
          "title": {
           "x": 0.05
          },
          "xaxis": {
           "automargin": true,
           "gridcolor": "white",
           "linecolor": "white",
           "ticks": "",
           "title": {
            "standoff": 15
           },
           "zerolinecolor": "white",
           "zerolinewidth": 2
          },
          "yaxis": {
           "automargin": true,
           "gridcolor": "white",
           "linecolor": "white",
           "ticks": "",
           "title": {
            "standoff": 15
           },
           "zerolinecolor": "white",
           "zerolinewidth": 2
          }
         }
        },
        "title": {
         "font": {
          "color": "darkblue",
          "family": "Times New Roman",
          "size": 20
         },
         "text": "Housing Market Trends: Atlanta, GA",
         "x": 0.5
        },
        "xaxis": {
         "anchor": "y",
         "domain": [
          0,
          0.94
         ],
         "dtick": "M1",
         "rangeselector": {
          "buttons": [
           {
            "count": 1,
            "label": "1m",
            "step": "month",
            "stepmode": "backward"
           },
           {
            "count": 6,
            "label": "6m",
            "step": "month",
            "stepmode": "backward"
           },
           {
            "count": 1,
            "label": "YTD",
            "step": "year",
            "stepmode": "todate"
           },
           {
            "count": 1,
            "label": "1y",
            "step": "year",
            "stepmode": "backward"
           },
           {
            "step": "all"
           }
          ]
         },
         "rangeslider": {
          "visible": true
         },
         "showgrid": true,
         "showline": true,
         "showticklabels": true,
         "tickangle": -90,
         "tickfont": {
          "size": 10
         },
         "tickformat": "%b\n%Y",
         "zeroline": true
        },
        "yaxis": {
         "anchor": "x",
         "domain": [
          0,
          1
         ],
         "title": {
          "text": "# Homes Sold"
         }
        },
        "yaxis2": {
         "anchor": "x",
         "overlaying": "y",
         "side": "right",
         "title": {
          "text": "Median Sales Price ($)"
         }
        }
       }
      }
     },
     "metadata": {},
     "output_type": "display_data"
    }
   ],
   "source": [
    "df_city=df[(df['city'] =='Atlanta, GA')]\n",
    "fig=make_subplots(specs=[[{\"secondary_y\":True}]])\n",
    "\n",
    "fig.add_trace(                           #Add a bar chart to the figure\n",
    "        go.Bar(\n",
    "        x=df_city['snapshot_month'],\n",
    "        y=df_city['homes_sold'],\n",
    "        name=\"Homes Sold\",\n",
    "        hoverinfo='none'                 #Hide the hoverinfo\n",
    "        ),\n",
    "        secondary_y=False)               #The bar chart uses the primary y-axis (left)\n",
    "\n",
    "fig.add_trace(                           #Add the second chart (line chart) to the figure\n",
    "    go.Scatter(\n",
    "    x=df_city['snapshot_month'],\n",
    "    y=df_city['median_sale_price'],\n",
    "    name=\"Median Sale Price ($)\",\n",
    "    mode='lines',\n",
    "    text=df_city['text'],               \n",
    "    hoverinfo='text',                   #Pass the 'text' column to the hoverinfo parameter to customize the tooltip\n",
    "    line = dict(color='firebrick', width=3)#Specify the color of the line\n",
    "     ),\n",
    "    secondary_y=True)                   #The line chart uses the secondary y-axis (right)\n",
    "\n",
    "fig.update_layout(hoverlabel_bgcolor='#DAEEED',  #Change the background color of the tooltip to light gray\n",
    "             title_text=\"Housing Market Trends: Atlanta, GA\", #Add a chart title\n",
    "             title_font_family=\"Times New Roman\",\n",
    "             title_font_size = 20,\n",
    "             title_font_color=\"darkblue\", #Specify font color of the title\n",
    "             title_x=0.5, #Specify the title position\n",
    "             xaxis=dict(\n",
    "                    tickfont_size=10,\n",
    "                    tickangle = 270,\n",
    "                    showgrid = True,\n",
    "                    zeroline = True,\n",
    "                    showline = True,\n",
    "                    showticklabels = True,\n",
    "                    dtick=\"M1\", #Change the x-axis ticks to be monthly\n",
    "                    tickformat=\"%b\\n%Y\"\n",
    "                    ),\n",
    "             legend = dict(orientation = 'h', xanchor = \"center\", x = 0.72, y= 1), #Adjust legend position\n",
    "             yaxis_title='# Homes Sold',\n",
    "             yaxis2_title='Median Sales Price ($)')\n",
    "\n",
    "fig.update_xaxes(\n",
    "rangeslider_visible=True,\n",
    "rangeselector=dict(\n",
    "    buttons=list([\n",
    "        dict(count=1, label=\"1m\", step=\"month\", stepmode=\"backward\"),\n",
    "        dict(count=6, label=\"6m\", step=\"month\", stepmode=\"backward\"),\n",
    "        dict(count=1, label=\"YTD\", step=\"year\", stepmode=\"todate\"),\n",
    "        dict(count=1, label=\"1y\", step=\"year\", stepmode=\"backward\"),\n",
    "        dict(step=\"all\")\n",
    "    ]))\n",
    ")\n",
    "\n",
    "fig.show()"
   ]
  },
  {
   "cell_type": "markdown",
   "metadata": {},
   "source": [
    "### Use for-loop to Create a Plotly Chart for Each City and Export it to HTML\n",
    "Now coming back to our end goal, we’ll need to use a for-loop to automate the process above and create a Plotly chart for each city and export them to HTML files — one HTML file for each city! To help you understand how this works, I am going to use the same strategy: I’ll first present the whole code and then explain it part by part."
   ]
  },
  {
   "cell_type": "code",
   "execution_count": 18,
   "metadata": {},
   "outputs": [
    {
     "data": {
      "text/html": [
       "<div>\n",
       "<style scoped>\n",
       "    .dataframe tbody tr th:only-of-type {\n",
       "        vertical-align: middle;\n",
       "    }\n",
       "\n",
       "    .dataframe tbody tr th {\n",
       "        vertical-align: top;\n",
       "    }\n",
       "\n",
       "    .dataframe thead th {\n",
       "        text-align: right;\n",
       "    }\n",
       "</style>\n",
       "<table border=\"1\" class=\"dataframe\">\n",
       "  <thead>\n",
       "    <tr style=\"text-align: right;\">\n",
       "      <th></th>\n",
       "      <th>city</th>\n",
       "      <th>html_file_x</th>\n",
       "      <th>html_file_y</th>\n",
       "      <th>Latitude</th>\n",
       "      <th>Longitude</th>\n",
       "    </tr>\n",
       "  </thead>\n",
       "  <tbody>\n",
       "    <tr>\n",
       "      <th>0</th>\n",
       "      <td>Chicago, IL</td>\n",
       "      <td>fig0.html</td>\n",
       "      <td>fig6.html</td>\n",
       "      <td>41.8818</td>\n",
       "      <td>-87.6232</td>\n",
       "    </tr>\n",
       "    <tr>\n",
       "      <th>1</th>\n",
       "      <td>Denver, CO</td>\n",
       "      <td>fig1.html</td>\n",
       "      <td>fig8.html</td>\n",
       "      <td>39.7420</td>\n",
       "      <td>104.9915</td>\n",
       "    </tr>\n",
       "    <tr>\n",
       "      <th>2</th>\n",
       "      <td>Los Angeles, CA</td>\n",
       "      <td>fig2.html</td>\n",
       "      <td>fig7.html</td>\n",
       "      <td>34.0522</td>\n",
       "      <td>-118.2437</td>\n",
       "    </tr>\n",
       "    <tr>\n",
       "      <th>3</th>\n",
       "      <td>Seattle, WA</td>\n",
       "      <td>fig3.html</td>\n",
       "      <td>fig1.html</td>\n",
       "      <td>47.6080</td>\n",
       "      <td>-122.3352</td>\n",
       "    </tr>\n",
       "    <tr>\n",
       "      <th>4</th>\n",
       "      <td>Raleigh, NC</td>\n",
       "      <td>fig4.html</td>\n",
       "      <td>fig5.html</td>\n",
       "      <td>35.7877</td>\n",
       "      <td>-78.6443</td>\n",
       "    </tr>\n",
       "    <tr>\n",
       "      <th>5</th>\n",
       "      <td>Boston, MA</td>\n",
       "      <td>fig5.html</td>\n",
       "      <td>fig0.html</td>\n",
       "      <td>42.3611</td>\n",
       "      <td>-71.0388</td>\n",
       "    </tr>\n",
       "    <tr>\n",
       "      <th>6</th>\n",
       "      <td>Austin, TX</td>\n",
       "      <td>fig6.html</td>\n",
       "      <td>fig2.html</td>\n",
       "      <td>30.2666</td>\n",
       "      <td>-97.7333</td>\n",
       "    </tr>\n",
       "    <tr>\n",
       "      <th>7</th>\n",
       "      <td>New York, NY</td>\n",
       "      <td>fig7.html</td>\n",
       "      <td>fig3.html</td>\n",
       "      <td>40.7306</td>\n",
       "      <td>-73.9352</td>\n",
       "    </tr>\n",
       "    <tr>\n",
       "      <th>8</th>\n",
       "      <td>Atlanta, GA</td>\n",
       "      <td>fig8.html</td>\n",
       "      <td>fig9.html</td>\n",
       "      <td>33.7487</td>\n",
       "      <td>-84.3882</td>\n",
       "    </tr>\n",
       "    <tr>\n",
       "      <th>9</th>\n",
       "      <td>San Francisco, CA</td>\n",
       "      <td>fig9.html</td>\n",
       "      <td>fig4.html</td>\n",
       "      <td>37.7739</td>\n",
       "      <td>-122.4313</td>\n",
       "    </tr>\n",
       "  </tbody>\n",
       "</table>\n",
       "</div>"
      ],
      "text/plain": [
       "                city html_file_x html_file_y  Latitude  Longitude\n",
       "0        Chicago, IL   fig0.html   fig6.html   41.8818   -87.6232\n",
       "1         Denver, CO   fig1.html   fig8.html   39.7420   104.9915\n",
       "2    Los Angeles, CA   fig2.html   fig7.html   34.0522  -118.2437\n",
       "3        Seattle, WA   fig3.html   fig1.html   47.6080  -122.3352\n",
       "4        Raleigh, NC   fig4.html   fig5.html   35.7877   -78.6443\n",
       "5         Boston, MA   fig5.html   fig0.html   42.3611   -71.0388\n",
       "6         Austin, TX   fig6.html   fig2.html   30.2666   -97.7333\n",
       "7       New York, NY   fig7.html   fig3.html   40.7306   -73.9352\n",
       "8        Atlanta, GA   fig8.html   fig9.html   33.7487   -84.3882\n",
       "9  San Francisco, CA   fig9.html   fig4.html   37.7739  -122.4313"
      ]
     },
     "execution_count": 18,
     "metadata": {},
     "output_type": "execute_result"
    }
   ],
   "source": [
    "figs = {} # Create an empty figure to which we will add all the plotly figures\n",
    "city_list=[] #Create an empty list to which we will append all the cities\n",
    "html_list=[] #Create an empty list to which we will append all the exported html files\n",
    "cities = df['city'].unique() # Get the list of city names\n",
    "for i, city in enumerate(cities, start = 0):\n",
    "    city_list.append(city)\n",
    "    html_list.append('fig'+str(i)+'.html')\n",
    "    df_city = df[df['city']==city]\n",
    "    \n",
    "    ####Insert the code (line 2-55) from previous section here. Change line 26 to: title_text=\"Housing Market Trends: \"+cities[i]. Also, when copy-and-paste make sure you place the code within the for-loop (properly indented)#########\n",
    "    \n",
    "    figs['fig'+str(i)] = fig\n",
    "    fig.write_html('fig'+str(i)+\".html\")\n",
    "\n",
    "df1=pd.DataFrame(city_list,columns =['city'])\n",
    "df2=pd.DataFrame(html_list,columns =['html_file'])\n",
    "df3=pd.concat([df1, df2], axis=1)\n",
    "lat_lon=pd.read_csv('cities_lat_lon.csv') #Add the latitude and longitude for each city so that we can later on add them to markers\n",
    "df_final=df3.merge(lat_lon, on='city', how='left')\n",
    "df_final #Create a final dataframe that has city names, html file names,  latitude and longitude."
   ]
  },
  {
   "cell_type": "code",
   "execution_count": 19,
   "metadata": {},
   "outputs": [
    {
     "data": {
      "text/plain": [
       "'fig4.html'"
      ]
     },
     "execution_count": 19,
     "metadata": {},
     "output_type": "execute_result"
    }
   ],
   "source": [
    "df_final['html_file_y'][i]"
   ]
  },
  {
   "cell_type": "code",
   "execution_count": 20,
   "metadata": {},
   "outputs": [
    {
     "data": {
      "text/html": [
       "<div style=\"width:100%;\"><div style=\"position:relative;width:100%;height:0;padding-bottom:60%;\"><span style=\"color:#565656\">Make this Notebook Trusted to load map: File -> Trust Notebook</span><iframe srcdoc=\"&lt;!DOCTYPE html&gt;\n",
       "&lt;html&gt;\n",
       "&lt;head&gt;\n",
       "    \n",
       "    &lt;meta http-equiv=&quot;content-type&quot; content=&quot;text/html; charset=UTF-8&quot; /&gt;\n",
       "    \n",
       "        &lt;script&gt;\n",
       "            L_NO_TOUCH = false;\n",
       "            L_DISABLE_3D = false;\n",
       "        &lt;/script&gt;\n",
       "    \n",
       "    &lt;style&gt;html, body {width: 100%;height: 100%;margin: 0;padding: 0;}&lt;/style&gt;\n",
       "    &lt;style&gt;#map {position:absolute;top:0;bottom:0;right:0;left:0;}&lt;/style&gt;\n",
       "    &lt;script src=&quot;https://cdn.jsdelivr.net/npm/leaflet@1.6.0/dist/leaflet.js&quot;&gt;&lt;/script&gt;\n",
       "    &lt;script src=&quot;https://code.jquery.com/jquery-1.12.4.min.js&quot;&gt;&lt;/script&gt;\n",
       "    &lt;script src=&quot;https://maxcdn.bootstrapcdn.com/bootstrap/3.2.0/js/bootstrap.min.js&quot;&gt;&lt;/script&gt;\n",
       "    &lt;script src=&quot;https://cdnjs.cloudflare.com/ajax/libs/Leaflet.awesome-markers/2.0.2/leaflet.awesome-markers.js&quot;&gt;&lt;/script&gt;\n",
       "    &lt;link rel=&quot;stylesheet&quot; href=&quot;https://cdn.jsdelivr.net/npm/leaflet@1.6.0/dist/leaflet.css&quot;/&gt;\n",
       "    &lt;link rel=&quot;stylesheet&quot; href=&quot;https://maxcdn.bootstrapcdn.com/bootstrap/3.2.0/css/bootstrap.min.css&quot;/&gt;\n",
       "    &lt;link rel=&quot;stylesheet&quot; href=&quot;https://maxcdn.bootstrapcdn.com/bootstrap/3.2.0/css/bootstrap-theme.min.css&quot;/&gt;\n",
       "    &lt;link rel=&quot;stylesheet&quot; href=&quot;https://maxcdn.bootstrapcdn.com/font-awesome/4.6.3/css/font-awesome.min.css&quot;/&gt;\n",
       "    &lt;link rel=&quot;stylesheet&quot; href=&quot;https://cdnjs.cloudflare.com/ajax/libs/Leaflet.awesome-markers/2.0.2/leaflet.awesome-markers.css&quot;/&gt;\n",
       "    &lt;link rel=&quot;stylesheet&quot; href=&quot;https://cdn.jsdelivr.net/gh/python-visualization/folium/folium/templates/leaflet.awesome.rotate.min.css&quot;/&gt;\n",
       "    \n",
       "            &lt;meta name=&quot;viewport&quot; content=&quot;width=device-width,\n",
       "                initial-scale=1.0, maximum-scale=1.0, user-scalable=no&quot; /&gt;\n",
       "            &lt;style&gt;\n",
       "                #map_dae4a85907d7b3db2fb3c11d449c75d7 {\n",
       "                    position: relative;\n",
       "                    width: 100.0%;\n",
       "                    height: 100.0%;\n",
       "                    left: 0.0%;\n",
       "                    top: 0.0%;\n",
       "                }\n",
       "            &lt;/style&gt;\n",
       "        \n",
       "&lt;/head&gt;\n",
       "&lt;body&gt;\n",
       "    \n",
       "    \n",
       "            &lt;div class=&quot;folium-map&quot; id=&quot;map_dae4a85907d7b3db2fb3c11d449c75d7&quot; &gt;&lt;/div&gt;\n",
       "        \n",
       "&lt;/body&gt;\n",
       "&lt;script&gt;\n",
       "    \n",
       "    \n",
       "            var map_dae4a85907d7b3db2fb3c11d449c75d7 = L.map(\n",
       "                &quot;map_dae4a85907d7b3db2fb3c11d449c75d7&quot;,\n",
       "                {\n",
       "                    center: [38.39525999999999, -75.13816999999999],\n",
       "                    crs: L.CRS.EPSG3857,\n",
       "                    zoom: 4,\n",
       "                    zoomControl: true,\n",
       "                    preferCanvas: false,\n",
       "                }\n",
       "            );\n",
       "\n",
       "            \n",
       "\n",
       "        \n",
       "    \n",
       "            var tile_layer_862f787f483f666586ed45171348dce7 = L.tileLayer(\n",
       "                &quot;https://{s}.tile.openstreetmap.org/{z}/{x}/{y}.png&quot;,\n",
       "                {&quot;attribution&quot;: &quot;Data by \\u0026copy; \\u003ca href=\\&quot;http://openstreetmap.org\\&quot;\\u003eOpenStreetMap\\u003c/a\\u003e, under \\u003ca href=\\&quot;http://www.openstreetmap.org/copyright\\&quot;\\u003eODbL\\u003c/a\\u003e.&quot;, &quot;detectRetina&quot;: false, &quot;maxNativeZoom&quot;: 18, &quot;maxZoom&quot;: 18, &quot;minZoom&quot;: 0, &quot;noWrap&quot;: false, &quot;opacity&quot;: 1, &quot;subdomains&quot;: &quot;abc&quot;, &quot;tms&quot;: false}\n",
       "            ).addTo(map_dae4a85907d7b3db2fb3c11d449c75d7);\n",
       "        \n",
       "    \n",
       "            var marker_c751e5fec5f78cd35b436fd106a2f257 = L.marker(\n",
       "                [41.8818, -87.6232],\n",
       "                {}\n",
       "            ).addTo(map_dae4a85907d7b3db2fb3c11d449c75d7);\n",
       "        \n",
       "    \n",
       "            var icon_59464191ab9ad319c4a94ca15284d1c6 = L.AwesomeMarkers.icon(\n",
       "                {&quot;extraClasses&quot;: &quot;fa-rotate-0&quot;, &quot;icon&quot;: &quot;home&quot;, &quot;iconColor&quot;: &quot;white&quot;, &quot;markerColor&quot;: &quot;blue&quot;, &quot;prefix&quot;: &quot;fa&quot;}\n",
       "            );\n",
       "            marker_c751e5fec5f78cd35b436fd106a2f257.setIcon(icon_59464191ab9ad319c4a94ca15284d1c6);\n",
       "        \n",
       "    \n",
       "        var popup_b64d0dcb6817ebe63e5306069fc799df = L.popup({&quot;maxWidth&quot;: &quot;100%&quot;});\n",
       "\n",
       "        \n",
       "            \n",
       "                var html_604e0ee671f5bff8f06f4c81a37da749 = $(`&lt;div id=&quot;html_604e0ee671f5bff8f06f4c81a37da749&quot; style=&quot;width: 100.0%; height: 100.0%;&quot;&gt;     &lt;iframe src=&quot;fig6.html&quot; width=&quot;400&quot; height=&quot;400&quot;  frameborder=&quot;0&quot;&gt;         &lt;/div&gt;`)[0];\n",
       "                popup_b64d0dcb6817ebe63e5306069fc799df.setContent(html_604e0ee671f5bff8f06f4c81a37da749);\n",
       "            \n",
       "        \n",
       "\n",
       "        marker_c751e5fec5f78cd35b436fd106a2f257.bindPopup(popup_b64d0dcb6817ebe63e5306069fc799df)\n",
       "        ;\n",
       "\n",
       "        \n",
       "    \n",
       "    \n",
       "            var marker_20c092df7ea0ccd1649d74a50f8b6933 = L.marker(\n",
       "                [39.742, 104.9915],\n",
       "                {}\n",
       "            ).addTo(map_dae4a85907d7b3db2fb3c11d449c75d7);\n",
       "        \n",
       "    \n",
       "            var icon_9be2982e6cf67c99de1d64870825c1c5 = L.AwesomeMarkers.icon(\n",
       "                {&quot;extraClasses&quot;: &quot;fa-rotate-0&quot;, &quot;icon&quot;: &quot;home&quot;, &quot;iconColor&quot;: &quot;white&quot;, &quot;markerColor&quot;: &quot;blue&quot;, &quot;prefix&quot;: &quot;fa&quot;}\n",
       "            );\n",
       "            marker_20c092df7ea0ccd1649d74a50f8b6933.setIcon(icon_9be2982e6cf67c99de1d64870825c1c5);\n",
       "        \n",
       "    \n",
       "        var popup_577633f599d125fa2c0225f4fc02c7ed = L.popup({&quot;maxWidth&quot;: &quot;100%&quot;});\n",
       "\n",
       "        \n",
       "            \n",
       "                var html_1ac3774f506e0c84ca3c6d5ee0bf3449 = $(`&lt;div id=&quot;html_1ac3774f506e0c84ca3c6d5ee0bf3449&quot; style=&quot;width: 100.0%; height: 100.0%;&quot;&gt;     &lt;iframe src=&quot;fig8.html&quot; width=&quot;400&quot; height=&quot;400&quot;  frameborder=&quot;0&quot;&gt;         &lt;/div&gt;`)[0];\n",
       "                popup_577633f599d125fa2c0225f4fc02c7ed.setContent(html_1ac3774f506e0c84ca3c6d5ee0bf3449);\n",
       "            \n",
       "        \n",
       "\n",
       "        marker_20c092df7ea0ccd1649d74a50f8b6933.bindPopup(popup_577633f599d125fa2c0225f4fc02c7ed)\n",
       "        ;\n",
       "\n",
       "        \n",
       "    \n",
       "    \n",
       "            var marker_629bd3230c7a087d745fe00177423358 = L.marker(\n",
       "                [34.0522, -118.2437],\n",
       "                {}\n",
       "            ).addTo(map_dae4a85907d7b3db2fb3c11d449c75d7);\n",
       "        \n",
       "    \n",
       "            var icon_52e4027d82c03f3e8498b2a7e23cfecf = L.AwesomeMarkers.icon(\n",
       "                {&quot;extraClasses&quot;: &quot;fa-rotate-0&quot;, &quot;icon&quot;: &quot;home&quot;, &quot;iconColor&quot;: &quot;white&quot;, &quot;markerColor&quot;: &quot;blue&quot;, &quot;prefix&quot;: &quot;fa&quot;}\n",
       "            );\n",
       "            marker_629bd3230c7a087d745fe00177423358.setIcon(icon_52e4027d82c03f3e8498b2a7e23cfecf);\n",
       "        \n",
       "    \n",
       "        var popup_e421fee4f9f547749bab620514e0df8c = L.popup({&quot;maxWidth&quot;: &quot;100%&quot;});\n",
       "\n",
       "        \n",
       "            \n",
       "                var html_02677c5fa17bf59e150a9b9dd05f054b = $(`&lt;div id=&quot;html_02677c5fa17bf59e150a9b9dd05f054b&quot; style=&quot;width: 100.0%; height: 100.0%;&quot;&gt;     &lt;iframe src=&quot;fig7.html&quot; width=&quot;400&quot; height=&quot;400&quot;  frameborder=&quot;0&quot;&gt;         &lt;/div&gt;`)[0];\n",
       "                popup_e421fee4f9f547749bab620514e0df8c.setContent(html_02677c5fa17bf59e150a9b9dd05f054b);\n",
       "            \n",
       "        \n",
       "\n",
       "        marker_629bd3230c7a087d745fe00177423358.bindPopup(popup_e421fee4f9f547749bab620514e0df8c)\n",
       "        ;\n",
       "\n",
       "        \n",
       "    \n",
       "    \n",
       "            var marker_0dbf15fab6f3f03d75d61d02f846f754 = L.marker(\n",
       "                [47.608, -122.3352],\n",
       "                {}\n",
       "            ).addTo(map_dae4a85907d7b3db2fb3c11d449c75d7);\n",
       "        \n",
       "    \n",
       "            var icon_5dffb188b029532ce7e1f958a43a7551 = L.AwesomeMarkers.icon(\n",
       "                {&quot;extraClasses&quot;: &quot;fa-rotate-0&quot;, &quot;icon&quot;: &quot;home&quot;, &quot;iconColor&quot;: &quot;white&quot;, &quot;markerColor&quot;: &quot;blue&quot;, &quot;prefix&quot;: &quot;fa&quot;}\n",
       "            );\n",
       "            marker_0dbf15fab6f3f03d75d61d02f846f754.setIcon(icon_5dffb188b029532ce7e1f958a43a7551);\n",
       "        \n",
       "    \n",
       "        var popup_21d17c7bccb1ab9d19103ee5c2358fa1 = L.popup({&quot;maxWidth&quot;: &quot;100%&quot;});\n",
       "\n",
       "        \n",
       "            \n",
       "                var html_659456b71cb257a62f36aacb2a8b250a = $(`&lt;div id=&quot;html_659456b71cb257a62f36aacb2a8b250a&quot; style=&quot;width: 100.0%; height: 100.0%;&quot;&gt;     &lt;iframe src=&quot;fig1.html&quot; width=&quot;400&quot; height=&quot;400&quot;  frameborder=&quot;0&quot;&gt;         &lt;/div&gt;`)[0];\n",
       "                popup_21d17c7bccb1ab9d19103ee5c2358fa1.setContent(html_659456b71cb257a62f36aacb2a8b250a);\n",
       "            \n",
       "        \n",
       "\n",
       "        marker_0dbf15fab6f3f03d75d61d02f846f754.bindPopup(popup_21d17c7bccb1ab9d19103ee5c2358fa1)\n",
       "        ;\n",
       "\n",
       "        \n",
       "    \n",
       "    \n",
       "            var marker_ffe750d5f8bfc8af4afebf31350db93a = L.marker(\n",
       "                [35.7877, -78.6443],\n",
       "                {}\n",
       "            ).addTo(map_dae4a85907d7b3db2fb3c11d449c75d7);\n",
       "        \n",
       "    \n",
       "            var icon_e6fc2f09502ef8d414c1a5b20d86602f = L.AwesomeMarkers.icon(\n",
       "                {&quot;extraClasses&quot;: &quot;fa-rotate-0&quot;, &quot;icon&quot;: &quot;home&quot;, &quot;iconColor&quot;: &quot;white&quot;, &quot;markerColor&quot;: &quot;blue&quot;, &quot;prefix&quot;: &quot;fa&quot;}\n",
       "            );\n",
       "            marker_ffe750d5f8bfc8af4afebf31350db93a.setIcon(icon_e6fc2f09502ef8d414c1a5b20d86602f);\n",
       "        \n",
       "    \n",
       "        var popup_e5135eec4e5afedd19f0537b0fbb3330 = L.popup({&quot;maxWidth&quot;: &quot;100%&quot;});\n",
       "\n",
       "        \n",
       "            \n",
       "                var html_56249e5e12e09c23718b2058d4025ed4 = $(`&lt;div id=&quot;html_56249e5e12e09c23718b2058d4025ed4&quot; style=&quot;width: 100.0%; height: 100.0%;&quot;&gt;     &lt;iframe src=&quot;fig5.html&quot; width=&quot;400&quot; height=&quot;400&quot;  frameborder=&quot;0&quot;&gt;         &lt;/div&gt;`)[0];\n",
       "                popup_e5135eec4e5afedd19f0537b0fbb3330.setContent(html_56249e5e12e09c23718b2058d4025ed4);\n",
       "            \n",
       "        \n",
       "\n",
       "        marker_ffe750d5f8bfc8af4afebf31350db93a.bindPopup(popup_e5135eec4e5afedd19f0537b0fbb3330)\n",
       "        ;\n",
       "\n",
       "        \n",
       "    \n",
       "    \n",
       "            var marker_9b285b194fd2c7b00d12ea0b3bb6a834 = L.marker(\n",
       "                [42.3611, -71.0388],\n",
       "                {}\n",
       "            ).addTo(map_dae4a85907d7b3db2fb3c11d449c75d7);\n",
       "        \n",
       "    \n",
       "            var icon_c3cf3df5032092416fd37d4a73500ed9 = L.AwesomeMarkers.icon(\n",
       "                {&quot;extraClasses&quot;: &quot;fa-rotate-0&quot;, &quot;icon&quot;: &quot;home&quot;, &quot;iconColor&quot;: &quot;white&quot;, &quot;markerColor&quot;: &quot;blue&quot;, &quot;prefix&quot;: &quot;fa&quot;}\n",
       "            );\n",
       "            marker_9b285b194fd2c7b00d12ea0b3bb6a834.setIcon(icon_c3cf3df5032092416fd37d4a73500ed9);\n",
       "        \n",
       "    \n",
       "        var popup_2959a890b4a9a5941963e3e5f30280ae = L.popup({&quot;maxWidth&quot;: &quot;100%&quot;});\n",
       "\n",
       "        \n",
       "            \n",
       "                var html_0d202715ccdb556f1f82cef101d6a372 = $(`&lt;div id=&quot;html_0d202715ccdb556f1f82cef101d6a372&quot; style=&quot;width: 100.0%; height: 100.0%;&quot;&gt;     &lt;iframe src=&quot;fig0.html&quot; width=&quot;400&quot; height=&quot;400&quot;  frameborder=&quot;0&quot;&gt;         &lt;/div&gt;`)[0];\n",
       "                popup_2959a890b4a9a5941963e3e5f30280ae.setContent(html_0d202715ccdb556f1f82cef101d6a372);\n",
       "            \n",
       "        \n",
       "\n",
       "        marker_9b285b194fd2c7b00d12ea0b3bb6a834.bindPopup(popup_2959a890b4a9a5941963e3e5f30280ae)\n",
       "        ;\n",
       "\n",
       "        \n",
       "    \n",
       "    \n",
       "            var marker_7be929fbc4db7f71b59b0400a3a02697 = L.marker(\n",
       "                [30.2666, -97.7333],\n",
       "                {}\n",
       "            ).addTo(map_dae4a85907d7b3db2fb3c11d449c75d7);\n",
       "        \n",
       "    \n",
       "            var icon_60f1286fd5d89001d0ad8bbfb80f81f4 = L.AwesomeMarkers.icon(\n",
       "                {&quot;extraClasses&quot;: &quot;fa-rotate-0&quot;, &quot;icon&quot;: &quot;home&quot;, &quot;iconColor&quot;: &quot;white&quot;, &quot;markerColor&quot;: &quot;blue&quot;, &quot;prefix&quot;: &quot;fa&quot;}\n",
       "            );\n",
       "            marker_7be929fbc4db7f71b59b0400a3a02697.setIcon(icon_60f1286fd5d89001d0ad8bbfb80f81f4);\n",
       "        \n",
       "    \n",
       "        var popup_6d234c6eb690936da89875cbffc74146 = L.popup({&quot;maxWidth&quot;: &quot;100%&quot;});\n",
       "\n",
       "        \n",
       "            \n",
       "                var html_bd672136891c9b6a5e4b57e8ceaec892 = $(`&lt;div id=&quot;html_bd672136891c9b6a5e4b57e8ceaec892&quot; style=&quot;width: 100.0%; height: 100.0%;&quot;&gt;     &lt;iframe src=&quot;fig2.html&quot; width=&quot;400&quot; height=&quot;400&quot;  frameborder=&quot;0&quot;&gt;         &lt;/div&gt;`)[0];\n",
       "                popup_6d234c6eb690936da89875cbffc74146.setContent(html_bd672136891c9b6a5e4b57e8ceaec892);\n",
       "            \n",
       "        \n",
       "\n",
       "        marker_7be929fbc4db7f71b59b0400a3a02697.bindPopup(popup_6d234c6eb690936da89875cbffc74146)\n",
       "        ;\n",
       "\n",
       "        \n",
       "    \n",
       "    \n",
       "            var marker_65fcd6fbbd35e194b3932743ad53a9f8 = L.marker(\n",
       "                [40.7306, -73.9352],\n",
       "                {}\n",
       "            ).addTo(map_dae4a85907d7b3db2fb3c11d449c75d7);\n",
       "        \n",
       "    \n",
       "            var icon_2738a036569aa50e6b44eb795ba58ff3 = L.AwesomeMarkers.icon(\n",
       "                {&quot;extraClasses&quot;: &quot;fa-rotate-0&quot;, &quot;icon&quot;: &quot;home&quot;, &quot;iconColor&quot;: &quot;white&quot;, &quot;markerColor&quot;: &quot;blue&quot;, &quot;prefix&quot;: &quot;fa&quot;}\n",
       "            );\n",
       "            marker_65fcd6fbbd35e194b3932743ad53a9f8.setIcon(icon_2738a036569aa50e6b44eb795ba58ff3);\n",
       "        \n",
       "    \n",
       "        var popup_a915d51f8ce1bc61073dd75f13d03d73 = L.popup({&quot;maxWidth&quot;: &quot;100%&quot;});\n",
       "\n",
       "        \n",
       "            \n",
       "                var html_7d6a54cb2f1f4f41e879d8f584f6ec47 = $(`&lt;div id=&quot;html_7d6a54cb2f1f4f41e879d8f584f6ec47&quot; style=&quot;width: 100.0%; height: 100.0%;&quot;&gt;     &lt;iframe src=&quot;fig3.html&quot; width=&quot;400&quot; height=&quot;400&quot;  frameborder=&quot;0&quot;&gt;         &lt;/div&gt;`)[0];\n",
       "                popup_a915d51f8ce1bc61073dd75f13d03d73.setContent(html_7d6a54cb2f1f4f41e879d8f584f6ec47);\n",
       "            \n",
       "        \n",
       "\n",
       "        marker_65fcd6fbbd35e194b3932743ad53a9f8.bindPopup(popup_a915d51f8ce1bc61073dd75f13d03d73)\n",
       "        ;\n",
       "\n",
       "        \n",
       "    \n",
       "    \n",
       "            var marker_a57e7803a7469452a6b748307327b007 = L.marker(\n",
       "                [33.7487, -84.3882],\n",
       "                {}\n",
       "            ).addTo(map_dae4a85907d7b3db2fb3c11d449c75d7);\n",
       "        \n",
       "    \n",
       "            var icon_58a5570734389d85b40cfbee34cbde0b = L.AwesomeMarkers.icon(\n",
       "                {&quot;extraClasses&quot;: &quot;fa-rotate-0&quot;, &quot;icon&quot;: &quot;home&quot;, &quot;iconColor&quot;: &quot;white&quot;, &quot;markerColor&quot;: &quot;blue&quot;, &quot;prefix&quot;: &quot;fa&quot;}\n",
       "            );\n",
       "            marker_a57e7803a7469452a6b748307327b007.setIcon(icon_58a5570734389d85b40cfbee34cbde0b);\n",
       "        \n",
       "    \n",
       "        var popup_f0f3485b3c4d00b17ab811e449c950e1 = L.popup({&quot;maxWidth&quot;: &quot;100%&quot;});\n",
       "\n",
       "        \n",
       "            \n",
       "                var html_32360f203ec419b33c2df4b339320878 = $(`&lt;div id=&quot;html_32360f203ec419b33c2df4b339320878&quot; style=&quot;width: 100.0%; height: 100.0%;&quot;&gt;     &lt;iframe src=&quot;fig9.html&quot; width=&quot;400&quot; height=&quot;400&quot;  frameborder=&quot;0&quot;&gt;         &lt;/div&gt;`)[0];\n",
       "                popup_f0f3485b3c4d00b17ab811e449c950e1.setContent(html_32360f203ec419b33c2df4b339320878);\n",
       "            \n",
       "        \n",
       "\n",
       "        marker_a57e7803a7469452a6b748307327b007.bindPopup(popup_f0f3485b3c4d00b17ab811e449c950e1)\n",
       "        ;\n",
       "\n",
       "        \n",
       "    \n",
       "    \n",
       "            var marker_d6be50d4b9bd9b74a1accc823de81c47 = L.marker(\n",
       "                [37.7739, -122.4313],\n",
       "                {}\n",
       "            ).addTo(map_dae4a85907d7b3db2fb3c11d449c75d7);\n",
       "        \n",
       "    \n",
       "            var icon_94fc11baf2d12639644e0a57e30c90af = L.AwesomeMarkers.icon(\n",
       "                {&quot;extraClasses&quot;: &quot;fa-rotate-0&quot;, &quot;icon&quot;: &quot;home&quot;, &quot;iconColor&quot;: &quot;white&quot;, &quot;markerColor&quot;: &quot;blue&quot;, &quot;prefix&quot;: &quot;fa&quot;}\n",
       "            );\n",
       "            marker_d6be50d4b9bd9b74a1accc823de81c47.setIcon(icon_94fc11baf2d12639644e0a57e30c90af);\n",
       "        \n",
       "    \n",
       "        var popup_1a5f80d0a52532c8aa2cd7fff49f47f2 = L.popup({&quot;maxWidth&quot;: &quot;100%&quot;});\n",
       "\n",
       "        \n",
       "            \n",
       "                var html_70071e2e3a8acd0c04a630c738632b4d = $(`&lt;div id=&quot;html_70071e2e3a8acd0c04a630c738632b4d&quot; style=&quot;width: 100.0%; height: 100.0%;&quot;&gt;     &lt;iframe src=&quot;fig4.html&quot; width=&quot;400&quot; height=&quot;400&quot;  frameborder=&quot;0&quot;&gt;         &lt;/div&gt;`)[0];\n",
       "                popup_1a5f80d0a52532c8aa2cd7fff49f47f2.setContent(html_70071e2e3a8acd0c04a630c738632b4d);\n",
       "            \n",
       "        \n",
       "\n",
       "        marker_d6be50d4b9bd9b74a1accc823de81c47.bindPopup(popup_1a5f80d0a52532c8aa2cd7fff49f47f2)\n",
       "        ;\n",
       "\n",
       "        \n",
       "    \n",
       "&lt;/script&gt;\n",
       "&lt;/html&gt;\" style=\"position:absolute;width:100%;height:100%;left:0;top:0;border:none !important;\" allowfullscreen webkitallowfullscreen mozallowfullscreen></iframe></div></div>"
      ],
      "text/plain": [
       "<folium.folium.Map at 0x7f9e20230250>"
      ]
     },
     "execution_count": 20,
     "metadata": {},
     "output_type": "execute_result"
    }
   ],
   "source": [
    "location = df_final['Latitude'].mean(), df_final['Longitude'].mean()\n",
    "m = folium.Map(location=location,zoom_start=4)\n",
    "\n",
    "for i in range(0,len(df_final)):\n",
    "    html=\"\"\"\n",
    "    <iframe src=\\\"\"\"\" + df_final['html_file_y'][i] + \"\"\"\\\" width=\"800\" height=\"400\"  frameborder=\"0\">    \n",
    "    \"\"\"\n",
    "    \n",
    "    popup = folium.Popup(folium.Html(html, script=True))\n",
    "    folium.Marker([df_final['Latitude'].iloc[i],df_final['Longitude'].iloc[i]],\n",
    "                  popup=popup,icon=folium.Icon( icon='home', prefix='fa')).add_to(m)\n",
    "    \n",
    "m.save(\"index.html\")\n",
    "m"
   ]
  }
 ],
 "metadata": {
  "kernelspec": {
   "display_name": "Python 3.10.8 ('traillop')",
   "language": "python",
   "name": "python3"
  },
  "language_info": {
   "codemirror_mode": {
    "name": "ipython",
    "version": 3
   },
   "file_extension": ".py",
   "mimetype": "text/x-python",
   "name": "python",
   "nbconvert_exporter": "python",
   "pygments_lexer": "ipython3",
   "version": "3.10.8"
  },
  "orig_nbformat": 4,
  "vscode": {
   "interpreter": {
    "hash": "31733d31b68f2bf33a40ef3744aa6e6dabc719cffbfa95fe2fcbd4a0d9e78042"
   }
  }
 },
 "nbformat": 4,
 "nbformat_minor": 2
}
