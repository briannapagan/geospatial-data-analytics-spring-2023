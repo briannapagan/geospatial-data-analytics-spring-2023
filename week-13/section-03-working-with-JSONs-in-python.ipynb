{
 "cells": [
  {
   "cell_type": "markdown",
   "metadata": {},
   "source": [
    "# Work with JSON Data in Python\n",
    "## Python Dictionary to JSON\n",
    "Using the ```Python``` ```json``` library, you can convert a ```Python``` dictionary to a ```JSON``` string using the ```json.dumps()``` function.\n",
    "\n",
    "Begin by creating the ```Python``` dictionary that will be converted to ```JSON```."
   ]
  },
  {
   "cell_type": "code",
   "execution_count": null,
   "metadata": {},
   "outputs": [],
   "source": [
    "import json\n",
    "import pandas as pd"
   ]
  },
  {
   "cell_type": "code",
   "execution_count": null,
   "metadata": {},
   "outputs": [],
   "source": [
    "# Create and populate the dictionary\n",
    "dict = {}\n",
    "dict[\"name\"] = \"Chaya\"\n",
    "dict[\"age\"] = 12\n",
    "dict[\"city\"] = \"Boulder\"\n",
    "dict[\"type\"] = \"Canine\"\n",
    "\n",
    "dict"
   ]
  },
  {
   "cell_type": "markdown",
   "metadata": {},
   "source": [
    "Notice below that the ```Python``` dictionary and the ```JSON``` string look very similiar, but that the ```JSON``` string is enclosed with quotes ```''```."
   ]
  },
  {
   "cell_type": "code",
   "execution_count": null,
   "metadata": {},
   "outputs": [],
   "source": [
    "json_example = json.dumps(dict, ensure_ascii=False)\n",
    "\n",
    "json_example"
   ]
  },
  {
   "cell_type": "markdown",
   "metadata": {},
   "source": [
    "Recall that you use ```type()``` to check the object type, and notice that the ```JSON``` is of type ```str```.\n",
    "\n"
   ]
  },
  {
   "cell_type": "markdown",
   "metadata": {},
   "source": [
    "## JSON to Python Dictionary\n",
    "You can also manually define ```JSON``` by enclosing the ```JSON``` with quotes ```''```."
   ]
  },
  {
   "cell_type": "code",
   "execution_count": null,
   "metadata": {},
   "outputs": [],
   "source": [
    "json_sample =  '{ \"name\":\"Chaya\", \"age\":12, \"city\":\"Boulder\", \"type\":\"Canine\" }'\n",
    "\n",
    "type(json_sample)"
   ]
  },
  {
   "cell_type": "markdown",
   "metadata": {},
   "source": [
    "Using the ```json.loads()``` function, a ```JSON``` string can be converted to a dictionary.\n",
    "\n"
   ]
  },
  {
   "cell_type": "code",
   "execution_count": null,
   "metadata": {},
   "outputs": [],
   "source": [
    "# Load JSON into dictionary\n",
    "data_sample = json.loads(json_sample)\n",
    "data_sample"
   ]
  },
  {
   "cell_type": "markdown",
   "metadata": {},
   "source": [
    "You can check the type again to see that it has been converted to a Python dictionary.\n",
    "\n"
   ]
  },
  {
   "cell_type": "code",
   "execution_count": null,
   "metadata": {},
   "outputs": [],
   "source": [
    "type(data_sample)\n"
   ]
  },
  {
   "cell_type": "markdown",
   "metadata": {},
   "source": [
    "Recall that you can call any key of a Python dictionary and see the associated values.\n",
    "\n"
   ]
  },
  {
   "cell_type": "code",
   "execution_count": null,
   "metadata": {},
   "outputs": [],
   "source": [
    "data_sample[\"name\"]\n"
   ]
  },
  {
   "cell_type": "code",
   "execution_count": null,
   "metadata": {},
   "outputs": [],
   "source": [
    "data_sample[\"city\"]\n"
   ]
  },
  {
   "cell_type": "markdown",
   "metadata": {},
   "source": [
    "## Python Dictionary to Pandas Dataframe\n",
    "If desired, you can use the ```from_dict()``` function from Pandas to read the dictionary into a ```Pandas``` ```Dataframe```."
   ]
  },
  {
   "cell_type": "code",
   "execution_count": null,
   "metadata": {},
   "outputs": [],
   "source": [
    "df = pd.DataFrame.from_dict(data_sample, orient='index')\n",
    "df"
   ]
  },
  {
   "cell_type": "markdown",
   "metadata": {},
   "source": [
    "## Pandas Dataframe to JSON\n",
    "Conversely, you can also convert a ```Pandas``` ```Dataframe``` to ```JSON``` using the Pandas method ```to_json()```."
   ]
  },
  {
   "cell_type": "code",
   "execution_count": null,
   "metadata": {},
   "outputs": [],
   "source": [
    "sample_json = df.to_json(orient='split')\n",
    "\n",
    "type(sample_json)"
   ]
  },
  {
   "cell_type": "markdown",
   "metadata": {},
   "source": [
    "You now know the basics of creating and converting ```JSON``` objects using ```Python```. In the next lessons, you will work with hierarchical ```JSON``` data accessed via RESTful APIs.\n",
    "\n"
   ]
  }
 ],
 "metadata": {
  "kernelspec": {
   "display_name": "Python 3.9.13 ('validations')",
   "language": "python",
   "name": "python3"
  },
  "language_info": {
   "codemirror_mode": {
    "name": "ipython",
    "version": 3
   },
   "file_extension": ".py",
   "mimetype": "text/x-python",
   "name": "python",
   "nbconvert_exporter": "python",
   "pygments_lexer": "ipython3",
   "version": "3.9.13"
  },
  "orig_nbformat": 4,
  "vscode": {
   "interpreter": {
    "hash": "e460e709f58070950c65c0c33823686acb388113d15269e91ed6fb063a69ef02"
   }
  }
 },
 "nbformat": 4,
 "nbformat_minor": 2
}
