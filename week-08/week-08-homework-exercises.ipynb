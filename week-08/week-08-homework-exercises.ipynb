{
 "cells": [
  {
   "cell_type": "markdown",
   "metadata": {},
   "source": [
    "# Week 08 Homework\n",
    "### 8.1\n",
    "\n",
    "Last week you practiced single band raster calculations using Sentinel-2 satellite remote sensing data. This week you will practice working with the multiple bands associated with Sentinel-2 data in order to create RGB composites and other band manipulations. \n",
    "\n",
    "The Sentinel-2 bands are as follows:\n",
    "\n",
    "![_._](img/sentinel-2-bands.jpg)\n",
    "\n",
    "You will compare RGB and NDVI images from May 2018 (```data/pre-woolsey-fire/```) and February 2019 (```data/post-woolsey-fire```) over the Santa Monica Mountains which correspond to pre and post-Woolsey fire. The Woolsey fire occured in November 2018. \n",
    "\n",
    "1. Create an **automated workflow** which loads, stacks and cleans the bands of a single Sentinel-2 date. \n",
    "2. Run this workflow for both dates: pre and post Woolsey fire.\n",
    "3. Map the RGB composites for both dates.\n",
    "4. Calculate the NDVI and map both dates.\n",
    "5. Write a few sentences of what differences you see between the RGB/NDVI maps. \n",
    "\n",
    "\n"
   ]
  }
 ],
 "metadata": {
  "kernelspec": {
   "display_name": "Python 3.9.13 ('validations')",
   "language": "python",
   "name": "python3"
  },
  "language_info": {
   "name": "python",
   "version": "3.9.13"
  },
  "orig_nbformat": 4,
  "vscode": {
   "interpreter": {
    "hash": "e460e709f58070950c65c0c33823686acb388113d15269e91ed6fb063a69ef02"
   }
  }
 },
 "nbformat": 4,
 "nbformat_minor": 2
}
