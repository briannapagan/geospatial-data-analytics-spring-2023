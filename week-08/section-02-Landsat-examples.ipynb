{
 "cells": [
  {
   "cell_type": "markdown",
   "metadata": {},
   "source": [
    "# About Landsat Data\n",
    "\n",
    "> At over 40 years, the Landsat series of satellites provides the longest temporal record of moderate resolution multispectral data of the Earth’s surface on a global basis. The Landsat record has remained remarkably unbroken, proving a unique resource to assist a broad range of specialists in managing the world’s food, water, forests, and other natural resources for a growing world population. It is a record unmatched in quality, detail, coverage, and value. Source: USGS \n",
    "\n",
    "\n",
    "![_._](img/timeline-only-for-webRGB.png)\n",
    "\n",
    "The 40 year history of landsat missions. Source: USGS - USGS Landsat Timeline\n",
    "Landsat data are spectral and collected using a platform mounted on a satellite in space that orbits the earth. The spectral bands and associated spatial resolution of the first 9 bands in the Landsat 8 sensor are listed below.\n",
    "\n",
    "\n",
    "![_._](img/landsat-bands.png)\n",
    "\n",
    "Review the Landsat 8 Surface Reflectance Product Guide for more details.\n",
    "\n",
    "There are additional collected bands that are not distributed within the Landsat 8 Surface Reflectance Product such as the panchromatic band, which provides a finer resolution, gray scale image of the landscape, and the cirrus cloud band, which is used in the quality assessment process:\n",
    "\n",
    "![_._](img/additional-bands.png)\n",
    "\n",
    "## Understand Landsat Data\n",
    "When working with landsat, it is important to understand both the metadata and the file naming convention. The metadata tell you how the data were processed, where the data are from and how they are structured.\n",
    "\n",
    "The file names, tell you what sensor collected the data, the date the data were collected, and more.\n",
    "\n",
    "![_._](img/collection-filename-diffs.png)\n",
    "Landsat file names Source: USGS Landsat - Landsat Scene Naming Conventions\n",
    "\n",
    "\n",
    "## Landsat File Naming Convention\n",
    "Landsat and many other satellite remote sensing data is named in a way that tells you a about:\n",
    "\n",
    "- When the data were collected and processed\n",
    "- What sensor was used to collect the data\n",
    "- What satellite was used to collect the data.\n",
    "\n",
    "And more.\n",
    "\n",
    "Here you will learn a few key components of the landsat 8 collection file name. The first scene that you work with below is named:\n",
    "\n",
    "```LC080340322016072301T1-SC20180214145802```\n",
    "\n",
    "First, we have LC08\n",
    "\n",
    "- **L:** Landsat Sensor\n",
    "- **C:** OLI / TIRS combined platform\n",
    "- **08:** Landsat 8 (not 7)\n",
    "\n",
    "- **034032:** The next 6 digits represent the path and row of the scene. This identifies the spatial coverage of the scene\n",
    "\n",
    "Finally, you have a date. In your case as follows:\n",
    "\n",
    "- **20160723:** representing the year, month and day that the data were collected.\n",
    "\n",
    "The second part of the file name above tells you more about when the data were last processed. You can read more about this naming convention using the link below.\n",
    "\n",
    "Learn more about Landsat 8 file naming conventions.\n",
    "\n",
    "As you work with these data, it is good to double check that you are working with the sensor (Landsat 8) and the time period that you intend. Having this information in the file name makes it easier to keep track of this as you process your data.\n"
   ]
  },
  {
   "cell_type": "code",
   "execution_count": null,
   "metadata": {},
   "outputs": [],
   "source": [
    "import os\n",
    "from glob import glob\n",
    "\n",
    "import matplotlib.pyplot as plt\n",
    "import numpy as np\n",
    "import geopandas as gpd\n",
    "import xarray as xr\n",
    "import rioxarray as rxr"
   ]
  },
  {
   "cell_type": "code",
   "execution_count": null,
   "metadata": {},
   "outputs": [],
   "source": [
    "# Get list of all pre-cropped data and sort the data\n",
    "\n",
    "# Create the path to your data\n",
    "landsat_post_fire_path = os.path.join(\"data\",\"cold-springs-fire\",\n",
    "                                      \"landsat_collect\",\n",
    "                                      \"LC080340322016072301T1-SC20180214145802\",\n",
    "                                      \"crop\")\n",
    "\n",
    "# Generate a list of tif files\n",
    "post_fire_paths = glob(os.path.join(landsat_post_fire_path,\n",
    "                                        \"*band*.tif\"))\n",
    "\n",
    "# Sort the data to ensure bands are in the correct order\n",
    "post_fire_paths.sort()\n",
    "post_fire_paths"
   ]
  },
  {
   "cell_type": "markdown",
   "metadata": {},
   "source": [
    "Next, open a single band from your Landsat scene. Below you use the .squeeze() method to ensure that output xarray object only has 2 dimensions and not three.\n",
    "\n"
   ]
  },
  {
   "cell_type": "code",
   "execution_count": null,
   "metadata": {},
   "outputs": [],
   "source": [
    "# Open a single band without squeeze - notice the first dimension is 1\n",
    "band_1 = rxr.open_rasterio(post_fire_paths[0], masked=True)\n",
    "band_1.shape"
   ]
  },
  {
   "cell_type": "code",
   "execution_count": null,
   "metadata": {},
   "outputs": [],
   "source": [
    "# Open a single band using squeeze notice there are only 2 dimensions here\n",
    "# when you use squeeze\n",
    "band_1 = rxr.open_rasterio(post_fire_paths[0], masked=True).squeeze()\n",
    "band_1.shape"
   ]
  },
  {
   "cell_type": "code",
   "execution_count": null,
   "metadata": {},
   "outputs": [],
   "source": [
    "# Plot the data\n",
    "f, ax=plt.subplots()\n",
    "band_1.plot.imshow(ax=ax,\n",
    "                  cmap=\"Greys_r\")\n",
    "ax.set_axis_off()\n",
    "ax.set_title(\"Plot of Band 1\")\n",
    "plt.show()"
   ]
  },
  {
   "cell_type": "markdown",
   "metadata": {},
   "source": [
    "Below is a function called ```open_clean_bands``` that opens a single tif file and returns an xarray object. In the following lessons you will build this function out to process and clean your Landsat data.\n",
    "\n"
   ]
  },
  {
   "cell_type": "code",
   "execution_count": null,
   "metadata": {},
   "outputs": [],
   "source": [
    "def open_clean_bands(band_path):\n",
    "    \"\"\"A function that opens a Landsat band as an (rio)xarray object\n",
    "\n",
    "    Parameters\n",
    "    ----------\n",
    "    band_path : list\n",
    "        A list of paths to the tif files that you wish to combine.\n",
    "        \n",
    "    Returns\n",
    "    -------\n",
    "    An single xarray object with the Landsat band data.\n",
    "\n",
    "    \"\"\"\n",
    "     \n",
    "    return rxr.open_rasterio(band_path, masked=True).squeeze()"
   ]
  },
  {
   "cell_type": "markdown",
   "metadata": {},
   "source": [
    "The code below takes each band that you opened, and stacks it into a new single output array. NOTE: this approach is only efficient if you wish to process ALL of the bands in your data. Given the size of Landsat data, you likely will want to remove bands that you don’t need and if your study area is smaller than the entire image, you may also want to clip your data. You will learn how to clip and subset your data in the next lesson."
   ]
  },
  {
   "cell_type": "code",
   "execution_count": null,
   "metadata": {},
   "outputs": [],
   "source": [
    "# Open all bands in a loop\n",
    "all_bands = []\n",
    "for i, aband in enumerate(post_fire_paths):\n",
    "    all_bands.append(open_clean_bands(aband))\n",
    "    # Assign a band number to the new xarray object\n",
    "    all_bands[i][\"band\"]=i+1"
   ]
  },
  {
   "cell_type": "code",
   "execution_count": null,
   "metadata": {},
   "outputs": [],
   "source": [
    "# OPTIONAL: Turn list of bands into a single xarray object    \n",
    "landsat_post_fire_xr = xr.concat(all_bands, dim=\"band\") \n",
    "landsat_post_fire_xr"
   ]
  },
  {
   "cell_type": "code",
   "execution_count": null,
   "metadata": {},
   "outputs": [],
   "source": [
    "landsat_post_fire_xr.plot.imshow(col=\"band\",\n",
    "                                 col_wrap=3,\n",
    "                                 cmap=\"Greys_r\")\n",
    "plt.show()"
   ]
  },
  {
   "cell_type": "markdown",
   "metadata": {},
   "source": [
    "## Plot RGB image\n",
    "Just like you did with NAIP data, you can plot 3 band color composite images for Landsat "
   ]
  },
  {
   "cell_type": "code",
   "execution_count": null,
   "metadata": {},
   "outputs": [],
   "source": [
    "landsat_rgb = (landsat_post_fire_xr[[3,2,1],:,:])\n",
    "landsat_rgb.astype(\"int\").plot.imshow(rgb=\"band\",figsize=(10, 8))\n",
    "plt.title('\"RGB Composite Image\\n Post Fire Landsat Data\"')\n",
    "plt.show()\n",
    "\n"
   ]
  },
  {
   "cell_type": "markdown",
   "metadata": {},
   "source": [
    "Notice that the image above looks light. You can stretch the image as you did with the NAIP data, too."
   ]
  },
  {
   "cell_type": "code",
   "execution_count": null,
   "metadata": {},
   "outputs": [],
   "source": [
    "landsat_rgb = (landsat_post_fire_xr[[3,2,1],:,:])\n",
    "landsat_rgb.plot.imshow(rgb=\"band\",robust = True, figsize=(10, 8))\n",
    "plt.title('\"RGB Composite Image\\n Post Fire Landsat Data\"')\n",
    "plt.show()"
   ]
  },
  {
   "cell_type": "markdown",
   "metadata": {},
   "source": [
    "### Plot CIR\n",
    "Now you’ve created a red, green blue color composite image. Remember red green and blue are colors that your eye can see.\n",
    "\n",
    "Next, create a color infrared image (CIR) using landsat bands: 4,3,2."
   ]
  },
  {
   "cell_type": "code",
   "execution_count": null,
   "metadata": {},
   "outputs": [],
   "source": [
    "landsat_cir = (landsat_post_fire_xr[[4,3,2],:,:])\n",
    "landsat_cir.plot.imshow(rgb=\"band\",robust=True,figsize=(10, 8))\n",
    "plt.title('\"CIR Landsat Image Pre-Cold Springs Fire\"')\n",
    "plt.show()"
   ]
  },
  {
   "cell_type": "markdown",
   "metadata": {},
   "source": [
    "## Crop a Landsat Band Using Rioxarray ```rio.clip()```\n",
    "Above you opened up and plotted a single band. Often, you want to crop your data to the spatial extent of your study area. Crop, removes data that you don’t need in your analysis (that that is outside of your area of interest). You could chose to open and crop each file individually using the ```rxr.open_rasterio()``` function alongside the rioxarray ```opened_xarray.rio.clip(```) function as shown below.\n",
    "\n",
    "In order to crop a band, you need to have a\n",
    "\n",
    "1. GeoPandas or shapely object that represents the extent of the area you want to study in the Landsat image (your crop extent).\n",
    "2. The crop extent shapefile and the Landsat data need to be in the same Coordinate Reference System, or CRS.\n",
    "To clip an xarray DataFrame to a GeoPandas extent, you need to create the clipped dataframe with the following syntax.\n",
    "\n",
    "```clipped_xarray = xarray_name.rio.clip(geopandas_object_name.geometry)```\n"
   ]
  },
  {
   "cell_type": "code",
   "execution_count": null,
   "metadata": {},
   "outputs": [],
   "source": [
    "# Open up boundary extent using GeoPandas\n",
    "fire_boundary_path = os.path.join(\"data\",\"cold-springs-fire\",\n",
    "                                  \"vector_layers\",\n",
    "                                  \"fire-boundary-geomac\",\n",
    "                                  \"co_cold_springs_20160711_2200_dd83.shp\")\n",
    "\n",
    "fire_boundary = gpd.read_file(fire_boundary_path)"
   ]
  },
  {
   "cell_type": "code",
   "execution_count": null,
   "metadata": {},
   "outputs": [],
   "source": [
    "print(\"Landsat crs is:\", landsat_post_fire_xr.rio.crs)\n",
    "print(\"Fire boundary crs\", fire_boundary.crs)"
   ]
  },
  {
   "cell_type": "code",
   "execution_count": null,
   "metadata": {},
   "outputs": [],
   "source": [
    "# Reproject data to CRS of raster data\n",
    "fire_boundary_utmz13 = fire_boundary.to_crs(landsat_post_fire_xr.rio.crs)\n",
    "fire_boundary_utmz13.plot()\n",
    "plt.show()"
   ]
  },
  {
   "cell_type": "markdown",
   "metadata": {},
   "source": [
    "Once the crs has been checked you can clip the data. The ideal scenario here is that you clip the data while opening it. Below you use ```from_disk = True``` which tells rioxarray to only open the data within the clip extent. This will speed up your workflow a bit."
   ]
  },
  {
   "cell_type": "code",
   "execution_count": null,
   "metadata": {},
   "outputs": [],
   "source": [
    "landsat_post_xr_clip = rxr.open_rasterio(post_fire_paths[0]).rio.clip(\n",
    "    fire_boundary_utmz13.geometry,\n",
    "    from_disk=True).squeeze()\n",
    "\n",
    "# Notice the x and y data dimensions of your data have changed\n",
    "landsat_post_xr_clip"
   ]
  },
  {
   "cell_type": "markdown",
   "metadata": {},
   "source": [
    "Now that your data are open, you can plot it.\n",
    "\n"
   ]
  },
  {
   "cell_type": "code",
   "execution_count": null,
   "metadata": {},
   "outputs": [],
   "source": [
    "# Plot the data\n",
    "f, ax = plt.subplots(figsize=(10, 6))\n",
    "landsat_post_xr_clip.plot.imshow(cmap=\"Greys_r\",\n",
    "                                 ax=ax)\n",
    "ax.set_axis_off()\n",
    "ax.set_title(\"Band 1 - Clipped To Your Study Area\")\n",
    "plt.show()"
   ]
  },
  {
   "cell_type": "markdown",
   "metadata": {},
   "source": [
    "Plot of the clipped Landsat 8 data with the missing data values rendered as black. These values can be masked for nicer plotting.\n",
    "\n",
    "The above plot has a large amount of “black” fill around the outside representing fill values. When you clipped the data to the geometry, rioxarray filled all of the pixels outside of the geometry extent with a large negative number -32768.\n",
    "\n",
    "For plotting you may wish to clean this up by masking out values."
   ]
  },
  {
   "cell_type": "code",
   "execution_count": null,
   "metadata": {},
   "outputs": [],
   "source": [
    "# Clean the data\n",
    "valid_range = (0, 10000)\n",
    "# Only run this step if a valid range tuple is provided\n",
    "if valid_range:\n",
    "    mask = ((landsat_post_xr_clip < valid_range[0]) | (\n",
    "        landsat_post_xr_clip > valid_range[1]))\n",
    "    landsat_post_xr_clip = landsat_post_xr_clip.where(\n",
    "        ~xr.where(mask, True, False))"
   ]
  },
  {
   "cell_type": "code",
   "execution_count": null,
   "metadata": {},
   "outputs": [],
   "source": [
    "f, ax = plt.subplots()\n",
    "landsat_post_xr_clip.plot(ax=ax)\n",
    "ax.set_title(\"Band 1 plot\")\n",
    "ax.set_axis_off()\n",
    "plt.show()"
   ]
  },
  {
   "cell_type": "markdown",
   "metadata": {},
   "source": [
    "## A Function to Crop and Clean Landsat Data\n",
    "It would be nice to combine all of the steps above into a single workflow that clips and cleans your landsat data. You can take the function that you started in the previous lesson and expand it to\n",
    "do all of this for you."
   ]
  },
  {
   "cell_type": "code",
   "execution_count": null,
   "metadata": {},
   "outputs": [],
   "source": [
    "def open_clean_band(band_path, clip_extent, valid_range=None):\n",
    "    \"\"\"A function that opens a Landsat band as an (rio)xarray object\n",
    "\n",
    "    Parameters\n",
    "    ----------\n",
    "    band_path : list\n",
    "        A list of paths to the tif files that you wish to combine.\n",
    "\n",
    "    clip_extent : geopandas geodataframe\n",
    "        A geodataframe containing the clip extent of interest. NOTE: this will \n",
    "        fail if the clip extent is in a different CRS than the raster data.\n",
    "\n",
    "    valid_range : tuple (optional)\n",
    "        The min and max valid range for the data. All pixels with values outside\n",
    "        of this range will be masked.\n",
    "\n",
    "    Returns\n",
    "    -------\n",
    "    An single xarray object with the Landsat band data.\n",
    "\n",
    "    \"\"\"\n",
    "\n",
    "    try:\n",
    "        clip_bound = clip_extent.geometry\n",
    "    except Exception as err:\n",
    "        print(\"Oops, I need a geodataframe object for this to work.\")\n",
    "        print(err)\n",
    "\n",
    "    cleaned_band = rxr.open_rasterio(band_path,\n",
    "                                     masked=True).rio.clip(clip_bound,\n",
    "                                                           from_disk=True).squeeze()\n",
    "\n",
    "    # Only mask the data if a valid range tuple is provided\n",
    "    if valid_range:\n",
    "        mask = ((landsat_post_xr_clip < valid_range[0]) | (\n",
    "            landsat_post_xr_clip > valid_range[1]))\n",
    "        cleaned_band = landsat_post_xr_clip.where(\n",
    "            ~xr.where(mask, True, False))\n",
    "\n",
    "    return cleaned_band"
   ]
  },
  {
   "cell_type": "code",
   "execution_count": null,
   "metadata": {},
   "outputs": [],
   "source": [
    "cleaned_band = open_clean_band(post_fire_paths[0], fire_boundary_utmz13)\n",
    "\n",
    "f, ax = plt.subplots()\n",
    "cleaned_band.plot(ax=ax)\n",
    "ax.set_title(\"Band 1 plot\")\n",
    "ax.set_axis_off()\n",
    "plt.show()"
   ]
  },
  {
   "cell_type": "markdown",
   "metadata": {},
   "source": [
    "## Create Your Final, Automated Workflow\n",
    "Great - you now have a workflow that opens, clips and cleans a single band. However, remember that your original goal is to open, clip and clean several\n",
    "Landsat bands with the goal of calculating NDVI and producing some RGB and ColorInfrared (CIR) plots.\n",
    "\n",
    "Below you build out the entire workflow using a loop. The vector data step is\n",
    "reproduced here"
   ]
  },
  {
   "cell_type": "code",
   "execution_count": null,
   "metadata": {},
   "outputs": [],
   "source": [
    "# Open up boundary extent using GeoPandas\n",
    "fire_boundary_path = os.path.join(\"data\",\"cold-springs-fire\",\n",
    "                                  \"vector_layers\",\n",
    "                                  \"fire-boundary-geomac\",\n",
    "                                  \"co_cold_springs_20160711_2200_dd83.shp\")\n",
    "\n",
    "fire_boundary = gpd.read_file(fire_boundary_path)"
   ]
  },
  {
   "cell_type": "code",
   "execution_count": null,
   "metadata": {},
   "outputs": [],
   "source": [
    "# Get a list of required bands - bands 2 through 5\n",
    "all_landsat_post_bands = glob(os.path.join(landsat_post_fire_path,\n",
    "                                           \"*band[2-5]*.tif\"))\n",
    "all_landsat_post_bands.sort()\n",
    "all_landsat_post_bands"
   ]
  },
  {
   "cell_type": "code",
   "execution_count": null,
   "metadata": {},
   "outputs": [],
   "source": [
    "# Reproject your vector layer\n",
    "landsat_crs = rxr.open_rasterio(all_landsat_post_bands[0], masked=True).squeeze().rio.crs\n",
    "\n",
    "# Reproject fire boundary for clipping\n",
    "fire_boundary_utmz13 = fire_boundary.to_crs(landsat_crs)"
   ]
  },
  {
   "cell_type": "markdown",
   "metadata": {},
   "source": [
    "Loop through each band path, open the data and add it to a list.\n",
    "\n"
   ]
  },
  {
   "cell_type": "code",
   "execution_count": null,
   "metadata": {},
   "outputs": [],
   "source": [
    "post_all_bands = []\n",
    "for i, aband in enumerate(all_landsat_post_bands):\n",
    "    cleaned = open_clean_band(aband, fire_boundary_utmz13)\n",
    "    # This line below is only needed if you wish to stack and plot your data\n",
    "    cleaned[\"band\"] = i+1\n",
    "    post_all_bands.append(cleaned)"
   ]
  },
  {
   "cell_type": "markdown",
   "metadata": {},
   "source": [
    "### Stack Your Final Cleaned Data\n",
    "If you wish, you can stack all of the bands in your workflow by using the xr.concat function. Stacking the data will store all bands in one single xarray object. This step is optional and may be needed for some workflows but not for others."
   ]
  },
  {
   "cell_type": "code",
   "execution_count": null,
   "metadata": {},
   "outputs": [],
   "source": [
    "# OPTIONAL - Stack the data\n",
    "post_fire_stack = xr.concat(post_all_bands, dim=\"band\")\n",
    "post_fire_stack"
   ]
  },
  {
   "cell_type": "code",
   "execution_count": null,
   "metadata": {},
   "outputs": [],
   "source": [
    "# Plot the final stacked data\n",
    "post_fire_stack.plot.imshow(col=\"band\",\n",
    "                            col_wrap=2,\n",
    "                            cmap=\"Greys_r\")\n",
    "plt.show()"
   ]
  },
  {
   "cell_type": "markdown",
   "metadata": {},
   "source": [
    "### Create an RGB Plot of Your Landsat Raster Data\n"
   ]
  },
  {
   "cell_type": "code",
   "execution_count": null,
   "metadata": {},
   "outputs": [],
   "source": [
    "post_fire_rgb = (post_fire_stack[[2,1,0],:,:])\n",
    "post_fire_rgb.plot.imshow(rgb=\"band\",robust=True, figsize=(10, 8))\n",
    "plt.title('\"Cropped Post Fire Landsat Data\"')\n",
    "plt.show()"
   ]
  }
 ],
 "metadata": {
  "kernelspec": {
   "display_name": "Python 3.10.8 ('traillop')",
   "language": "python",
   "name": "python3"
  },
  "language_info": {
   "codemirror_mode": {
    "name": "ipython",
    "version": 3
   },
   "file_extension": ".py",
   "mimetype": "text/x-python",
   "name": "python",
   "nbconvert_exporter": "python",
   "pygments_lexer": "ipython3",
   "version": "3.10.8"
  },
  "orig_nbformat": 4,
  "vscode": {
   "interpreter": {
    "hash": "31733d31b68f2bf33a40ef3744aa6e6dabc719cffbfa95fe2fcbd4a0d9e78042"
   }
  }
 },
 "nbformat": 4,
 "nbformat_minor": 2
}
