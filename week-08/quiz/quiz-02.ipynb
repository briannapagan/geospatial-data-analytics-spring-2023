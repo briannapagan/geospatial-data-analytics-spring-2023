{
 "cells": [
  {
   "cell_type": "markdown",
   "metadata": {},
   "source": [
    "# Quiz 02\n",
    "\n",
    "## Evaluating Groundwater and Spreading Grounds in Los Angeles County\n",
    "\n",
    "You are provided local groundwater basins clipped to the Los Angeles county area (```data/Ground_Water_Basins_Feature_Layer.geojson```) in addition to local water conservation facilities for spreading and retaining stormwater for eventual percoloation to the groundwater basins (```data/Spreading_Grounds_Feature_Layer.geojson```).\n",
    "\n",
    "You will complete an analysis to understand some basic statistics around the area and percoluation rates of the spreading grounds grouped by the groundwater basin they are located in.\n",
    "\n",
    "1. Load both datasets. Examine and adjust the datasets if needed prior to further analysis. \n",
    "2. Take the ```Spreading_Grounds_Feature_Layer``` and generate two new dataframes: \n",
    "- One dataframe dissolving by the groundwater basin number (```NO__OF_BAS```) finding the total storage (```STORAGE```,in units acre-feet) area of spreading grounds per basin.\n",
    "- One dataframe dissolving by the groundwater basin number (```NO__OF_BAS```) finding the mean percolation rate(```PERCOLATIO```, in units cubic feet per second (CFS)) of spreading grounds per basin.\n",
    "3. Create two maps that display both dissolved dataframes. Also overlay the groundwater basins on each map (for example adding: ```groundwater_dataframe.plot(alpha=1,facecolor=\"none\",edgecolor=\"black\",zorder=10,ax=ax)```). Write a meaningful caption describing any spatial patterns.\n",
    "4.  The ```Ground_Water_Basins_Feature_Layer```  has the groundwater basin name as a column called ```BASIN```. Create a single dataframe which contains the following columns from your analysis in step (2): basin name, basin number, total storage volume in AF, mean percolation rate in CFS. Note there are at least two ways to complete this last step. One way is using a spatial join, then selecting the columns of interest. The other way, requires just using dataframe merging logic to merge the dataframes knowing that the groundwater basin number is already present in both geodataframes, and selecting the columns of interest. I suggest using the first."
   ]
  },
  {
   "cell_type": "code",
   "execution_count": 2,
   "metadata": {},
   "outputs": [],
   "source": [
    "import os\n",
    "import matplotlib.pyplot as plt\n",
    "import matplotlib.lines as mlines\n",
    "from matplotlib.colors import ListedColormap\n",
    "import numpy as np\n",
    "import pandas as pd\n",
    "from shapely.geometry import box,Point, LineString, Polygon\n",
    "import geopandas as gpd\n"
   ]
  }
 ],
 "metadata": {
  "kernelspec": {
   "display_name": "Python 3.10.8 ('traillop')",
   "language": "python",
   "name": "python3"
  },
  "language_info": {
   "codemirror_mode": {
    "name": "ipython",
    "version": 3
   },
   "file_extension": ".py",
   "mimetype": "text/x-python",
   "name": "python",
   "nbconvert_exporter": "python",
   "pygments_lexer": "ipython3",
   "version": "3.10.8"
  },
  "orig_nbformat": 4,
  "vscode": {
   "interpreter": {
    "hash": "31733d31b68f2bf33a40ef3744aa6e6dabc719cffbfa95fe2fcbd4a0d9e78042"
   }
  }
 },
 "nbformat": 4,
 "nbformat_minor": 2
}
