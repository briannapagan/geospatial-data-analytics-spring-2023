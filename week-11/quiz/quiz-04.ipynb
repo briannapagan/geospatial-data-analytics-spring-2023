{
 "cells": [
  {
   "cell_type": "markdown",
   "metadata": {},
   "source": [
    "# Quiz 04\n",
    "## Using Zonal Statistics to Evaluate Air Quality during the Woolsey Fire\n",
    "\n",
    "In previous assignments you have worked with Sentinel-2 data. Today you will work with a different satellite in the Sentinel cluster: Sentinel 5P. One calculated parameter from Sentinel-5p is something call the Aerosol Index. The Aerosol Index (AI) is a qualitative index indicating the presence of elevated layers of aerosols with significant absorption. The main aerosol types that cause signals detected in the AI are desert dust, biomass burning and volcanic ash plumes. An advantage of the AI is that it can be derived for clear as well as (partly) cloudy ground pixels.\n",
    "\n",
    "Let's revisit some air quality data from November 9th, 2018 - the day after the Woolsey fire started. You are provided the AI from Sentinel-5P (```data/2018-11-09-00_00_2018-11-09-23_59_Sentinel-5P_AER_AI_AER_AI_340_380_(Raw).tiff```) for the following area of interest:\n",
    "\n",
    "![_._](data/aoi.png)\n"
   ]
  },
  {
   "cell_type": "markdown",
   "metadata": {},
   "source": [
    "Complete and answer the following questions:\n",
    "1. Load the AI data for November 9th, 2018 (```data/2018-11-09-00_00_2018-11-09-23_59_Sentinel-5P_AER_AI_AER_AI_340_380_(Raw).tiff```) and visualize, including a colormap. What patterns do you see?\n",
    "2. Select two areas within the above area of interest box which is roughly around LA county. For example, we used the cities of Topanga and San Fernando in class last week. Select two different cities of your choice, and retrieve their geometries using the ```osmnx``` package. If you're not familiar with city names in LA county, go to Google Maps. \n",
    "3. Plot the retrieved polygons over the AI data to make sure both are within bounds of the AI data.\n",
    "4. Calculate the zonal statistics of both cities you selected, and display the max AI values for both cities. Which city had the higher AI? Does this coincide with what you visually observe?"
   ]
  }
 ],
 "metadata": {
  "kernelspec": {
   "display_name": "Python 3.10.8 ('traillop')",
   "language": "python",
   "name": "python3"
  },
  "language_info": {
   "codemirror_mode": {
    "name": "ipython",
    "version": 3
   },
   "file_extension": ".py",
   "mimetype": "text/x-python",
   "name": "python",
   "nbconvert_exporter": "python",
   "pygments_lexer": "ipython3",
   "version": "3.10.8"
  },
  "orig_nbformat": 4,
  "vscode": {
   "interpreter": {
    "hash": "31733d31b68f2bf33a40ef3744aa6e6dabc719cffbfa95fe2fcbd4a0d9e78042"
   }
  }
 },
 "nbformat": 4,
 "nbformat_minor": 2
}
